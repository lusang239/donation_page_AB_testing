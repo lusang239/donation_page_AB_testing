{
 "cells": [
  {
   "cell_type": "code",
   "execution_count": 1,
   "id": "ab68cd70",
   "metadata": {},
   "outputs": [],
   "source": [
    "# project: p5\n",
    "# submitter: chen2328\n",
    "# partner: none\n",
    "# hours: 15"
   ]
  },
  {
   "cell_type": "code",
   "execution_count": 2,
   "id": "9ea10585",
   "metadata": {},
   "outputs": [],
   "source": [
    "%load_ext autoreload\n",
    "%autoreload 2"
   ]
  },
  {
   "cell_type": "code",
   "execution_count": 3,
   "id": "ce95591b",
   "metadata": {},
   "outputs": [],
   "source": [
    "import zipfile\n",
    "import csv\n",
    "import io\n",
    "import pandas as pd\n",
    "import numpy as np\n",
    "import re\n",
    "from collections import defaultdict\n",
    "from edgar_utils import lookup_region, Filing"
   ]
  },
  {
   "cell_type": "code",
   "execution_count": 34,
   "id": "03c969c2",
   "metadata": {},
   "outputs": [],
   "source": [
    "with zipfile.ZipFile(\"server_log.zip\", \"r\") as zf:\n",
    "    with zf.open(\"rows.csv\", \"r\") as f:\n",
    "        data = pd.read_csv(f)"
   ]
  },
  {
   "cell_type": "markdown",
   "id": "b10e9389",
   "metadata": {},
   "source": [
    "### Q1: what's the total size in bytes of the files requested?"
   ]
  },
  {
   "cell_type": "code",
   "execution_count": 35,
   "id": "9a006aff",
   "metadata": {},
   "outputs": [
    {
     "data": {
      "text/plain": [
       "24801002666"
      ]
     },
     "execution_count": 35,
     "metadata": {},
     "output_type": "execute_result"
    }
   ],
   "source": [
    "#q1\n",
    "data['size'] = data['size'].apply(pd.to_numeric)\n",
    "int(sum(data['size']))"
   ]
  },
  {
   "cell_type": "code",
   "execution_count": 36,
   "id": "9f785419",
   "metadata": {},
   "outputs": [],
   "source": [
    "# data.groupby(\"ip\").size().sort_values(ascending=False)[:10]"
   ]
  },
  {
   "cell_type": "markdown",
   "id": "3c5ac54a",
   "metadata": {},
   "source": [
    "### Q2: how many filings have been accessed by the top ten IPs?"
   ]
  },
  {
   "cell_type": "code",
   "execution_count": 37,
   "id": "94480dba",
   "metadata": {},
   "outputs": [
    {
     "data": {
      "text/plain": [
       "{'54.152.17.ccg': 12562,\n",
       " '183.195.251.hah': 6524,\n",
       " '52.45.218.ihf': 5562,\n",
       " '68.180.231.abf': 5493,\n",
       " '204.212.175.bch': 4708,\n",
       " '103.238.106.gif': 4428,\n",
       " '208.77.215.jeh': 3903,\n",
       " '208.77.214.jeh': 3806,\n",
       " '217.174.255.dgd': 3551,\n",
       " '82.13.163.caf': 3527}"
      ]
     },
     "execution_count": 37,
     "metadata": {},
     "output_type": "execute_result"
    }
   ],
   "source": [
    "#q2\n",
    "topten_ip = data['ip'].value_counts().sort_values(ascending=False)[:10]\n",
    "topten_ip.to_dict()"
   ]
  },
  {
   "cell_type": "markdown",
   "id": "536f26fb",
   "metadata": {},
   "source": [
    "### Q3: what fraction of the requests had errors?"
   ]
  },
  {
   "cell_type": "code",
   "execution_count": 8,
   "id": "58e411a0",
   "metadata": {},
   "outputs": [
    {
     "data": {
      "text/plain": [
       "0.03466852724527611"
      ]
     },
     "execution_count": 8,
     "metadata": {},
     "output_type": "execute_result"
    }
   ],
   "source": [
    "#q3\n",
    "len(data[data['code'] >= 400]) / len(data)"
   ]
  },
  {
   "cell_type": "markdown",
   "id": "3c98223f",
   "metadata": {},
   "source": [
    "### Q4: what is the most frequently accessed file?"
   ]
  },
  {
   "cell_type": "code",
   "execution_count": 9,
   "id": "a9c90e11",
   "metadata": {},
   "outputs": [
    {
     "data": {
      "text/plain": [
       "'1627631/0001627631-15-000004/.txt'"
      ]
     },
     "execution_count": 9,
     "metadata": {},
     "output_type": "execute_result"
    }
   ],
   "source": [
    "#q4\n",
    "data['url'] = data['cik'].astype(int).astype(str) + '/'+ data['accession'] + '/' + data['extention']\n",
    "data['url'].value_counts().index[0]"
   ]
  },
  {
   "cell_type": "markdown",
   "id": "62e59421",
   "metadata": {},
   "source": [
    "### Q5: how many requests were made by automated crawlers?"
   ]
  },
  {
   "cell_type": "code",
   "execution_count": 10,
   "id": "392a7022",
   "metadata": {},
   "outputs": [
    {
     "data": {
      "text/plain": [
       "971"
      ]
     },
     "execution_count": 10,
     "metadata": {},
     "output_type": "execute_result"
    }
   ],
   "source": [
    "#q5\n",
    "crawler = data['crawler'].value_counts().sort_values(ascending=False)\n",
    "crawler.to_dict()\n",
    "crawler[1.0]"
   ]
  },
  {
   "cell_type": "markdown",
   "id": "db9bdace",
   "metadata": {},
   "source": [
    "### Q6: which region uses EDGAR most heavily?"
   ]
  },
  {
   "cell_type": "code",
   "execution_count": 11,
   "id": "8608fa98",
   "metadata": {},
   "outputs": [
    {
     "data": {
      "text/plain": [
       "'United States of America'"
      ]
     },
     "execution_count": 11,
     "metadata": {},
     "output_type": "execute_result"
    }
   ],
   "source": [
    "#q6\n",
    "data['region'] = data['ip'].apply(lookup_region)\n",
    "data['region'].value_counts().sort_values(ascending=False).index[0]"
   ]
  },
  {
   "cell_type": "markdown",
   "id": "e01525db",
   "metadata": {},
   "source": [
    "### Q7: what fraction of IPs in each region are high-volume users?"
   ]
  },
  {
   "cell_type": "code",
   "execution_count": 12,
   "id": "9d1d2f46",
   "metadata": {},
   "outputs": [],
   "source": [
    "total = (data.groupby('ip').size() > 1000)\n",
    "high_ip = total[total]"
   ]
  },
  {
   "cell_type": "code",
   "execution_count": 13,
   "id": "6a9eccde",
   "metadata": {},
   "outputs": [
    {
     "data": {
      "text/plain": [
       "United States of America                                26\n",
       "Ireland                                                  5\n",
       "China                                                    3\n",
       "United Kingdom of Great Britain and Northern Ireland     3\n",
       "India                                                    2\n",
       "Korea (Republic of)                                      2\n",
       "Canada                                                   1\n",
       "France                                                   1\n",
       "Bulgaria                                                 1\n",
       "Australia                                                1\n",
       "dtype: int64"
      ]
     },
     "execution_count": 13,
     "metadata": {},
     "output_type": "execute_result"
    }
   ],
   "source": [
    "total = (data['ip'].value_counts() > 1000)\n",
    "high = total[total]\n",
    "high_volumn_series = high.index.to_series().apply(lookup_region)\n",
    "high_volumn_series.value_counts()\n"
   ]
  },
  {
   "cell_type": "code",
   "execution_count": 14,
   "id": "9085e5be",
   "metadata": {},
   "outputs": [
    {
     "data": {
      "text/plain": [
       "United States of America                                1309\n",
       "China                                                    437\n",
       "France                                                   271\n",
       "Canada                                                    56\n",
       "United Kingdom of Great Britain and Northern Ireland      45\n",
       "                                                        ... \n",
       "Greece                                                     1\n",
       "Honduras                                                   1\n",
       "Croatia                                                    1\n",
       "Virgin Islands (British)                                   1\n",
       "Slovenia                                                   1\n",
       "Length: 72, dtype: int64"
      ]
     },
     "execution_count": 14,
     "metadata": {},
     "output_type": "execute_result"
    }
   ],
   "source": [
    "ip = total.index.to_series().apply(lookup_region)\n",
    "ip.value_counts()"
   ]
  },
  {
   "cell_type": "code",
   "execution_count": 15,
   "id": "9a636529",
   "metadata": {},
   "outputs": [
    {
     "data": {
      "text/plain": [
       "{'-': 0.0,\n",
       " 'Algeria': 0.0,\n",
       " 'Angola': 0.0,\n",
       " 'Armenia': 0.0,\n",
       " 'Australia': 0.07692307692307693,\n",
       " 'Austria': 0.0,\n",
       " 'Bangladesh': 0.0,\n",
       " 'Brazil': 0.0,\n",
       " 'Bulgaria': 0.3333333333333333,\n",
       " 'Canada': 0.017857142857142856,\n",
       " 'China': 0.006864988558352402,\n",
       " 'Croatia': 0.0,\n",
       " 'Cyprus': 0.0,\n",
       " 'Czechia': 0.0,\n",
       " 'Denmark': 0.0,\n",
       " 'Egypt': 0.0,\n",
       " 'Estonia': 0.0,\n",
       " 'Finland': 0.0,\n",
       " 'France': 0.0036900369003690036,\n",
       " 'Germany': 0.0,\n",
       " 'Greece': 0.0,\n",
       " 'Honduras': 0.0,\n",
       " 'Hong Kong': 0.0,\n",
       " 'Hungary': 0.0,\n",
       " 'India': 0.058823529411764705,\n",
       " 'Indonesia': 0.0,\n",
       " 'Iraq': 0.0,\n",
       " 'Ireland': 0.3125,\n",
       " 'Israel': 0.0,\n",
       " 'Italy': 0.0,\n",
       " 'Japan': 0.0,\n",
       " 'Jersey': 0.0,\n",
       " 'Jordan': 0.0,\n",
       " 'Korea (Republic of)': 0.2,\n",
       " 'Latvia': 0.0,\n",
       " 'Lebanon': 0.0,\n",
       " 'Liberia': 0.0,\n",
       " 'Luxembourg': 0.0,\n",
       " 'Malaysia': 0.0,\n",
       " 'Mexico': 0.0,\n",
       " 'Mongolia': 0.0,\n",
       " 'Morocco': 0.0,\n",
       " 'Netherlands': 0.0,\n",
       " 'Nigeria': 0.0,\n",
       " 'North Macedonia': 0.0,\n",
       " 'Pakistan': 0.0,\n",
       " 'Philippines': 0.0,\n",
       " 'Poland': 0.0,\n",
       " 'Portugal': 0.0,\n",
       " 'Romania': 0.0,\n",
       " 'Russian Federation': 0.0,\n",
       " 'Saudi Arabia': 0.0,\n",
       " 'Singapore': 0.0,\n",
       " 'Slovakia': 0.0,\n",
       " 'Slovenia': 0.0,\n",
       " 'South Africa': 0.0,\n",
       " 'Spain': 0.0,\n",
       " 'Sudan': 0.0,\n",
       " 'Sweden': 0.0,\n",
       " 'Switzerland': 0.0,\n",
       " 'Syrian Arab Republic': 0.0,\n",
       " 'Taiwan (Province of China)': 0.0,\n",
       " 'Tanzania, United Republic of': 0.0,\n",
       " 'Thailand': 0.0,\n",
       " 'Turkey': 0.0,\n",
       " 'Ukraine': 0.0,\n",
       " 'United Kingdom of Great Britain and Northern Ireland': 0.06666666666666667,\n",
       " 'United States of America': 0.019862490450725745,\n",
       " 'Venezuela (Bolivarian Republic of)': 0.0,\n",
       " 'Viet Nam': 0.0,\n",
       " 'Virgin Islands (British)': 0.0,\n",
       " 'Yemen': 0.0}"
      ]
     },
     "execution_count": 15,
     "metadata": {},
     "output_type": "execute_result"
    }
   ],
   "source": [
    "#q7\n",
    "(high_volumn_series.value_counts() / ip.value_counts()).fillna(0).to_dict()"
   ]
  },
  {
   "cell_type": "markdown",
   "id": "403a2c29",
   "metadata": {},
   "source": [
    "### Q8: what dates appear in the 850693/0000850693-07-000159/-index.htm file of docs.zip?"
   ]
  },
  {
   "cell_type": "code",
   "execution_count": 16,
   "id": "e78ca893",
   "metadata": {},
   "outputs": [],
   "source": [
    "filing_dict = {}\n",
    "with zipfile.ZipFile(\"docs.zip\", \"r\") as zf:\n",
    "       for name in zf.namelist():\n",
    "            if '.htm' in name or '.html' in name:\n",
    "                with zf.open(name, \"r\") as f:\n",
    "                    file = f.read()\n",
    "                    file = str(file, encoding='utf-8')\n",
    "                    value = Filing(file)\n",
    "                    filing_dict[name] = value"
   ]
  },
  {
   "cell_type": "code",
   "execution_count": 17,
   "id": "edd740c8",
   "metadata": {},
   "outputs": [
    {
     "data": {
      "text/plain": [
       "['2007-07-25', '2007-07-25', '2007-07-23']"
      ]
     },
     "execution_count": 17,
     "metadata": {},
     "output_type": "execute_result"
    }
   ],
   "source": [
    "#q8\n",
    "filing_dict['850693/0000850693-07-000159/-index.htm'].dates"
   ]
  },
  {
   "cell_type": "markdown",
   "id": "39f095e9",
   "metadata": {},
   "source": [
    "### Q9: what is the distribution of states for the filings in docs.zip?"
   ]
  },
  {
   "cell_type": "code",
   "execution_count": 18,
   "id": "4cac899b",
   "metadata": {},
   "outputs": [
    {
     "data": {
      "text/plain": [
       "{'CA': 91,\n",
       " 'NY': 83,\n",
       " 'TX': 64,\n",
       " 'MA': 30,\n",
       " 'PA': 25,\n",
       " 'IL': 25,\n",
       " 'CO': 25,\n",
       " 'NJ': 23,\n",
       " 'FL': 21,\n",
       " 'MN': 15,\n",
       " 'VA': 15,\n",
       " 'CT': 14,\n",
       " 'MD': 13,\n",
       " 'MI': 11,\n",
       " 'OH': 10,\n",
       " 'DE': 10,\n",
       " 'WI': 9,\n",
       " 'NC': 9,\n",
       " 'GA': 8,\n",
       " 'OK': 7,\n",
       " 'NV': 6,\n",
       " 'IA': 6,\n",
       " 'OX': 6,\n",
       " 'AZ': 5,\n",
       " 'KS': 5,\n",
       " 'UT': 5,\n",
       " 'TN': 4,\n",
       " 'MO': 4,\n",
       " 'IN': 4,\n",
       " 'WA': 3,\n",
       " 'WV': 2,\n",
       " 'OR': 2,\n",
       " 'LA': 2,\n",
       " 'NE': 2,\n",
       " 'KY': 2,\n",
       " 'AL': 1,\n",
       " 'SD': 1,\n",
       " 'MS': 1,\n",
       " 'VT': 1,\n",
       " 'ID': 1,\n",
       " 'AR': 1,\n",
       " 'NM': 1,\n",
       " 'DC': 1,\n",
       " 'ME': 1}"
      ]
     },
     "execution_count": 18,
     "metadata": {},
     "output_type": "execute_result"
    }
   ],
   "source": [
    "#q9\n",
    "state_dict = {}\n",
    "for key, value in filing_dict.items():\n",
    "    abb_code = value.state()\n",
    "    if abb_code:\n",
    "        if abb_code not in state_dict:\n",
    "            state_dict[abb_code] = 1\n",
    "        else:\n",
    "            state_dict[abb_code] += 1\n",
    "\n",
    "number_state = pd.Series(state_dict)\n",
    "number_state.sort_values(ascending=False).to_dict()"
   ]
  },
  {
   "cell_type": "markdown",
   "id": "b8a60832",
   "metadata": {},
   "source": [
    "### Q10: what is the distribution of SIC codes for the filings in docs.zip?"
   ]
  },
  {
   "cell_type": "code",
   "execution_count": 19,
   "id": "45b1fc40",
   "metadata": {},
   "outputs": [
    {
     "data": {
      "text/plain": [
       "{2834: 40,\n",
       " 6021: 20,\n",
       " 6798: 20,\n",
       " 6022: 20,\n",
       " 1311: 20,\n",
       " 1389: 19,\n",
       " 6211: 17,\n",
       " 6189: 17,\n",
       " 2836: 13,\n",
       " 7389: 11,\n",
       " 7372: 11,\n",
       " 6029: 11,\n",
       " 1000: 11,\n",
       " 6331: 10,\n",
       " 4911: 8,\n",
       " 6282: 8,\n",
       " 6199: 8,\n",
       " 2860: 8,\n",
       " 7370: 7,\n",
       " 3841: 6,\n",
       " 7371: 6,\n",
       " 3674: 5,\n",
       " 900: 5,\n",
       " 4931: 5,\n",
       " 3826: 5,\n",
       " 4522: 5,\n",
       " 1700: 5,\n",
       " 8742: 5,\n",
       " 6035: 4,\n",
       " 4813: 4,\n",
       " 3842: 4,\n",
       " 2510: 4,\n",
       " 3663: 4,\n",
       " 7374: 4,\n",
       " 5812: 4,\n",
       " 3420: 3,\n",
       " 6799: 3,\n",
       " 3510: 3,\n",
       " 8062: 3,\n",
       " 1400: 3,\n",
       " 3829: 3,\n",
       " 2800: 3,\n",
       " 7200: 3,\n",
       " 7373: 3,\n",
       " 6221: 3,\n",
       " 3576: 3,\n",
       " 3620: 3,\n",
       " 3845: 2,\n",
       " 2810: 2,\n",
       " 1382: 2,\n",
       " 4512: 2,\n",
       " 7812: 2,\n",
       " 3690: 2,\n",
       " 3679: 2,\n",
       " 5661: 2,\n",
       " 7900: 2,\n",
       " 5065: 2,\n",
       " 4812: 2,\n",
       " 3621: 2,\n",
       " 5122: 2,\n",
       " 3661: 2,\n",
       " 3577: 2,\n",
       " 1040: 2,\n",
       " 2870: 2,\n",
       " 1531: 2,\n",
       " 6141: 2,\n",
       " 3272: 2,\n",
       " 3695: 2,\n",
       " 3825: 2,\n",
       " 2111: 2,\n",
       " 8731: 2,\n",
       " 3559: 2,\n",
       " 5172: 2,\n",
       " 4922: 2,\n",
       " 4841: 2,\n",
       " 5500: 2,\n",
       " 1731: 2,\n",
       " 6324: 2,\n",
       " 6321: 2,\n",
       " 8082: 2,\n",
       " 5940: 2,\n",
       " 3990: 2,\n",
       " 5900: 2,\n",
       " 7830: 2,\n",
       " 6311: 2,\n",
       " 3669: 2,\n",
       " 1221: 2,\n",
       " 8711: 2,\n",
       " 5030: 1,\n",
       " 6792: 1,\n",
       " 5961: 1,\n",
       " 3827: 1,\n",
       " 1381: 1,\n",
       " 2780: 1,\n",
       " 3443: 1,\n",
       " 3630: 1,\n",
       " 5990: 1,\n",
       " 8200: 1,\n",
       " 7990: 1,\n",
       " 2273: 1,\n",
       " 7363: 1,\n",
       " 5731: 1,\n",
       " 2750: 1,\n",
       " 3678: 1,\n",
       " 2820: 1,\n",
       " 5311: 1,\n",
       " 4213: 1,\n",
       " 3672: 1,\n",
       " 4955: 1,\n",
       " 8090: 1,\n",
       " 7841: 1,\n",
       " 6500: 1,\n",
       " 5531: 1,\n",
       " 2430: 1,\n",
       " 3442: 1,\n",
       " 5651: 1,\n",
       " 7340: 1,\n",
       " 2790: 1,\n",
       " 6036: 1,\n",
       " 6111: 1,\n",
       " 5945: 1,\n",
       " 3590: 1,\n",
       " 3312: 1,\n",
       " 2670: 1,\n",
       " 3714: 1,\n",
       " 4924: 1,\n",
       " 7350: 1,\n",
       " 6099: 1,\n",
       " 2030: 1,\n",
       " 2080: 1,\n",
       " 2024: 1,\n",
       " 7822: 1,\n",
       " 6200: 1,\n",
       " 7381: 1,\n",
       " 7320: 1,\n",
       " 4941: 1,\n",
       " 5621: 1,\n",
       " 5960: 1,\n",
       " 7330: 1,\n",
       " 5944: 1,\n",
       " 5160: 1,\n",
       " 7384: 1,\n",
       " 4833: 1,\n",
       " 6770: 1,\n",
       " 8051: 1,\n",
       " 2070: 1,\n",
       " 3550: 1,\n",
       " 2320: 1,\n",
       " 6411: 1,\n",
       " 3140: 1,\n",
       " 2711: 1,\n",
       " 3578: 1,\n",
       " 3711: 1,\n",
       " 6513: 1,\n",
       " 3571: 1,\n",
       " 7361: 1,\n",
       " 2911: 1,\n",
       " 4412: 1,\n",
       " 8093: 1,\n",
       " 3537: 1,\n",
       " 2890: 1,\n",
       " 3490: 1,\n",
       " 3944: 1,\n",
       " 2842: 1,\n",
       " 3585: 1,\n",
       " 3730: 1,\n",
       " 3721: 1,\n",
       " 2033: 1,\n",
       " 3317: 1,\n",
       " 7311: 1,\n",
       " 3541: 1,\n",
       " 100: 1,\n",
       " 4899: 1,\n",
       " 1623: 1}"
      ]
     },
     "execution_count": 19,
     "metadata": {},
     "output_type": "execute_result"
    }
   ],
   "source": [
    "#q10\n",
    "sic_dict = {}\n",
    "for key, value in filing_dict.items():\n",
    "    sic = value.sic\n",
    "    if sic:\n",
    "        if sic not in sic_dict:\n",
    "            sic_dict[sic] = 1\n",
    "        else:\n",
    "            sic_dict[sic] += 1\n",
    "\n",
    "number_sic = pd.Series(sic_dict)\n",
    "number_sic.sort_values(ascending=False).to_dict()"
   ]
  },
  {
   "cell_type": "markdown",
   "id": "441a5967",
   "metadata": {},
   "source": [
    "## Part 4: combining logs with documents\n",
    "### Q11: what is the distribution of requests across industries?"
   ]
  },
  {
   "cell_type": "code",
   "execution_count": 20,
   "id": "591503d1",
   "metadata": {},
   "outputs": [
    {
     "data": {
      "text/plain": [
       "{2834: 984,\n",
       " 1389: 656,\n",
       " 1311: 550,\n",
       " 2836: 429,\n",
       " 6022: 379,\n",
       " 1000: 273,\n",
       " 6211: 237,\n",
       " 7371: 229,\n",
       " 2860: 226,\n",
       " 6021: 204,\n",
       " 2510: 171,\n",
       " 6282: 171,\n",
       " 3825: 164,\n",
       " 4841: 108,\n",
       " 5621: 99,\n",
       " 7200: 94,\n",
       " 7374: 94,\n",
       " 6331: 91,\n",
       " 5311: 90,\n",
       " 6798: 90,\n",
       " 3842: 87,\n",
       " 6221: 85,\n",
       " 6029: 83,\n",
       " 3272: 81,\n",
       " 3829: 73,\n",
       " 4931: 70,\n",
       " 3510: 66,\n",
       " 7830: 62,\n",
       " 3826: 56,\n",
       " 3695: 55,\n",
       " 3620: 50,\n",
       " 7373: 48,\n",
       " 6799: 46,\n",
       " 4412: 43,\n",
       " 4512: 42,\n",
       " 7340: 40,\n",
       " 900: 39,\n",
       " 7370: 39,\n",
       " 3621: 38,\n",
       " 6513: 38,\n",
       " 5172: 36,\n",
       " 4213: 35,\n",
       " 5900: 35,\n",
       " 3990: 34,\n",
       " 5122: 34,\n",
       " 2070: 33,\n",
       " 5944: 33,\n",
       " 8090: 32,\n",
       " 1700: 31,\n",
       " 4922: 31,\n",
       " 3312: 31,\n",
       " 1381: 31,\n",
       " 6324: 30,\n",
       " 8742: 27,\n",
       " 7389: 26,\n",
       " 8731: 25,\n",
       " 7812: 25,\n",
       " 3590: 24,\n",
       " 3663: 23,\n",
       " 4955: 23,\n",
       " 4522: 22,\n",
       " 6321: 21,\n",
       " 3559: 20,\n",
       " 6792: 19,\n",
       " 5812: 19,\n",
       " 6189: 18,\n",
       " 7372: 16,\n",
       " 3841: 14,\n",
       " 6199: 11,\n",
       " 1731: 11,\n",
       " 4911: 8,\n",
       " 6035: 7,\n",
       " 4833: 7,\n",
       " 2430: 6,\n",
       " 3571: 6,\n",
       " 3674: 5,\n",
       " 3679: 5,\n",
       " 4813: 4,\n",
       " 4812: 4,\n",
       " 3678: 4,\n",
       " 5500: 4,\n",
       " 1531: 4,\n",
       " 6411: 3,\n",
       " 3576: 3,\n",
       " 8062: 3,\n",
       " 2800: 3,\n",
       " 3420: 3,\n",
       " 1400: 3,\n",
       " 2111: 2,\n",
       " 7900: 2,\n",
       " 5661: 2,\n",
       " 6141: 2,\n",
       " 5940: 2,\n",
       " 1221: 2,\n",
       " 8082: 2,\n",
       " 3661: 2,\n",
       " 1040: 2,\n",
       " 6770: 2,\n",
       " 3690: 2,\n",
       " 5065: 2,\n",
       " 3577: 2,\n",
       " 2870: 2,\n",
       " 8711: 2,\n",
       " 3669: 2,\n",
       " 1382: 2,\n",
       " 2810: 2,\n",
       " 2890: 2,\n",
       " 3845: 2,\n",
       " 6311: 2,\n",
       " 6111: 1,\n",
       " 2780: 1,\n",
       " 2033: 1,\n",
       " 2790: 1,\n",
       " 5030: 1,\n",
       " 3537: 1,\n",
       " 3630: 1,\n",
       " 2024: 1,\n",
       " 7381: 1,\n",
       " 100: 1,\n",
       " 3443: 1,\n",
       " 7363: 1,\n",
       " 5160: 1,\n",
       " 3730: 1,\n",
       " 6200: 1,\n",
       " 3585: 1,\n",
       " 1623: 1,\n",
       " 3550: 1,\n",
       " 4924: 1,\n",
       " 6036: 1,\n",
       " 3711: 1,\n",
       " 4899: 1,\n",
       " 2273: 1,\n",
       " 3827: 1,\n",
       " 2820: 1,\n",
       " 7384: 1,\n",
       " 6099: 1,\n",
       " 7320: 1,\n",
       " 2842: 1,\n",
       " 2750: 1,\n",
       " 7311: 1,\n",
       " 5990: 1,\n",
       " 8093: 1,\n",
       " 3578: 1,\n",
       " 3714: 1,\n",
       " 2030: 1,\n",
       " 5531: 1,\n",
       " 5731: 1,\n",
       " 3721: 1,\n",
       " 2670: 1,\n",
       " 2911: 1,\n",
       " 7990: 1,\n",
       " 7350: 1,\n",
       " 2711: 1,\n",
       " 3541: 1,\n",
       " 2080: 1,\n",
       " 8200: 1,\n",
       " 2320: 1,\n",
       " 5651: 1,\n",
       " 3672: 1,\n",
       " 5945: 1,\n",
       " 6500: 1,\n",
       " 7361: 1,\n",
       " 4941: 1,\n",
       " 7330: 1,\n",
       " 3442: 1,\n",
       " 3490: 1,\n",
       " 5961: 1,\n",
       " 7841: 1,\n",
       " 3140: 1,\n",
       " 7822: 1,\n",
       " 5960: 1,\n",
       " 3944: 1,\n",
       " 8051: 1,\n",
       " 3317: 1}"
      ]
     },
     "execution_count": 20,
     "metadata": {},
     "output_type": "execute_result"
    }
   ],
   "source": [
    "#q11\n",
    "logs_lst = data['url'].to_list()\n",
    "sic_dict = defaultdict(int)\n",
    "for file in logs_lst:\n",
    "    if file in filing_dict:\n",
    "        file_obj = filing_dict[file]\n",
    "        sic = file_obj.sic\n",
    "        if sic:\n",
    "            sic_dict[sic] += 1\n",
    "\n",
    "sic_series = pd.Series(sic_dict)\n",
    "#sic_series.sort_values(ascending=False)[:10].to_dict()\n",
    "sic_series.sort_values(ascending=False).to_dict()"
   ]
  },
  {
   "cell_type": "markdown",
   "id": "17d83690",
   "metadata": {},
   "source": [
    "### Q12: how many requests were made in each hour?"
   ]
  },
  {
   "cell_type": "code",
   "execution_count": 21,
   "id": "db2771e2",
   "metadata": {},
   "outputs": [
    {
     "data": {
      "text/plain": [
       "{0: 8305,\n",
       " 1: 8242,\n",
       " 2: 8550,\n",
       " 3: 8850,\n",
       " 4: 8343,\n",
       " 5: 9783,\n",
       " 6: 7761,\n",
       " 7: 8213,\n",
       " 8: 8292,\n",
       " 9: 11033,\n",
       " 10: 6377,\n",
       " 11: 6435,\n",
       " 12: 6155,\n",
       " 13: 6006,\n",
       " 14: 6654,\n",
       " 15: 6512,\n",
       " 16: 5680,\n",
       " 17: 6487,\n",
       " 18: 6356,\n",
       " 19: 6211,\n",
       " 20: 6066,\n",
       " 21: 6164,\n",
       " 22: 6098,\n",
       " 23: 6283}"
      ]
     },
     "execution_count": 21,
     "metadata": {},
     "output_type": "execute_result"
    }
   ],
   "source": [
    "#q12\n",
    "data['time'] = pd.to_datetime(data['time'])\n",
    "data['hour'] = data['time'].dt.hour\n",
    "data.groupby('hour').size().to_dict()"
   ]
  },
  {
   "cell_type": "markdown",
   "id": "85e93427",
   "metadata": {},
   "source": [
    "### Q13: what is the geographic overlap in interest between Australia, France, and Viet Nam?"
   ]
  },
  {
   "cell_type": "code",
   "execution_count": 22,
   "id": "7397e960",
   "metadata": {},
   "outputs": [],
   "source": [
    "from graphviz import Digraph, Graph"
   ]
  },
  {
   "cell_type": "code",
   "execution_count": 23,
   "id": "6bde65a7",
   "metadata": {},
   "outputs": [],
   "source": [
    "g = Digraph()"
   ]
  },
  {
   "cell_type": "code",
   "execution_count": 24,
   "id": "298839a6",
   "metadata": {},
   "outputs": [],
   "source": [
    "q13_table = data.loc[(data['region'] == 'Australia') | (data['region'] == 'France') | (data['region'] == 'Viet Nam')]\n",
    "q13_table = q13_table.sort_values(by=['region'])"
   ]
  },
  {
   "cell_type": "code",
   "execution_count": 25,
   "id": "3c183fe0",
   "metadata": {},
   "outputs": [
    {
     "data": {
      "image/svg+xml": [
       "<?xml version=\"1.0\" encoding=\"UTF-8\" standalone=\"no\"?>\n",
       "<!DOCTYPE svg PUBLIC \"-//W3C//DTD SVG 1.1//EN\"\n",
       " \"http://www.w3.org/Graphics/SVG/1.1/DTD/svg11.dtd\">\n",
       "<!-- Generated by graphviz version 2.43.0 (0)\n",
       " -->\n",
       "<!-- Title: %3 Pages: 1 -->\n",
       "<svg width=\"358pt\" height=\"116pt\"\n",
       " viewBox=\"0.00 0.00 357.59 116.00\" xmlns=\"http://www.w3.org/2000/svg\" xmlns:xlink=\"http://www.w3.org/1999/xlink\">\n",
       "<g id=\"graph0\" class=\"graph\" transform=\"scale(1 1) rotate(0) translate(4 112)\">\n",
       "<title>%3</title>\n",
       "<polygon fill=\"white\" stroke=\"transparent\" points=\"-4,4 -4,-112 353.59,-112 353.59,4 -4,4\"/>\n",
       "<!-- Australia -->\n",
       "<g id=\"node1\" class=\"node\">\n",
       "<title>Australia</title>\n",
       "<ellipse fill=\"none\" stroke=\"black\" cx=\"52.65\" cy=\"-90\" rx=\"52.79\" ry=\"18\"/>\n",
       "<text text-anchor=\"middle\" x=\"52.65\" y=\"-86.3\" font-family=\"Times,serif\" font-size=\"14.00\">Australia</text>\n",
       "</g>\n",
       "<!-- NY -->\n",
       "<g id=\"node2\" class=\"node\">\n",
       "<title>NY</title>\n",
       "<ellipse fill=\"none\" stroke=\"black\" cx=\"52.65\" cy=\"-18\" rx=\"27\" ry=\"18\"/>\n",
       "<text text-anchor=\"middle\" x=\"52.65\" y=\"-14.3\" font-family=\"Times,serif\" font-size=\"14.00\">NY</text>\n",
       "</g>\n",
       "<!-- Australia&#45;&gt;NY -->\n",
       "<g id=\"edge1\" class=\"edge\">\n",
       "<title>Australia&#45;&gt;NY</title>\n",
       "<path fill=\"none\" stroke=\"black\" d=\"M52.65,-71.7C52.65,-63.98 52.65,-54.71 52.65,-46.11\"/>\n",
       "<polygon fill=\"black\" stroke=\"black\" points=\"56.15,-46.1 52.65,-36.1 49.15,-46.1 56.15,-46.1\"/>\n",
       "</g>\n",
       "<!-- France -->\n",
       "<g id=\"node3\" class=\"node\">\n",
       "<title>France</title>\n",
       "<ellipse fill=\"none\" stroke=\"black\" cx=\"166.65\" cy=\"-90\" rx=\"42.79\" ry=\"18\"/>\n",
       "<text text-anchor=\"middle\" x=\"166.65\" y=\"-86.3\" font-family=\"Times,serif\" font-size=\"14.00\">France</text>\n",
       "</g>\n",
       "<!-- CA -->\n",
       "<g id=\"node4\" class=\"node\">\n",
       "<title>CA</title>\n",
       "<ellipse fill=\"none\" stroke=\"black\" cx=\"230.65\" cy=\"-18\" rx=\"27\" ry=\"18\"/>\n",
       "<text text-anchor=\"middle\" x=\"230.65\" y=\"-14.3\" font-family=\"Times,serif\" font-size=\"14.00\">CA</text>\n",
       "</g>\n",
       "<!-- France&#45;&gt;CA -->\n",
       "<g id=\"edge2\" class=\"edge\">\n",
       "<title>France&#45;&gt;CA</title>\n",
       "<path fill=\"none\" stroke=\"black\" d=\"M181.49,-72.76C190.08,-63.37 201.02,-51.41 210.39,-41.15\"/>\n",
       "<polygon fill=\"black\" stroke=\"black\" points=\"213.03,-43.46 217.19,-33.72 207.86,-38.74 213.03,-43.46\"/>\n",
       "</g>\n",
       "<!-- NJ -->\n",
       "<g id=\"node5\" class=\"node\">\n",
       "<title>NJ</title>\n",
       "<ellipse fill=\"none\" stroke=\"black\" cx=\"158.65\" cy=\"-18\" rx=\"27\" ry=\"18\"/>\n",
       "<text text-anchor=\"middle\" x=\"158.65\" y=\"-14.3\" font-family=\"Times,serif\" font-size=\"14.00\">NJ</text>\n",
       "</g>\n",
       "<!-- France&#45;&gt;NJ -->\n",
       "<g id=\"edge3\" class=\"edge\">\n",
       "<title>France&#45;&gt;NJ</title>\n",
       "<path fill=\"none\" stroke=\"black\" d=\"M164.67,-71.7C163.79,-63.98 162.73,-54.71 161.74,-46.11\"/>\n",
       "<polygon fill=\"black\" stroke=\"black\" points=\"165.21,-45.64 160.6,-36.1 158.26,-46.44 165.21,-45.64\"/>\n",
       "</g>\n",
       "<!-- Viet Nam -->\n",
       "<g id=\"node6\" class=\"node\">\n",
       "<title>Viet Nam</title>\n",
       "<ellipse fill=\"none\" stroke=\"black\" cx=\"295.65\" cy=\"-90\" rx=\"53.89\" ry=\"18\"/>\n",
       "<text text-anchor=\"middle\" x=\"295.65\" y=\"-86.3\" font-family=\"Times,serif\" font-size=\"14.00\">Viet Nam</text>\n",
       "</g>\n",
       "<!-- Viet Nam&#45;&gt;CA -->\n",
       "<g id=\"edge5\" class=\"edge\">\n",
       "<title>Viet Nam&#45;&gt;CA</title>\n",
       "<path fill=\"none\" stroke=\"black\" d=\"M280.24,-72.41C271.71,-63.22 260.98,-51.67 251.69,-41.66\"/>\n",
       "<polygon fill=\"black\" stroke=\"black\" points=\"253.98,-38.98 244.61,-34.04 248.85,-43.75 253.98,-38.98\"/>\n",
       "</g>\n",
       "<!-- VA -->\n",
       "<g id=\"node7\" class=\"node\">\n",
       "<title>VA</title>\n",
       "<ellipse fill=\"none\" stroke=\"black\" cx=\"302.65\" cy=\"-18\" rx=\"27\" ry=\"18\"/>\n",
       "<text text-anchor=\"middle\" x=\"302.65\" y=\"-14.3\" font-family=\"Times,serif\" font-size=\"14.00\">VA</text>\n",
       "</g>\n",
       "<!-- Viet Nam&#45;&gt;VA -->\n",
       "<g id=\"edge4\" class=\"edge\">\n",
       "<title>Viet Nam&#45;&gt;VA</title>\n",
       "<path fill=\"none\" stroke=\"black\" d=\"M297.38,-71.7C298.15,-63.98 299.07,-54.71 299.93,-46.11\"/>\n",
       "<polygon fill=\"black\" stroke=\"black\" points=\"303.42,-46.4 300.93,-36.1 296.46,-45.71 303.42,-46.4\"/>\n",
       "</g>\n",
       "</g>\n",
       "</svg>\n"
      ],
      "text/plain": [
       "<graphviz.graphs.Digraph at 0x7f3c24822100>"
      ]
     },
     "execution_count": 25,
     "metadata": {},
     "output_type": "execute_result"
    }
   ],
   "source": [
    "#q13\n",
    "\n",
    "match_dict = {}\n",
    "for i in range(len(q13_table)):\n",
    "    if q13_table['url'].iloc[i] in filing_dict:\n",
    "        country = q13_table['region'].iloc[i]\n",
    "        file = q13_table['url'].iloc[i]\n",
    "        state = filing_dict[file].state()\n",
    "        # if have the edge between those two, don't add\n",
    "        if country in match_dict and state in match_dict[country]:\n",
    "            pass\n",
    "        else:\n",
    "            g.node(country)\n",
    "            g.node(state)\n",
    "            g.edge(country, state)\n",
    "            # add new country to the dict\n",
    "            if len(match_dict) == 0 or country not in match_dict:\n",
    "                match_dict[country] = [state]\n",
    "            # append state code to country already in dict\n",
    "            if len(match_dict[country]) > 0:\n",
    "                match_dict[country].append(state)\n",
    "\n",
    "g"
   ]
  },
  {
   "cell_type": "markdown",
   "id": "a82cb8e3",
   "metadata": {},
   "source": [
    "### Q14: what are the most commonly seen street addresses?"
   ]
  },
  {
   "cell_type": "code",
   "execution_count": 26,
   "id": "586d3ed6",
   "metadata": {},
   "outputs": [
    {
     "data": {
      "text/plain": [
       "{'801 CHERRY STREET\\nSUITE 2100\\nFORT WORTH TX 76102': 720,\n",
       " '801 CHERRY STREET\\nSUITE 2100\\nFORT WORTH TX 76102\\n817-334-4100': 464,\n",
       " '1114 AVENUE OF THE AMERICAS\\n29TH FLOOR\\nNEW YORK NY 10036': 356,\n",
       " '1 SANSOME ST\\n30TH FL\\nSAN FRANCISCO CA 94104': 305,\n",
       " '10119 W. LARIAT LANE\\nPEORIA AZ 85383': 289,\n",
       " '10119 W. LARIAT LANE\\nPEORIA AZ 85383\\n425-442-0931': 289,\n",
       " '1881 GROVE AVENUE\\nRADFORD VA 24141': 277,\n",
       " '1 SANSOME ST\\n30TH FL\\nSAN FRANCISCO CA 94104\\n3125066500': 264,\n",
       " '1251 AVENUE OF THE AMERICAS\\nNEW YORK NY 10020': 225,\n",
       " '1251 AVENUE OF THE AMERICAS\\nNEW YORK NY 10020\\n212-956-2221': 225,\n",
       " '1177 WEST HASTINGS STREET\\nSUITE 2300\\nVANCOUVER A1 V6E 2K3': 225,\n",
       " '1177 WEST HASTINGS STREET\\nSUITE 2300\\nVANCOUVER A1 V6E 2K3\\n604-683-6332': 225}"
      ]
     },
     "execution_count": 26,
     "metadata": {},
     "output_type": "execute_result"
    }
   ],
   "source": [
    "#q14\n",
    "add_dict = defaultdict(int)\n",
    "for log in logs_lst:\n",
    "    if log in filing_dict:\n",
    "        obj = filing_dict[log]\n",
    "        addresses = obj.addresses\n",
    "        for add in addresses:\n",
    "            add_dict[add] += 1 \n",
    "\n",
    "add_series = pd.Series(add_dict).sort_values(ascending=False)\n",
    "add_series[add_series >= 225].to_dict()"
   ]
  },
  {
   "cell_type": "markdown",
   "id": "77f08aea",
   "metadata": {},
   "source": [
    "### Q15: geographic plotting of headquarters"
   ]
  },
  {
   "cell_type": "code",
   "execution_count": 27,
   "id": "d952533c",
   "metadata": {},
   "outputs": [],
   "source": [
    "import geopandas as gpd\n",
    "from shapely.geometry import Polygon, box, Point"
   ]
  },
  {
   "cell_type": "code",
   "execution_count": 28,
   "id": "0f2760c0",
   "metadata": {},
   "outputs": [],
   "source": [
    "us_df = gpd.read_file(\"shapes/cb_2018_us_state_20m.shp\")"
   ]
  },
  {
   "cell_type": "code",
   "execution_count": 29,
   "id": "3fe08c10",
   "metadata": {},
   "outputs": [],
   "source": [
    "us_window = box(-130, 20, -55, 50)\n",
    "#us_window = box(-130, -55, 20, 50)\n",
    "us = us_df.intersection(us_window)\n",
    "us = us[~us.is_empty]\n",
    "us = us.to_crs(\"epsg:3395\")"
   ]
  },
  {
   "cell_type": "code",
   "execution_count": 30,
   "id": "bffd9b85",
   "metadata": {},
   "outputs": [],
   "source": [
    "add_df = gpd.read_file('locations.geojson').to_crs(us.crs)"
   ]
  },
  {
   "cell_type": "code",
   "execution_count": 31,
   "id": "184e579f",
   "metadata": {},
   "outputs": [],
   "source": [
    "add_df['frequency_of_requests'] = add_df['address'].map(add_dict)"
   ]
  },
  {
   "cell_type": "code",
   "execution_count": 32,
   "id": "f899cb5b",
   "metadata": {},
   "outputs": [
    {
     "data": {
      "text/html": [
       "<div>\n",
       "<style scoped>\n",
       "    .dataframe tbody tr th:only-of-type {\n",
       "        vertical-align: middle;\n",
       "    }\n",
       "\n",
       "    .dataframe tbody tr th {\n",
       "        vertical-align: top;\n",
       "    }\n",
       "\n",
       "    .dataframe thead th {\n",
       "        text-align: right;\n",
       "    }\n",
       "</style>\n",
       "<table border=\"1\" class=\"dataframe\">\n",
       "  <thead>\n",
       "    <tr style=\"text-align: right;\">\n",
       "      <th></th>\n",
       "      <th>address</th>\n",
       "      <th>geometry</th>\n",
       "      <th>frequency_of_requests</th>\n",
       "    </tr>\n",
       "  </thead>\n",
       "  <tbody>\n",
       "    <tr>\n",
       "      <th>0</th>\n",
       "      <td>245 SUMMER STREET\\nBOSTON MA 02210</td>\n",
       "      <td>POINT (-7909666.216 5184949.861)</td>\n",
       "      <td>6</td>\n",
       "    </tr>\n",
       "    <tr>\n",
       "      <th>1</th>\n",
       "      <td>100 PINE STREET\\nSUITE 2800\\nSAN FRANCISCO CA ...</td>\n",
       "      <td>POINT (-13625396.803 4523993.966)</td>\n",
       "      <td>1</td>\n",
       "    </tr>\n",
       "    <tr>\n",
       "      <th>2</th>\n",
       "      <td>1401 17TH STREET\\nSUITE 1000\\nDENVER CO 80202</td>\n",
       "      <td>POINT (-11688221.447 4802519.965)</td>\n",
       "      <td>93</td>\n",
       "    </tr>\n",
       "    <tr>\n",
       "      <th>3</th>\n",
       "      <td>10550 TALBERT AVENUE\\nFOUNTAIN VALLEY CA 92708</td>\n",
       "      <td>POINT (-13129225.770 3964944.976)</td>\n",
       "      <td>1</td>\n",
       "    </tr>\n",
       "    <tr>\n",
       "      <th>4</th>\n",
       "      <td>388 GREENWICH ST\\n38TH FLOOR\\nNEW YORK NY 10013</td>\n",
       "      <td>POINT (-8238885.993 4943342.642)</td>\n",
       "      <td>19</td>\n",
       "    </tr>\n",
       "  </tbody>\n",
       "</table>\n",
       "</div>"
      ],
      "text/plain": [
       "                                             address  \\\n",
       "0                 245 SUMMER STREET\\nBOSTON MA 02210   \n",
       "1  100 PINE STREET\\nSUITE 2800\\nSAN FRANCISCO CA ...   \n",
       "2      1401 17TH STREET\\nSUITE 1000\\nDENVER CO 80202   \n",
       "3     10550 TALBERT AVENUE\\nFOUNTAIN VALLEY CA 92708   \n",
       "4    388 GREENWICH ST\\n38TH FLOOR\\nNEW YORK NY 10013   \n",
       "\n",
       "                            geometry  frequency_of_requests  \n",
       "0   POINT (-7909666.216 5184949.861)                      6  \n",
       "1  POINT (-13625396.803 4523993.966)                      1  \n",
       "2  POINT (-11688221.447 4802519.965)                     93  \n",
       "3  POINT (-13129225.770 3964944.976)                      1  \n",
       "4   POINT (-8238885.993 4943342.642)                     19  "
      ]
     },
     "execution_count": 32,
     "metadata": {},
     "output_type": "execute_result"
    }
   ],
   "source": [
    "add_df.head()"
   ]
  },
  {
   "cell_type": "code",
   "execution_count": 33,
   "id": "3c0164ed",
   "metadata": {},
   "outputs": [
    {
     "data": {
      "text/plain": [
       "<AxesSubplot:>"
      ]
     },
     "execution_count": 33,
     "metadata": {},
     "output_type": "execute_result"
    },
    {
     "data": {
      "image/png": "[encoded data removed]",
      "text/plain": [
       "<Figure size 864x432 with 2 Axes>"
      ]
     },
     "metadata": {
      "needs_background": "light"
     },
     "output_type": "display_data"
    }
   ],
   "source": [
    "#q15\n",
    "ax = us.plot(color=\"lightgray\", figsize=(12,6))\n",
    "ax.set_xlim((-1.4*1e7, -0.7*1e7))\n",
    "ax.set_ylim((2.5*1e6, 6.5*1e6))\n",
    "add_df.plot(column='frequency_of_requests', cmap='plasma', legend=True, ax=ax)\n"
   ]
  },
  {
   "cell_type": "code",
   "execution_count": null,
   "id": "f117893b",
   "metadata": {},
   "outputs": [],
   "source": []
  }
 ],
 "metadata": {
  "kernelspec": {
   "display_name": "Python 3 (ipykernel)",
   "language": "python",
   "name": "python3"
  },
  "language_info": {
   "codemirror_mode": {
    "name": "ipython",
    "version": 3
   },
   "file_extension": ".py",
   "mimetype": "text/x-python",
   "name": "python",
   "nbconvert_exporter": "python",
   "pygments_lexer": "ipython3",
   "version": "3.8.10"
  }
 },
 "nbformat": 4,
 "nbformat_minor": 5
}

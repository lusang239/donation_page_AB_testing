{
 "cells": [
  {
   "cell_type": "code",
   "execution_count": 1,
   "id": "1fd2553d",
   "metadata": {},
   "outputs": [],
   "source": [
    "# project: p1\n",
    "# submitter: chen2328\n",
    "# partner: none\n",
    "# hours: 10"
   ]
  },
  {
   "cell_type": "code",
   "execution_count": 2,
   "id": "09cccfdd",
   "metadata": {},
   "outputs": [
    {
     "data": {
      "text/plain": [
       "float"
      ]
     },
     "execution_count": 2,
     "metadata": {},
     "output_type": "execute_result"
    }
   ],
   "source": [
    "#q1\n",
    "type(7/2)"
   ]
  },
  {
   "cell_type": "code",
   "execution_count": 3,
   "id": "7d5cc3bb",
   "metadata": {},
   "outputs": [
    {
     "data": {
      "text/plain": [
       "True"
      ]
     },
     "execution_count": 3,
     "metadata": {},
     "output_type": "execute_result"
    }
   ],
   "source": [
    "#q2\n",
    "x = 4\n",
    "maximum = 10\n",
    "minimum = 5\n",
    "error = x not in range(5,10) # True if x is outside the minimum-to-maximum range\n",
    "error"
   ]
  },
  {
   "cell_type": "code",
   "execution_count": 4,
   "id": "49481fbd",
   "metadata": {},
   "outputs": [
    {
     "data": {
      "text/plain": [
       "True"
      ]
     },
     "execution_count": 4,
     "metadata": {},
     "output_type": "execute_result"
    }
   ],
   "source": [
    "#q3\n",
    "word = \"KAFKAESQUE\"\n",
    "suffix_match = word[5:].lower() == 'esque' # .endswith(...) method not allowed for this question! (practice slicing)\n",
    "suffix_match"
   ]
  },
  {
   "cell_type": "code",
   "execution_count": 5,
   "id": "1d1ce078",
   "metadata": {},
   "outputs": [
    {
     "data": {
      "text/plain": [
       "7"
      ]
     },
     "execution_count": 5,
     "metadata": {},
     "output_type": "execute_result"
    }
   ],
   "source": [
    "#q4\n",
    "def add(x1, x2=1):\n",
    "    return x1+x2\n",
    "add(3,4)"
   ]
  },
  {
   "cell_type": "code",
   "execution_count": 6,
   "id": "f89045f2",
   "metadata": {},
   "outputs": [
    {
     "data": {
      "text/plain": [
       "10"
      ]
     },
     "execution_count": 6,
     "metadata": {},
     "output_type": "execute_result"
    }
   ],
   "source": [
    "#q5\n",
    "add(9)"
   ]
  },
  {
   "cell_type": "code",
   "execution_count": 7,
   "id": "3d444202",
   "metadata": {},
   "outputs": [
    {
     "data": {
      "text/plain": [
       "'positive'"
      ]
     },
     "execution_count": 7,
     "metadata": {},
     "output_type": "execute_result"
    }
   ],
   "source": [
    "#q6\n",
    "x = 4\n",
    "if x < 0:\n",
    "    status = \"negative\"\n",
    "elif x > 0:\n",
    "    status = \"positive\"\n",
    "else:\n",
    "    status = \"zero\"\n",
    "status"
   ]
  },
  {
   "cell_type": "code",
   "execution_count": 8,
   "id": "c09b4a6f",
   "metadata": {},
   "outputs": [],
   "source": [
    "def smart_count(nums):\n",
    "    ans = 0\n",
    "    for i in nums:\n",
    "        if i > 10:\n",
    "            continue\n",
    "        elif i < 0:\n",
    "            break\n",
    "        else:\n",
    "            ans += i\n",
    "    return ans"
   ]
  },
  {
   "cell_type": "code",
   "execution_count": 9,
   "id": "6405a03e",
   "metadata": {},
   "outputs": [
    {
     "data": {
      "text/plain": [
       "14"
      ]
     },
     "execution_count": 9,
     "metadata": {},
     "output_type": "execute_result"
    }
   ],
   "source": [
    "#q7\n",
    "nums = [3, 4, 1, 6]\n",
    "\n",
    "smart_count(nums)"
   ]
  },
  {
   "cell_type": "code",
   "execution_count": 10,
   "id": "3fc31d59",
   "metadata": {},
   "outputs": [
    {
     "data": {
      "text/plain": [
       "6"
      ]
     },
     "execution_count": 10,
     "metadata": {},
     "output_type": "execute_result"
    }
   ],
   "source": [
    "#q8 \n",
    "smart_count([2, 1, 11, 3, 15, -1, 8, 2])"
   ]
  },
  {
   "cell_type": "code",
   "execution_count": 11,
   "id": "c356f561",
   "metadata": {},
   "outputs": [
    {
     "data": {
      "text/plain": [
       "[[1, 6, {'x': 8, 'y': 5}],\n",
       " [3, 4, {'x': 9, 'y': 2}],\n",
       " [5, 2, {'x': 3, 'y': 1, 'z': 3.14}]]"
      ]
     },
     "execution_count": 11,
     "metadata": {},
     "output_type": "execute_result"
    }
   ],
   "source": [
    "#q9\n",
    "header = [\"A\", \"B\", \"C\"]\n",
    "\n",
    "coord1 = {\"x\": 8, \"y\": 5}\n",
    "coord2 = {\"x\": 9, \"y\": 2}\n",
    "coord3 = {\"x\": 3, \"y\": 1}\n",
    "\n",
    "rows = [\n",
    "    [1, 6, coord1],\n",
    "    [3, 4, coord2],\n",
    "    [5, 2, coord3],\n",
    "]\n",
    "\n",
    "coord3[\"z\"] = 3.14\n",
    "rows"
   ]
  },
  {
   "cell_type": "code",
   "execution_count": 12,
   "id": "f608522e",
   "metadata": {},
   "outputs": [
    {
     "data": {
      "text/plain": [
       "8"
      ]
     },
     "execution_count": 12,
     "metadata": {},
     "output_type": "execute_result"
    }
   ],
   "source": [
    "#q10\n",
    "rows[0][-1]['x']"
   ]
  },
  {
   "cell_type": "code",
   "execution_count": 13,
   "id": "65d510cb",
   "metadata": {},
   "outputs": [
    {
     "data": {
      "text/plain": [
       "[[1, 6, {'x': 8, 'y': 5}],\n",
       " [3, 9999, {'x': 9, 'y': 2}],\n",
       " [5, 2, {'x': 3, 'y': 1, 'z': 3.14}]]"
      ]
     },
     "execution_count": 13,
     "metadata": {},
     "output_type": "execute_result"
    }
   ],
   "source": [
    "#q11\n",
    "import copy\n",
    "v2 = copy.copy(rows)\n",
    "v2[0] = 8888    # first change\n",
    "v2[1][1] = 9999 # second change\n",
    "rows"
   ]
  },
  {
   "cell_type": "code",
   "execution_count": 14,
   "id": "eb746927",
   "metadata": {},
   "outputs": [
    {
     "data": {
      "text/plain": [
       "10007"
      ]
     },
     "execution_count": 14,
     "metadata": {},
     "output_type": "execute_result"
    }
   ],
   "source": [
    "#q12\n",
    "total = 0\n",
    "for i in range(len(rows)):\n",
    "    total += rows[i][header.index('B')]\n",
    "total"
   ]
  },
  {
   "cell_type": "code",
   "execution_count": 15,
   "id": "776e95d4",
   "metadata": {},
   "outputs": [
    {
     "data": {
      "text/plain": [
       "[[5, 2, {'x': 3, 'y': 1, 'z': 3.14}],\n",
       " [1, 6, {'x': 8, 'y': 5}],\n",
       " [3, 9999, {'x': 9, 'y': 2}]]"
      ]
     },
     "execution_count": 15,
     "metadata": {},
     "output_type": "execute_result"
    }
   ],
   "source": [
    "#q13\n",
    "rows.sort(key=lambda row: row[header.index(\"B\")], reverse=False)\n",
    "rows"
   ]
  },
  {
   "cell_type": "code",
   "execution_count": 16,
   "id": "510b2b43",
   "metadata": {},
   "outputs": [
    {
     "name": "stdout",
     "output_type": "stream",
     "text": [
      "<class 'str'>\n",
      "{\"eur\":{\"code\":\"EUR\",\"alphaCode\":\"EUR\",\"numericCode\":\"978\",\"name\":\"Euro\",\"rate\":0.87247211399168,\"date\":\"Sun, 6 Feb 2022 11:55:01 GMT\",\"inverseRate\":1.1461684378941},\"gbp\":{\"code\":\"GBP\",\"alphaCode\":\"GBP\",\"numericCode\":\"826\",\"name\":\"U.K. Pound Sterling\",\"rate\":0.73726210930731,\"date\":\"Sun, 6 Feb 2022 11:55:01 GMT\",\"inverseRate\":1.3563697189586},\"jpy\":{\"code\":\"JPY\",\"alphaCode\":\"JPY\",\"numericCode\":\"392\",\"name\":\"Japanese Yen\",\"rate\":114.97731798247,\"date\":\"Sun, 6 Feb 2022 11:55:01 GMT\",\"inverseRate\"...\n"
     ]
    }
   ],
   "source": [
    "\n",
    "f = open(\"usd.json\")\n",
    "data = f.read()\n",
    "print(type(data))\n",
    "print(data[:500] + \"...\")"
   ]
  },
  {
   "cell_type": "code",
   "execution_count": 17,
   "id": "efbcd9e3",
   "metadata": {},
   "outputs": [
    {
     "data": {
      "text/plain": [
       "348.9888455966696"
      ]
     },
     "execution_count": 17,
     "metadata": {},
     "output_type": "execute_result"
    }
   ],
   "source": [
    "#q14\n",
    "import json\n",
    "f = open(\"usd.json\")\n",
    "data = json.load(f)\n",
    "for k, v in data['eur'].items():\n",
    "    if k == 'rate':\n",
    "        rate =v \n",
    "ans = 400 / v\n",
    "ans"
   ]
  },
  {
   "cell_type": "code",
   "execution_count": 18,
   "id": "6aeeb785",
   "metadata": {},
   "outputs": [
    {
     "data": {
      "text/plain": [
       "1.5"
      ]
     },
     "execution_count": 18,
     "metadata": {},
     "output_type": "execute_result"
    }
   ],
   "source": [
    "#q15\n",
    "def divide(x, y):\n",
    "    try:\n",
    "        result = x / y\n",
    "    except ZeroDivisionError:\n",
    "        return float(\"nan\")\n",
    "    return result\n",
    "divide(3,2)\n",
    "        \n"
   ]
  },
  {
   "cell_type": "code",
   "execution_count": 19,
   "id": "4450fe36",
   "metadata": {},
   "outputs": [
    {
     "data": {
      "text/plain": [
       "nan"
      ]
     },
     "execution_count": 19,
     "metadata": {},
     "output_type": "execute_result"
    }
   ],
   "source": [
    "#q16\n",
    "divide(-3,0)"
   ]
  },
  {
   "cell_type": "code",
   "execution_count": 20,
   "id": "0ee1687a",
   "metadata": {},
   "outputs": [],
   "source": [
    "import os\n",
    "import pandas as pd\n",
    "path = 'home-computers'\n",
    "dirs = os.listdir(path)\n",
    "\n",
    "years = {}\n",
    "for file in dirs:\n",
    "    years[int(file.split('.')[0][-4:])] = pd.read_csv(path + '/' + file, skiprows=1).set_index(\"Geographic Area Name\")"
   ]
  },
  {
   "cell_type": "code",
   "execution_count": 21,
   "id": "523baaa1",
   "metadata": {},
   "outputs": [
    {
     "data": {
      "text/plain": [
       "[2013, 2014, 2015, 2016, 2017, 2018]"
      ]
     },
     "execution_count": 21,
     "metadata": {},
     "output_type": "execute_result"
    }
   ],
   "source": [
    "#q17\n",
    "lst = []\n",
    "for key in years:\n",
    "    lst.append(key)\n",
    "lst.sort()\n",
    "lst"
   ]
  },
  {
   "cell_type": "code",
   "execution_count": 22,
   "id": "afb69452",
   "metadata": {},
   "outputs": [
    {
     "data": {
      "text/plain": [
       "2371960"
      ]
     },
     "execution_count": 22,
     "metadata": {},
     "output_type": "execute_result"
    }
   ],
   "source": [
    "#q18\n",
    "years[2018].loc['Wisconsin']['Estimate!!Total']"
   ]
  },
  {
   "cell_type": "code",
   "execution_count": 23,
   "id": "eb2cbeb4",
   "metadata": {},
   "outputs": [
    {
     "data": {
      "text/plain": [
       "10285814"
      ]
     },
     "execution_count": 23,
     "metadata": {},
     "output_type": "execute_result"
    }
   ],
   "source": [
    "#q19\n",
    "years[2018].loc[:]['Estimate!!Total!!No Computer'].sum()"
   ]
  },
  {
   "cell_type": "code",
   "execution_count": 24,
   "id": "e63d5ed2",
   "metadata": {},
   "outputs": [
    {
     "data": {
      "text/plain": [
       "0.12375641594322287"
      ]
     },
     "execution_count": 24,
     "metadata": {},
     "output_type": "execute_result"
    }
   ],
   "source": [
    "#q20\n",
    "ans = years[2018].loc[:]['Margin of Error!!Total!!No Computer'] / years[2018].loc[:]['Estimate!!Total!!No Computer']\n",
    "ans.max()"
   ]
  },
  {
   "cell_type": "code",
   "execution_count": 25,
   "id": "b5c6e9c1",
   "metadata": {},
   "outputs": [
    {
     "data": {
      "text/plain": [
       "{'Illinois': 8.524143737625552,\n",
       " 'Indiana': 9.463486214247707,\n",
       " 'Iowa': 9.468929459023103,\n",
       " 'Michigan': 8.936374942955922,\n",
       " 'Minnesota': 7.491847623005652,\n",
       " 'Wisconsin': 9.582497175331794}"
      ]
     },
     "execution_count": 25,
     "metadata": {},
     "output_type": "execute_result"
    }
   ],
   "source": [
    "#q21\n",
    "state_lst = ['Illinois', 'Indiana', 'Iowa', 'Michigan', 'Minnesota', 'Wisconsin']\n",
    "dic = {}\n",
    "total = years[2018].loc[:]['Estimate!!Total'].sum()\n",
    "\n",
    "for state in state_lst:\n",
    "    dic[state] = years[2018].loc[state]['Estimate!!Total!!No Computer'] / years[2018].loc[state]['Estimate!!Total'] * 100\n",
    "\n",
    "dic"
   ]
  },
  {
   "cell_type": "code",
   "execution_count": 26,
   "id": "51bc3abc",
   "metadata": {},
   "outputs": [
    {
     "data": {
      "text/plain": [
       "<AxesSubplot:xlabel='Geographic Area Name', ylabel='% of Households w/o Computers'>"
      ]
     },
     "execution_count": 26,
     "metadata": {},
     "output_type": "execute_result"
    },
    {
     "data": {
      "image/png": "[encoded data removed]",
      "text/plain": [
       "<Figure size 432x288 with 1 Axes>"
      ]
     },
     "metadata": {
      "needs_background": "light"
     },
     "output_type": "display_data"
    }
   ],
   "source": [
    "#q22\n",
    "dic = pd.Series(dic)\n",
    "dic.plot.bar(xlabel='Geographic Area Name', ylabel='% of Households w/o Computers')\n"
   ]
  },
  {
   "cell_type": "code",
   "execution_count": 27,
   "id": "0861d35f",
   "metadata": {},
   "outputs": [
    {
     "data": {
      "text/plain": [
       "<AxesSubplot:xlabel='Year', ylabel='WI Households without Computers(thousands)'>"
      ]
     },
     "execution_count": 27,
     "metadata": {},
     "output_type": "execute_result"
    },
    {
     "data": {
      "image/png": "[encoded data removed]",
      "text/plain": [
       "<Figure size 432x288 with 1 Axes>"
      ]
     },
     "metadata": {
      "needs_background": "light"
     },
     "output_type": "display_data"
    }
   ],
   "source": [
    "#q23\n",
    "# question\n",
    "wi_dic = {}\n",
    "for key, value in years.items():\n",
    "    wi_dic[key] = years[key].loc['Wisconsin']['Estimate!!Total!!No Computer'] / 1000\n",
    "\n",
    "wi_dic = pd.Series(wi_dic).sort_index()\n",
    "wi_dic.plot.line(xlabel='Year', ylabel='WI Households without Computers(thousands)', yticks=[0, 100, 200, 300])"
   ]
  },
  {
   "cell_type": "code",
   "execution_count": 28,
   "id": "abc469bb",
   "metadata": {},
   "outputs": [
    {
     "data": {
      "text/plain": [
       "<AxesSubplot:xlabel='Smartphone (millions)', ylabel='Tablets (millions)'>"
      ]
     },
     "execution_count": 28,
     "metadata": {},
     "output_type": "execute_result"
    },
    {
     "data": {
      "image/png": "[encoded data removed]",
      "text/plain": [
       "<Figure size 432x288 with 1 Axes>"
      ]
     },
     "metadata": {
      "needs_background": "light"
     },
     "output_type": "display_data"
    }
   ],
   "source": [
    "#q24\n",
    "df = years[2018]\n",
    "df.plot.scatter(x='Estimate!!Total!!Has one or more types of computing devices!!Smartphone', \n",
    "                y='Estimate!!Total!!Has one or more types of computing devices!!Tablet or other portable wireless computer',\n",
    "                xlabel='Smartphone (millions)',\n",
    "                ylabel='Tablets (millions)')"
   ]
  },
  {
   "cell_type": "code",
   "execution_count": 29,
   "id": "5f0f119e",
   "metadata": {},
   "outputs": [
    {
     "name": "stderr",
     "output_type": "stream",
     "text": [
      "Already on 'main'\n"
     ]
    },
    {
     "data": {
      "text/plain": [
       "'commit 660994efc761efdfd49ca442b73f6712dc77b6cf'"
      ]
     },
     "execution_count": 29,
     "metadata": {},
     "output_type": "execute_result"
    }
   ],
   "source": [
    "#q25\n",
    "from subprocess import check_output\n",
    "\n",
    "check_output([\"git\", \"checkout\", \"main\"], cwd='/home/chenyenchun/s22/p1/flask')\n",
    "output = check_output([\"git\", \"log\"], cwd='/home/chenyenchun/s22/p1/flask')\n",
    "str_output = str(output, encoding=\"utf-8\").split('\\n')\n",
    "str_output[0]\n"
   ]
  },
  {
   "cell_type": "code",
   "execution_count": 30,
   "id": "6d1076ef",
   "metadata": {},
   "outputs": [
    {
     "name": "stderr",
     "output_type": "stream",
     "text": [
      "Already on 'main'\n"
     ]
    },
    {
     "data": {
      "text/plain": [
       "['7b5015010bc8c2a2d56c7c50b37e5b9facdad102',\n",
       " '40e0024d7b87150ed694829a5335bd2435962225',\n",
       " '6dd92ae4b32c336564231e10db12458a8b9261ca',\n",
       " '1246f4088a4fdc00a79f8029ff5d77bfe4fc9b14',\n",
       " 'c4f5c2fb9afc1679c085500830bd53fab93ad885',\n",
       " '1d8432ebfd1637eacab79a15e9b7963bf061371c',\n",
       " 'fc94599285aa1aec50b3c9426697249e55edda0a',\n",
       " 'c33675f0251071ea47ce166b81ce8c637842f091',\n",
       " '2d9bb692728fd76b19e467499caa4f5fcb07aede',\n",
       " 'ca520fb7e4c29afccc637e61c11429a0f3e8d5ad',\n",
       " '08f1f0dc32004fae01cf96d1eed84e6461e698e5',\n",
       " '8009bd986940378bba1399dbfce90d03e441467b',\n",
       " 'a42728568e18bedf588be2357b56021ab85b9fad',\n",
       " '959b5df00431c436474c5abca304e631c0de7721',\n",
       " '4affedec356ad8c9e6a107578f03fc7f5c615064',\n",
       " 'de03143f6ecf9a36dd32f16f07309c64d4de03b0',\n",
       " 'a01e8b49ca66608f0bd46134ff02deeb5724c799',\n",
       " '36071ca1f42a26ef327e9d14e4909a8c92cd4fae',\n",
       " '51c9829a9cdfa2bf301431f686d7a404cc7c5083',\n",
       " '2f5a4f8dbc832b0daebcd66ea8b3969589191fa7',\n",
       " '03148dba6b26a2694da1d466584f50189c52e7b3',\n",
       " 'ef524f2cfd65377b3b9ce896e7a710472b13c0f6',\n",
       " 'f2dc38cda61f76c64b97ab9f730accc986a4b188',\n",
       " '03168a5d53457fdb8676a4ac9fca0f76a23c6852',\n",
       " '0b8e01b4450d0ba8cb65751d866568fddc155fa4',\n",
       " '6a3a046f55755f0691568431e68a8bfea8d89df0',\n",
       " 'd78b04a3fca8d8887382606897d4a97e55062fda',\n",
       " '4671429a509094f36e2294055340197091d39979',\n",
       " '4e7aa9e7f7a86ee0ea4b6801694c13151518cb52',\n",
       " '85ca089dde8814c4a42ad4574cddce25d60e5e25',\n",
       " '8171da88a49eba769d313a51591ee8575be59762',\n",
       " 'df929c6c77ea5490a969275e45075c29711a498c',\n",
       " '574e81f9c8bbdc41958e1e7a7613633b091101f8',\n",
       " '1fff3e598126a084348ec2c112fdd3bc6b9a1ee0',\n",
       " '05f36c7f7e2df36ee28f90d99632162579b1287c',\n",
       " '4e1b3e1134eb478563bc434d794085d0a412cb84',\n",
       " '8e9bd5f009bb8756a2a7d76a4b792323eeee49d6',\n",
       " '9dfab582d065521e9350327801ed2c5ced1c8fa1',\n",
       " '3d719f35f5c1ee4ce3dc01fb2167ef49c0180cf6',\n",
       " '7d6b8e9ab3e738d69e39ad53a7c0f6a552d5284a',\n",
       " 'a9d4ea81da28ee9c894bf9d45adc4cfa9d52fddc',\n",
       " '727c701686c18c4a27ca523eb0c5862d497be24e',\n",
       " '4edec48b74dbb9d571e927b69b24c30ec0624975',\n",
       " '625eba4bb403296a8bbc1e72cc9cf4a5126f6c02',\n",
       " '4aa76212d1be9b17a57249549c2a73fb10b6cda8',\n",
       " '3b36bef2e6165bb4dad73d17f23ee1879e99f497',\n",
       " '44b42e0fbd93d86e0f4e929bda8e5fb63e81035d',\n",
       " '4ec7d2a0d8eac4f915dc0d38a886cd57045bb0c4',\n",
       " 'b15ad394279fc3b7f998fa56857f334a7c0156f6',\n",
       " '33850c0ebd23ae615e6823993d441f46d80b1ff0']"
      ]
     },
     "execution_count": 30,
     "metadata": {},
     "output_type": "execute_result"
    }
   ],
   "source": [
    "#q26\n",
    "check_output([\"git\", \"checkout\", \"main\"], cwd='/home/chenyenchun/s22/p1/flask')\n",
    "lst = []\n",
    "for s in str_output:\n",
    "    if s[:6] == 'commit':\n",
    "        lst.append(s.split(' ')[1])\n",
    "        \n",
    "lst[-50:]\n"
   ]
  },
  {
   "cell_type": "code",
   "execution_count": 3,
   "id": "f1f558c2",
   "metadata": {},
   "outputs": [
    {
     "ename": "NameError",
     "evalue": "name 'lst' is not defined",
     "output_type": "error",
     "traceback": [
      "\u001b[0;31m---------------------------------------------------------------------------\u001b[0m",
      "\u001b[0;31mNameError\u001b[0m                                 Traceback (most recent call last)",
      "Input \u001b[0;32mIn [3]\u001b[0m, in \u001b[0;36m<module>\u001b[0;34m\u001b[0m\n\u001b[0;32m----> 1\u001b[0m commit_id \u001b[38;5;241m=\u001b[39m \u001b[43mlst\u001b[49m[\u001b[38;5;241m-\u001b[39m\u001b[38;5;241m3\u001b[39m]\n\u001b[1;32m      2\u001b[0m commit_id\n\u001b[1;32m      3\u001b[0m checkout_output \u001b[38;5;241m=\u001b[39m check_output([\u001b[38;5;124m\"\u001b[39m\u001b[38;5;124mgit\u001b[39m\u001b[38;5;124m\"\u001b[39m, \u001b[38;5;124m\"\u001b[39m\u001b[38;5;124mcheckout\u001b[39m\u001b[38;5;124m\"\u001b[39m, commit_id], cwd\u001b[38;5;241m=\u001b[39m\u001b[38;5;124m'\u001b[39m\u001b[38;5;124m/home/chenyenchun/s22/p1/flask\u001b[39m\u001b[38;5;124m'\u001b[39m)\n",
      "\u001b[0;31mNameError\u001b[0m: name 'lst' is not defined"
     ]
    }
   ],
   "source": [
    "commit_id = lst[-3]\n",
    "commit_id\n",
    "checkout_output = check_output([\"git\", \"checkout\", commit_id], cwd='/home/chenyenchun/s22/p1/flask')"
   ]
  },
  {
   "cell_type": "code",
   "execution_count": 4,
   "id": "a28a980b",
   "metadata": {},
   "outputs": [
    {
     "ename": "FileNotFoundError",
     "evalue": "[Errno 2] No such file or directory: '/home/chenyenchun/s22/p1/flask/README'",
     "output_type": "error",
     "traceback": [
      "\u001b[0;31m---------------------------------------------------------------------------\u001b[0m",
      "\u001b[0;31mFileNotFoundError\u001b[0m                         Traceback (most recent call last)",
      "Input \u001b[0;32mIn [4]\u001b[0m, in \u001b[0;36m<module>\u001b[0;34m\u001b[0m\n\u001b[1;32m      1\u001b[0m \u001b[38;5;66;03m#q27\u001b[39;00m\n\u001b[0;32m----> 2\u001b[0m f \u001b[38;5;241m=\u001b[39m \u001b[38;5;28;43mopen\u001b[39;49m\u001b[43m(\u001b[49m\u001b[38;5;124;43m'\u001b[39;49m\u001b[38;5;124;43m/home/chenyenchun/s22/p1/flask/README\u001b[39;49m\u001b[38;5;124;43m'\u001b[39;49m\u001b[43m,\u001b[49m\u001b[43m \u001b[49m\u001b[38;5;124;43m'\u001b[39;49m\u001b[38;5;124;43mr\u001b[39;49m\u001b[38;5;124;43m'\u001b[39;49m\u001b[43m)\u001b[49m\n\u001b[1;32m      3\u001b[0m f\u001b[38;5;241m.\u001b[39mread()\n",
      "\u001b[0;31mFileNotFoundError\u001b[0m: [Errno 2] No such file or directory: '/home/chenyenchun/s22/p1/flask/README'"
     ]
    }
   ],
   "source": [
    "#q27\n",
    "f = open('/home/chenyenchun/s22/p1/flask/README', 'r')\n",
    "f.read()"
   ]
  },
  {
   "cell_type": "code",
   "execution_count": 33,
   "id": "25f87f55",
   "metadata": {},
   "outputs": [
    {
     "name": "stderr",
     "output_type": "stream",
     "text": [
      "Previous HEAD position was 4ec7d2a0 Started working on documentation.\n",
      "Switched to branch 'main'\n"
     ]
    }
   ],
   "source": [
    "\n",
    "check_output([\"git\", \"checkout\", \"main\"], cwd='/home/chenyenchun/s22/p1/flask')\n",
    "log_output = check_output([\"git\", \"log\"], cwd='/home/chenyenchun/s22/p1/flask')"
   ]
  },
  {
   "cell_type": "code",
   "execution_count": 34,
   "id": "b77e36f6",
   "metadata": {},
   "outputs": [
    {
     "data": {
      "text/plain": [
       "{'Yourun-proger': 2,\n",
       " 'olliemath': 1,\n",
       " 'pallets': 204,\n",
       " 'jugmac00': 1,\n",
       " 'pgjones': 14,\n",
       " 'eprigorodov': 1,\n",
       " 'HenryKobin': 1,\n",
       " 'delicb': 1,\n",
       " 'vinzid': 1,\n",
       " 'karintou8710': 1,\n",
       " 'kkirsche': 2,\n",
       " 'matipau': 1,\n",
       " 'Makonede': 1,\n",
       " 'sprutner': 1,\n",
       " 'Jalkhov': 1,\n",
       " 'KPLauritzen': 1,\n",
       " 'greyli': 42,\n",
       " 'esadek': 1,\n",
       " 'na2shell': 1,\n",
       " 'Rohan-Salwan': 1,\n",
       " 'default-303': 1,\n",
       " 'awijaya22': 1,\n",
       " 'starlightknown': 1,\n",
       " 'yuxiaoy1': 4,\n",
       " 'kaushikk25': 1,\n",
       " 'Elahi-cs': 1,\n",
       " 'Hugo0': 1,\n",
       " 'dannysepler': 1,\n",
       " 'rafaVls': 1,\n",
       " 'brettlangdon': 1,\n",
       " 'oleksis': 1,\n",
       " 'andrewjroth': 1,\n",
       " 'ThiefMaster': 11,\n",
       " 'kangetsu121': 1,\n",
       " 'mbpreble': 1,\n",
       " 'tonydelanuez': 1,\n",
       " 'elliott-king': 1,\n",
       " 'huimingz': 1,\n",
       " 'lielfr': 1,\n",
       " 'tirkarthi': 3,\n",
       " 'nphilipp': 1,\n",
       " 'WolframAlph': 1,\n",
       " 'MLH-Fellowship': 2,\n",
       " 'MartinThoma': 1,\n",
       " 'ebonnecab': 1,\n",
       " 'jackwardell': 3,\n",
       " 'jab': 3,\n",
       " 'DeepOde': 1,\n",
       " 'stat1c-void': 1,\n",
       " 'lgiordani': 1,\n",
       " 'iomintz': 1,\n",
       " 'jeffwidman': 8,\n",
       " 'kx-chen': 1,\n",
       " 'jeenuv': 1,\n",
       " 'pgkrit': 1,\n",
       " 'valleygtc': 1,\n",
       " 'shanavas786': 1,\n",
       " 'mattc41190': 2,\n",
       " 'gnumoksha': 1,\n",
       " 'kevinanew': 1,\n",
       " 'ongopongo': 1,\n",
       " 'frostming': 1,\n",
       " 'yingshaoxo': 1,\n",
       " 'candleindark': 3,\n",
       " 'gpakosz': 1,\n",
       " 'noviluni': 1,\n",
       " 'RDIL': 1,\n",
       " 'raymond-devries': 1,\n",
       " 'lathamfell': 1,\n",
       " 'erfanio': 1,\n",
       " 'Jamim': 1,\n",
       " 'homeworkprod': 3,\n",
       " 'thiagojobson': 1,\n",
       " 'haneybarg': 1,\n",
       " 'lamby': 1,\n",
       " 'decaz': 1,\n",
       " 'doronhorwitz': 1,\n",
       " 'seeksort': 1,\n",
       " 'hharutyunyan': 1,\n",
       " 'bearnun': 1,\n",
       " 'nathanmp': 1,\n",
       " 'gruentee': 1,\n",
       " 'Eido95': 1,\n",
       " 'arnavb': 1,\n",
       " 'csirmazbendeguz': 1,\n",
       " 'linchiwei123': 1,\n",
       " 'MakDon': 1,\n",
       " 'matrixise': 1,\n",
       " 'aadibajpai': 1,\n",
       " 'abhinavsagar': 2,\n",
       " 'asottile': 2,\n",
       " 'eladm26': 1,\n",
       " 'aligoren': 1,\n",
       " 'Vicolatope': 1,\n",
       " 'LBWright': 1,\n",
       " 'jon-stumpf': 1,\n",
       " 'paulgb': 1,\n",
       " 'cslecrone': 1,\n",
       " 'DiegoAlbertoTorres': 1,\n",
       " 'ultimecia7': 1,\n",
       " 'lordmauve': 4,\n",
       " 'scrosby': 1,\n",
       " 'rtilk89': 1,\n",
       " 'gokcegrbl': 1,\n",
       " 'johnzeringue': 1,\n",
       " 'tomowind': 1,\n",
       " 'fantix': 1,\n",
       " 'elbeardmorez': 1,\n",
       " 'doobeh': 3,\n",
       " 'rochacbruno': 2,\n",
       " 'singingwolfboy': 3,\n",
       " 'sharmaadarsh563': 1,\n",
       " 'vorelq': 1,\n",
       " 'shidenggui': 1,\n",
       " 'eruvanos': 1,\n",
       " 'qil026': 1,\n",
       " 'EtiennePelletier': 3,\n",
       " 'Lee-W': 1,\n",
       " 'icreatedanaccount': 1,\n",
       " 'DamianSkrzypczak': 1,\n",
       " 'brunoais': 1,\n",
       " 'mekarpeles': 1,\n",
       " 'vtbassmatt': 2,\n",
       " 'alecbrooks': 1,\n",
       " 'chivalry': 1,\n",
       " 'Tom-McDonald': 1,\n",
       " 'adamchainz': 1,\n",
       " 'Abdur-rahmaanJ': 1,\n",
       " 'JBonser': 1,\n",
       " 'jakseb': 1,\n",
       " 'RyanSquared': 1,\n",
       " 'jaydarius': 1,\n",
       " 'LindsayYoung': 1,\n",
       " 'pwlandoll': 1,\n",
       " 'zabbal': 1,\n",
       " 'tbm': 2,\n",
       " 'cclauss': 1,\n",
       " 'bbbbx': 1,\n",
       " 'taion': 1,\n",
       " 'garenchan': 8,\n",
       " 'IgnasiBosch': 1,\n",
       " 'eso31': 2,\n",
       " 'igortg': 1,\n",
       " 'stepharr': 1,\n",
       " 'nathanbegbie': 1,\n",
       " 'dougthor42': 1,\n",
       " 'onovy': 2,\n",
       " 'ExplodingCabbage': 1,\n",
       " 'RohanTalip': 1,\n",
       " 'jseldess': 1,\n",
       " 'colincadams': 1,\n",
       " 'alysivji': 1,\n",
       " 'mattrobenolt': 2,\n",
       " 'EJEP': 1,\n",
       " 'obestwalter': 1,\n",
       " 'CasterWxBlog': 1,\n",
       " 'data-get': 1,\n",
       " 'cykerway': 1,\n",
       " 'jarek': 1,\n",
       " 'codeaditya': 1,\n",
       " 'jangjunha': 1,\n",
       " 'tombusby': 1,\n",
       " 'loomchild': 1,\n",
       " 'cktan98': 1,\n",
       " 'jwflory': 1,\n",
       " 'jerr0328': 1,\n",
       " 'billfienberg': 1,\n",
       " 'gcrsaldanha': 3,\n",
       " 'jlara310': 2,\n",
       " 'quamilek': 1,\n",
       " 'schafle': 1,\n",
       " 'senarclens': 1,\n",
       " 'dayiguizhen': 1,\n",
       " 'bast': 1,\n",
       " 'tiagocoutinho': 1,\n",
       " 'briehanlombaard': 1,\n",
       " 'nicolaiarocci': 1,\n",
       " 'danielopitz': 1,\n",
       " 'mgalgs': 1,\n",
       " 'aaronchall': 1,\n",
       " 'dmarasquin': 1,\n",
       " 'red-alert': 1,\n",
       " 'jesseops': 1,\n",
       " 'Dunstrom': 1,\n",
       " 'kivS': 1,\n",
       " 'wimglenn': 1,\n",
       " 'filipefilardi': 1,\n",
       " 'pope1ni': 1,\n",
       " 'davidism': 45,\n",
       " 'fprocess': 1,\n",
       " 'zcchen': 1,\n",
       " 'anowlcalledjosh': 1,\n",
       " 'FadhelC': 1,\n",
       " 'Nickatak': 1,\n",
       " 'nsiregar': 1,\n",
       " 'accraze': 3,\n",
       " 'camilojimenez': 1,\n",
       " 'morenoh149': 1,\n",
       " 'proog': 1,\n",
       " 'domandinho': 1,\n",
       " 'BogdanAlexandru': 1,\n",
       " 'hugovk': 1,\n",
       " 'mrnom': 1,\n",
       " 'Caratpine': 1,\n",
       " 'ImgBotApp': 1,\n",
       " 'chuanma': 1,\n",
       " 'hallazzang': 1,\n",
       " 'brennv': 1,\n",
       " 'erebus1': 1,\n",
       " 'bijanvakili': 1,\n",
       " 'miguelgrinberg': 4,\n",
       " 'JohnMoutafis': 1,\n",
       " 'trirpi': 1,\n",
       " 'astralblue': 1,\n",
       " 'tony': 3,\n",
       " 'tristanfisher': 1,\n",
       " 'grantwwu': 1,\n",
       " 'jrbaez01': 1,\n",
       " 'wgwz': 2,\n",
       " 'HndrkMkt': 3,\n",
       " 'zevaverbach': 1,\n",
       " 'Ostrovski': 1,\n",
       " 'aqt01': 1,\n",
       " 'nnja': 1,\n",
       " 'zebpalmer': 1,\n",
       " 'D4D3VD4V3': 1,\n",
       " 'rzelayafavila': 1,\n",
       " 'dawran6': 7,\n",
       " 'markshannon': 1,\n",
       " 'leviroth': 1,\n",
       " 'bovarysme': 2,\n",
       " 'ka7eh': 1,\n",
       " 'cerickson': 1,\n",
       " 'neilvictorgrey': 1,\n",
       " 'sorech02': 1,\n",
       " 'MikeTheReader': 1,\n",
       " 'tullyrankin': 3,\n",
       " 'geoffreybauduin': 1,\n",
       " 'vioan': 1,\n",
       " 'runartrollet': 1,\n",
       " 'pigletfly': 1,\n",
       " 'Larivact': 1,\n",
       " 'jmsdvl': 1,\n",
       " 'liebald': 1,\n",
       " 'RaHus': 2,\n",
       " 'SergioDS': 1,\n",
       " 'rocambolesque': 1,\n",
       " 'antlarr': 1,\n",
       " 'asilversempirical': 1,\n",
       " 'edbrannin': 1,\n",
       " 'svenstaro': 4,\n",
       " 'swanhtet1992': 1,\n",
       " 'drewja': 1,\n",
       " 'ezramorris': 1,\n",
       " 'pablogamboa': 1,\n",
       " 'untitaker': 20,\n",
       " 'shakib609': 1,\n",
       " 'antsar': 3,\n",
       " 'avborhanian': 1,\n",
       " 'geusebi': 1,\n",
       " 'ryanbackman': 1,\n",
       " 'etothemanders': 1,\n",
       " 'hyunchel': 1,\n",
       " 'JamesTFarrington': 1,\n",
       " 'prachikhadke': 1,\n",
       " 'ben4ever': 1,\n",
       " 'cgoldberg': 1,\n",
       " 'sprin': 1,\n",
       " 'stephane': 1,\n",
       " 'gunbei': 1,\n",
       " 'AustenDSouza': 1,\n",
       " 'bdh1011': 1,\n",
       " 'welchbj': 1,\n",
       " 'erogers6264': 1,\n",
       " 'gaetan-petit': 1,\n",
       " 'homoSapiensSapiens': 1,\n",
       " 'jonafato': 1,\n",
       " 'ericdill': 1,\n",
       " 'pra85': 1,\n",
       " 'lord63-forks': 5,\n",
       " 'Akasurde': 1,\n",
       " 'nadavge': 1,\n",
       " 'nivm': 1,\n",
       " 'AvivC': 1,\n",
       " 'd0ugal': 1,\n",
       " 'redian': 2,\n",
       " 'JonasGroeger': 1,\n",
       " 'dthul': 1,\n",
       " 'Windfarer': 1,\n",
       " 'wodim': 1,\n",
       " 'hidavy': 1,\n",
       " 'msiyaj': 1,\n",
       " 'timofurrer': 2,\n",
       " 'mjhennig': 1,\n",
       " 'zevav': 1,\n",
       " 'lobeck': 2,\n",
       " 'WayneYe': 1,\n",
       " 'Aayush-Kasurde': 1,\n",
       " 'menghan': 1,\n",
       " 'Hardtack': 1,\n",
       " 'nvie': 1,\n",
       " 'jmcarp': 1,\n",
       " 'moonshadow': 2,\n",
       " 'justinwp': 1,\n",
       " 'nickjj': 1,\n",
       " 'ozbek': 1,\n",
       " 'Carreau': 1,\n",
       " 'fordhurley': 1,\n",
       " 'andyxning': 1,\n",
       " 'flying-sheep': 2,\n",
       " 'alexwlchan': 1,\n",
       " 'KWinston': 2,\n",
       " 'charleswhchan': 1,\n",
       " 'skybert': 1,\n",
       " 'cbron': 1,\n",
       " 'keyanp': 4,\n",
       " 'bsutherland': 1,\n",
       " 'idrisr': 1,\n",
       " 'ezyang': 1,\n",
       " 'cvrebert': 3,\n",
       " 'phouse512': 1,\n",
       " 'mypetyak': 1,\n",
       " 'cerivera': 1,\n",
       " 'brettgerry': 1,\n",
       " 'Parkayun': 1,\n",
       " 'sateeshkumarb': 1,\n",
       " 'nryoung': 1,\n",
       " 'mhall1': 1,\n",
       " 'methane': 5,\n",
       " 'jcomo': 1,\n",
       " 'iKevinY': 1,\n",
       " 'prakashpp': 1,\n",
       " 'msabramo': 2,\n",
       " 'pkuphy': 1,\n",
       " 'its-not-a-bug-its-a-feature': 1,\n",
       " 'Winnetou': 6,\n",
       " 'defuz': 6,\n",
       " 'flowerhack': 1,\n",
       " 's3rvac': 1,\n",
       " 'augiwan': 1,\n",
       " 'QuentinRoy': 1,\n",
       " 'davide-ceretti': 1,\n",
       " 'nluchs': 2,\n",
       " 'llimllib': 2,\n",
       " 'bdarnell': 1,\n",
       " 'k-funk': 1,\n",
       " 'pbu88': 3,\n",
       " 'kelvintaywl': 1,\n",
       " 'cgar': 2,\n",
       " 'boreq': 1,\n",
       " 'ajschumacher': 1,\n",
       " 'brwr': 1,\n",
       " 'kylepjohnson': 1,\n",
       " 'LiterallyElvis': 1,\n",
       " 'root-11': 1,\n",
       " 'thewhitetulip': 1,\n",
       " 'lord63': 3,\n",
       " 'milesrichardson': 1,\n",
       " 'nicorevin': 1,\n",
       " 'limeburst': 1,\n",
       " 'slater': 2,\n",
       " 'fengsp': 1,\n",
       " 'wxcafe': 1,\n",
       " 'hdformat': 1,\n",
       " 'smarkets': 1,\n",
       " 'brannerchinese': 1,\n",
       " 'SteelyWing': 1,\n",
       " 'kekumu': 1,\n",
       " 'bulatb': 1,\n",
       " 'IanConnolly': 2,\n",
       " 'shalabhaggarwal': 1,\n",
       " 'julen': 1,\n",
       " 'plumdog': 1,\n",
       " 'schlamar': 1,\n",
       " 'erikrose': 2,\n",
       " 'zakj': 1,\n",
       " 'atupal': 1,\n",
       " 'raimu': 1,\n",
       " 'mjfroehlich': 1,\n",
       " 'wvh': 3,\n",
       " 'obeattie': 1,\n",
       " 'xsleonard': 1,\n",
       " 'jmhobbs': 1,\n",
       " 'hntw': 1,\n",
       " 'enkore': 1,\n",
       " 'christophersu': 1,\n",
       " 'bikerm16': 1,\n",
       " 'mattskone': 1,\n",
       " 'Ivoz': 2,\n",
       " 'mikar': 1,\n",
       " 'kylestev': 1,\n",
       " 'dmackinnon': 1,\n",
       " 'yoloseem': 1,\n",
       " 'shamrin': 1,\n",
       " 'roskoff': 1,\n",
       " 'charlax': 1,\n",
       " 'grampajoe': 1,\n",
       " 'rsyring': 1,\n",
       " 'd3spis3d': 1,\n",
       " 'aphexcx': 1,\n",
       " 'zheller': 1,\n",
       " 'markhildreth': 1,\n",
       " 'bool-dev': 1,\n",
       " 'Spittie': 1,\n",
       " 'ahlen': 1,\n",
       " 'allevo': 1,\n",
       " 'ifiokjr': 1,\n",
       " 'nZac': 2,\n",
       " 'alexpearce': 1,\n",
       " 'martinp': 1,\n",
       " 'GCorbel': 1,\n",
       " 'skeuomorf': 1,\n",
       " 'pengfei-xue': 1,\n",
       " 'daybarr': 1,\n",
       " 'seancron': 1,\n",
       " 'talam': 1,\n",
       " 'jet-sun': 1,\n",
       " 'svieira': 2,\n",
       " 'wbowlin': 1,\n",
       " 'adamobeng': 1,\n",
       " 'mhils': 1,\n",
       " 'chason': 1,\n",
       " 'rpicard': 1,\n",
       " 'mgaitan': 1,\n",
       " 'BobStevens': 1,\n",
       " 'seedofjoy': 1,\n",
       " 'steko': 1,\n",
       " 'augustusdsouza': 1,\n",
       " 'marksteve': 1,\n",
       " 'ThomasWaldmann': 13,\n",
       " 'Turbo87': 1,\n",
       " 'lambdadi': 1,\n",
       " 'xealot': 1,\n",
       " 'edburnett': 1,\n",
       " 'halexus': 1,\n",
       " 'jsnmoon': 1,\n",
       " 'cenkalti': 1,\n",
       " 'akshar-raaj': 1,\n",
       " 'bruston': 1,\n",
       " 'SpOOnman': 1,\n",
       " 'poiati': 1,\n",
       " 'mikegagnon': 1,\n",
       " 'dmizelle': 1,\n",
       " 'alexcouper': 1,\n",
       " 'OrangeTux': 1,\n",
       " 'soulseekah': 2,\n",
       " 'trungly': 1,\n",
       " 'baijum': 1,\n",
       " 'maxcountryman': 3,\n",
       " 'schneems': 1,\n",
       " 'oliversong': 1,\n",
       " 'ghost': 1,\n",
       " 'MostAwesomeDude': 1,\n",
       " 'mizhi': 1,\n",
       " 'SimonSapin': 11,\n",
       " 'AkaiKitsune': 1,\n",
       " 'pinchsp': 1,\n",
       " 'd1ffuz0r': 1,\n",
       " 'finbarrocallaghan': 1,\n",
       " 'jfinkels': 4,\n",
       " 'rmacy': 1,\n",
       " 'ralphbean': 1,\n",
       " 'brousch': 2,\n",
       " 'joepie91': 1,\n",
       " 'alex-morega': 1,\n",
       " 'plaes': 2,\n",
       " 'PaulMcMillan': 3,\n",
       " 'yaph': 2,\n",
       " 'rdegges': 1,\n",
       " 'esaurito': 1,\n",
       " 'lvh': 1,\n",
       " 'dmishe': 2,\n",
       " 'alekzvik': 3,\n",
       " 'mattupstate': 1,\n",
       " 'bev-a-tron': 1,\n",
       " 'ekoka': 1,\n",
       " 'kuyan': 1,\n",
       " 'mapio': 1,\n",
       " 'kuyanatan': 1,\n",
       " 'florentx': 1,\n",
       " 'aisipos': 1,\n",
       " 'jtsoi': 1,\n",
       " 'tarruda': 1,\n",
       " 'vorobiov': 1,\n",
       " 'kisielk': 1,\n",
       " 'jparise': 1,\n",
       " 'passy': 1,\n",
       " 'iammookli': 1,\n",
       " 'garbados': 1,\n",
       " 'wilsaj': 2,\n",
       " 'jamesls': 2,\n",
       " 'dave-shawley': 1,\n",
       " 'kevinburke': 1,\n",
       " 'teebes': 1,\n",
       " 'mattd': 1,\n",
       " 'FND': 3,\n",
       " 'awsum': 1,\n",
       " 'jimrollenhagen': 1,\n",
       " 'Cixelyn': 1,\n",
       " 'rozza': 1,\n",
       " 'kracekumar': 1,\n",
       " 'jperras': 1,\n",
       " 'embe': 3,\n",
       " 'ametaireau': 1,\n",
       " 's0undt3ch': 1,\n",
       " 'christophercurrie': 1,\n",
       " 'DasIch': 1,\n",
       " 'LuitvD': 1,\n",
       " 'rascalmicro': 2,\n",
       " 'kennethreitz': 1,\n",
       " 'callahad': 1,\n",
       " 'ustun': 1,\n",
       " 'vreon': 1,\n",
       " 'consigliere': 1,\n",
       " 'dafire': 1,\n",
       " 'hadleyrich': 1,\n",
       " 'sharoonthomas': 1,\n",
       " 'RonnyPfannschmidt': 1,\n",
       " 'akavlie': 1}"
      ]
     },
     "execution_count": 34,
     "metadata": {},
     "output_type": "execute_result"
    }
   ],
   "source": [
    "#q28\n",
    "log_output = str(output, encoding=\"utf-8\").split('\\n')\n",
    "log_output\n",
    "\n",
    "# log_dict = defaultdict(int)\n",
    "log_dict = {}\n",
    "for s in log_output:\n",
    "    if 'Merge pull request' in s:\n",
    "        name = s.split('/')[0].split(' ')[-1]\n",
    "        if '#' in name:\n",
    "            continue\n",
    "#         log_dict[name] += 1\n",
    "        if name not in log_dict:\n",
    "            log_dict[name] = 1\n",
    "        else:\n",
    "            log_dict[name] += 1\n",
    "log_dict"
   ]
  },
  {
   "cell_type": "code",
   "execution_count": 35,
   "id": "76a41512",
   "metadata": {},
   "outputs": [
    {
     "data": {
      "text/plain": [
       "'ERROR: unknown command \"instal\" - maybe you meant \"install\"\\n'"
      ]
     },
     "execution_count": 35,
     "metadata": {},
     "output_type": "execute_result"
    }
   ],
   "source": [
    "#q29\n",
    "import subprocess \n",
    "from subprocess import PIPE\n",
    "\n",
    "try:\n",
    "    check_output([\"pip3\", \"instal\"], stderr=PIPE)\n",
    "except subprocess.CalledProcessError as e:\n",
    "    output = str(e.stderr, encoding=\"utf-8\")\n",
    "output"
   ]
  },
  {
   "cell_type": "code",
   "execution_count": 36,
   "id": "c01a858f",
   "metadata": {},
   "outputs": [],
   "source": [
    "import numpy as np\n",
    "def rand_df(rows):\n",
    "    return pd.DataFrame(np.random.randint(10, size=(rows, 4)),\n",
    "                        columns=[\"A\", \"B\", \"C\", \"D\"],\n",
    "                        index=[f\"r{i}\" for i in range(1, rows+1)])\n",
    "rows_lst = [1000, 2000, 3000, 4000, 5000]\n"
   ]
  },
  {
   "cell_type": "code",
   "execution_count": 37,
   "id": "498b530c",
   "metadata": {},
   "outputs": [
    {
     "data": {
      "text/plain": [
       "<AxesSubplot:xlabel='Rows', ylabel='Milliseconds'>"
      ]
     },
     "execution_count": 37,
     "metadata": {},
     "output_type": "execute_result"
    },
    {
     "data": {
      "image/png": "[encoded data removed]",
      "text/plain": [
       "<Figure size 432x288 with 1 Axes>"
      ]
     },
     "metadata": {
      "needs_background": "light"
     },
     "output_type": "display_data"
    }
   ],
   "source": [
    "#q30\n",
    "\n",
    "from time import time\n",
    "\n",
    "times_df = pd.DataFrame(dtype=float)\n",
    "\n",
    "for row in rows_lst:  # iterrows\n",
    "    t0 = time()\n",
    "    df = rand_df(row)\n",
    "    for r in df.iterrows():\n",
    "        pass\n",
    "    \n",
    "    t1 = time()\n",
    "    iterrows_time = t1-t0\n",
    "    times_df.at[row, \"iterrows\"] = iterrows_time * 1000\n",
    "    \n",
    "for row in rows_lst:  # itertuples\n",
    "    t0 = time()\n",
    "    df = rand_df(row)\n",
    "    for r in df.itertuples():\n",
    "        pass\n",
    "    \n",
    "    t1 = time()\n",
    "    itertuples_time = t1-t0\n",
    "    times_df.at[row, \"itertuples\"] = itertuples_time * 1000\n",
    "\n",
    "times_df.plot.line(xlabel='Rows', ylabel='Milliseconds', yticks=[0, 50, 100], xticks=rows_lst)"
   ]
  },
  {
   "cell_type": "code",
   "execution_count": 38,
   "id": "5c022aa3",
   "metadata": {},
   "outputs": [
    {
     "data": {
      "text/plain": [
       "<AxesSubplot:xlabel='Rows', ylabel='Milliseconds'>"
      ]
     },
     "execution_count": 38,
     "metadata": {},
     "output_type": "execute_result"
    },
    {
     "data": {
      "image/png": "[encoded data removed]",
      "text/plain": [
       "<Figure size 432x288 with 1 Axes>"
      ]
     },
     "metadata": {
      "needs_background": "light"
     },
     "output_type": "display_data"
    }
   ],
   "source": [
    "#q31\n",
    "times_df_31 = pd.DataFrame(dtype=float)\n",
    "\n",
    "for row in rows_lst:  # loc\n",
    "    t0_31 = time()\n",
    "    df = rand_df(row)\n",
    "    total = 0\n",
    "    for idx in df.index:\n",
    "        for col in df.columns:\n",
    "            total += df.loc[idx, col]\n",
    "    t1_31 = time()\n",
    "    \n",
    "    loc_time = t1_31 - t0_31\n",
    "\n",
    "    times_df_31.at[row, \"loc_time\"] = loc_time * 1000\n",
    "\n",
    "for row in rows_lst:  # at\n",
    "    t0_31 = time()\n",
    "    df = rand_df(row)\n",
    "    total = 0\n",
    "    for idx in df.index:\n",
    "        for col in df.columns:\n",
    "            total += df.at[idx, col]\n",
    "    t1_31 = time()\n",
    "    \n",
    "    at_time = t1_31 - t0_31\n",
    "\n",
    "    times_df_31.at[row, \"at_time\"] = at_time * 1000\n",
    "\n",
    "times_df_31.plot.line(xlabel='Rows', ylabel='Milliseconds', yticks=[0, 50, 100], xticks=rows_lst)"
   ]
  },
  {
   "cell_type": "code",
   "execution_count": 39,
   "id": "8f4bce4b",
   "metadata": {},
   "outputs": [],
   "source": [
    "def laugh(x):\n",
    "    return \"ha\" * x"
   ]
  },
  {
   "cell_type": "code",
   "execution_count": 40,
   "id": "4866ac87",
   "metadata": {},
   "outputs": [
    {
     "data": {
      "text/plain": [
       "<matplotlib.legend.Legend at 0x7fd91028fb50>"
      ]
     },
     "execution_count": 40,
     "metadata": {},
     "output_type": "execute_result"
    },
    {
     "data": {
      "image/png": "[encoded data removed]",
      "text/plain": [
       "<Figure size 1440x720 with 1 Axes>"
      ]
     },
     "metadata": {
      "needs_background": "light"
     },
     "output_type": "display_data"
    }
   ],
   "source": [
    "#q32\n",
    "rows_lst = [1000, 2000, 3000, 4000, 5000]\n",
    "times_df_32 = pd.DataFrame(dtype=float)\n",
    "\n",
    "for row in range(1000, 21000, 1000): # apply\n",
    "    t0_32 = time()\n",
    "    \n",
    "    df_32 = rand_df(row)\n",
    "    df_32[\"A\"].apply(laugh).tolist()\n",
    "    \n",
    "    t1_32 = time()\n",
    "    first_time = t1_32 - t0_32\n",
    "    \n",
    "    times_df_32.at[row, \"apply\"] = first_time * 1000\n",
    "\n",
    "\n",
    "for row in range(1000, 21000, 1000): # loop\n",
    "    t0_32 = time()\n",
    "    \n",
    "    df_32 = rand_df(row)  \n",
    "    result = []\n",
    "    for val in df_32[\"A\"]:\n",
    "        result.append(laugh(val))\n",
    "        \n",
    "    t1_32 = time()\n",
    "    second_time = t1_32 - t0_32\n",
    "    \n",
    "    times_df_32.at[row, \"for loop\"] = second_time * 1000\n",
    " \n",
    "\n",
    "ax1 = times_df_32.plot.line(xlabel='Rows', \n",
    "                      ylabel='Milliseconds', \n",
    "                      yticks=[0, 10, 20, 30], \n",
    "                      xticks=range(1000, 21000, 1000),\n",
    "                      fontsize=15,\n",
    "                      figsize=(20,10))\n",
    "ax1.set_ylabel('Milliseconds',fontdict={'fontsize':15})\n",
    "ax1.set_xlabel('Rows',fontdict={'fontsize':15})\n",
    "ax1.legend(loc=1,fontsize=15)"
   ]
  },
  {
   "cell_type": "code",
   "execution_count": null,
   "id": "1c8d7ddf",
   "metadata": {},
   "outputs": [],
   "source": []
  }
 ],
 "metadata": {
  "kernelspec": {
   "display_name": "Python 3 (ipykernel)",
   "language": "python",
   "name": "python3"
  },
  "language_info": {
   "codemirror_mode": {
    "name": "ipython",
    "version": 3
   },
   "file_extension": ".py",
   "mimetype": "text/x-python",
   "name": "python",
   "nbconvert_exporter": "python",
   "pygments_lexer": "ipython3",
   "version": "3.8.10"
  }
 },
 "nbformat": 4,
 "nbformat_minor": 5
}

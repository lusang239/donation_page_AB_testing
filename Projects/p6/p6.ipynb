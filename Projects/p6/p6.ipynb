{
 "cells": [
  {
   "cell_type": "code",
   "execution_count": 1,
   "id": "5819454f",
   "metadata": {},
   "outputs": [],
   "source": [
    "# project: p6\n",
    "# submitter: chen2328\n",
    "# partner: none\n",
    "# hours: 6"
   ]
  },
  {
   "cell_type": "code",
   "execution_count": 2,
   "id": "4bf38326",
   "metadata": {},
   "outputs": [],
   "source": [
    "import geopandas as gpd\n",
    "import pandas as pd\n",
    "import matplotlib.pyplot as plt\n",
    "import numpy as np\n",
    "import rasterio\n",
    "from rasterio.mask import mask\n",
    "\n",
    "from sklearn.linear_model import LinearRegression\n",
    "from sklearn.model_selection import train_test_split, cross_val_score\n",
    "from sklearn.pipeline import Pipeline   \n",
    "from sklearn.compose import make_column_transformer \n",
    "from sklearn.preprocessing import PolynomialFeatures, OneHotEncoder\n",
    "from sklearn import preprocessing"
   ]
  },
  {
   "cell_type": "code",
   "execution_count": 3,
   "id": "57eb9704",
   "metadata": {},
   "outputs": [
    {
     "data": {
      "text/html": [
       "<div>\n",
       "<style scoped>\n",
       "    .dataframe tbody tr th:only-of-type {\n",
       "        vertical-align: middle;\n",
       "    }\n",
       "\n",
       "    .dataframe tbody tr th {\n",
       "        vertical-align: top;\n",
       "    }\n",
       "\n",
       "    .dataframe thead th {\n",
       "        text-align: right;\n",
       "    }\n",
       "</style>\n",
       "<table border=\"1\" class=\"dataframe\">\n",
       "  <thead>\n",
       "    <tr style=\"text-align: right;\">\n",
       "      <th></th>\n",
       "      <th>NAME</th>\n",
       "      <th>POP100</th>\n",
       "      <th>geometry</th>\n",
       "    </tr>\n",
       "  </thead>\n",
       "  <tbody>\n",
       "    <tr>\n",
       "      <th>0</th>\n",
       "      <td>Racine County</td>\n",
       "      <td>195408</td>\n",
       "      <td>POLYGON ((-88.07073 42.66976, -88.06897 42.669...</td>\n",
       "    </tr>\n",
       "    <tr>\n",
       "      <th>1</th>\n",
       "      <td>Clark County</td>\n",
       "      <td>34690</td>\n",
       "      <td>POLYGON ((-90.55875 44.42221, -90.53398 44.422...</td>\n",
       "    </tr>\n",
       "    <tr>\n",
       "      <th>2</th>\n",
       "      <td>Wood County</td>\n",
       "      <td>74749</td>\n",
       "      <td>POLYGON ((-89.72464 44.33712, -89.72460 44.338...</td>\n",
       "    </tr>\n",
       "    <tr>\n",
       "      <th>3</th>\n",
       "      <td>Rusk County</td>\n",
       "      <td>14755</td>\n",
       "      <td>POLYGON ((-90.92517 45.37935, -90.92515 45.379...</td>\n",
       "    </tr>\n",
       "    <tr>\n",
       "      <th>4</th>\n",
       "      <td>Ozaukee County</td>\n",
       "      <td>86395</td>\n",
       "      <td>POLYGON ((-87.89269 43.19202, -87.89265 43.192...</td>\n",
       "    </tr>\n",
       "  </tbody>\n",
       "</table>\n",
       "</div>"
      ],
      "text/plain": [
       "             NAME  POP100                                           geometry\n",
       "0   Racine County  195408  POLYGON ((-88.07073 42.66976, -88.06897 42.669...\n",
       "1    Clark County   34690  POLYGON ((-90.55875 44.42221, -90.53398 44.422...\n",
       "2     Wood County   74749  POLYGON ((-89.72464 44.33712, -89.72460 44.338...\n",
       "3     Rusk County   14755  POLYGON ((-90.92517 45.37935, -90.92515 45.379...\n",
       "4  Ozaukee County   86395  POLYGON ((-87.89269 43.19202, -87.89265 43.192..."
      ]
     },
     "execution_count": 3,
     "metadata": {},
     "output_type": "execute_result"
    }
   ],
   "source": [
    "counties_df = gpd.read_file(\"counties.geojson\")\n",
    "counties_df.head()"
   ]
  },
  {
   "cell_type": "code",
   "execution_count": 4,
   "id": "3ac67e54",
   "metadata": {},
   "outputs": [
    {
     "data": {
      "text/html": [
       "<div>\n",
       "<style scoped>\n",
       "    .dataframe tbody tr th:only-of-type {\n",
       "        vertical-align: middle;\n",
       "    }\n",
       "\n",
       "    .dataframe tbody tr th {\n",
       "        vertical-align: top;\n",
       "    }\n",
       "\n",
       "    .dataframe thead th {\n",
       "        text-align: right;\n",
       "    }\n",
       "</style>\n",
       "<table border=\"1\" class=\"dataframe\">\n",
       "  <thead>\n",
       "    <tr style=\"text-align: right;\">\n",
       "      <th></th>\n",
       "      <th>GEOID</th>\n",
       "      <th>POP100</th>\n",
       "      <th>geometry</th>\n",
       "    </tr>\n",
       "  </thead>\n",
       "  <tbody>\n",
       "    <tr>\n",
       "      <th>0</th>\n",
       "      <td>55001950204</td>\n",
       "      <td>1646</td>\n",
       "      <td>POLYGON ((-90.02638 44.08721, -90.02628 44.086...</td>\n",
       "    </tr>\n",
       "    <tr>\n",
       "      <th>1</th>\n",
       "      <td>55009940002</td>\n",
       "      <td>4698</td>\n",
       "      <td>POLYGON ((-88.15018 44.51202, -88.15011 44.509...</td>\n",
       "    </tr>\n",
       "    <tr>\n",
       "      <th>2</th>\n",
       "      <td>55061990000</td>\n",
       "      <td>0</td>\n",
       "      <td>POLYGON ((-87.53727 44.33179, -87.53920 44.327...</td>\n",
       "    </tr>\n",
       "    <tr>\n",
       "      <th>3</th>\n",
       "      <td>55009020100</td>\n",
       "      <td>5817</td>\n",
       "      <td>POLYGON ((-87.93753 44.67821, -87.93742 44.630...</td>\n",
       "    </tr>\n",
       "    <tr>\n",
       "      <th>4</th>\n",
       "      <td>55009010100</td>\n",
       "      <td>6506</td>\n",
       "      <td>POLYGON ((-88.06825 44.45368, -88.06830 44.453...</td>\n",
       "    </tr>\n",
       "  </tbody>\n",
       "</table>\n",
       "</div>"
      ],
      "text/plain": [
       "         GEOID  POP100                                           geometry\n",
       "0  55001950204    1646  POLYGON ((-90.02638 44.08721, -90.02628 44.086...\n",
       "1  55009940002    4698  POLYGON ((-88.15018 44.51202, -88.15011 44.509...\n",
       "2  55061990000       0  POLYGON ((-87.53727 44.33179, -87.53920 44.327...\n",
       "3  55009020100    5817  POLYGON ((-87.93753 44.67821, -87.93742 44.630...\n",
       "4  55009010100    6506  POLYGON ((-88.06825 44.45368, -88.06830 44.453..."
      ]
     },
     "execution_count": 4,
     "metadata": {},
     "output_type": "execute_result"
    }
   ],
   "source": [
    "tracts_df = gpd.read_file(\"tracts.geojson\")\n",
    "tracts_df.head()"
   ]
  },
  {
   "cell_type": "markdown",
   "id": "cfcc18f2",
   "metadata": {},
   "source": [
    "### Q1: How many counties are in Wisconsin?"
   ]
  },
  {
   "cell_type": "code",
   "execution_count": 5,
   "id": "e9902159",
   "metadata": {},
   "outputs": [
    {
     "data": {
      "text/plain": [
       "72"
      ]
     },
     "execution_count": 5,
     "metadata": {},
     "output_type": "execute_result"
    }
   ],
   "source": [
    "#q1\n",
    "len(counties_df.groupby('NAME').count())"
   ]
  },
  {
   "cell_type": "markdown",
   "id": "ee6475ff",
   "metadata": {},
   "source": [
    "### Q2: What is the population of each county in WI?"
   ]
  },
  {
   "cell_type": "code",
   "execution_count": 6,
   "id": "33d0a7ff",
   "metadata": {},
   "outputs": [
    {
     "data": {
      "text/plain": [
       "<AxesSubplot:>"
      ]
     },
     "execution_count": 6,
     "metadata": {},
     "output_type": "execute_result"
    },
    {
     "data": {
      "image/png": "[encoded data removed]",
      "text/plain": [
       "<Figure size 432x288 with 2 Axes>"
      ]
     },
     "metadata": {
      "needs_background": "light"
     },
     "output_type": "display_data"
    }
   ],
   "source": [
    "#q2\n",
    "counties_df.plot(column=\"POP100\", legend=True)"
   ]
  },
  {
   "cell_type": "markdown",
   "id": "3c1bf0ae",
   "metadata": {},
   "source": [
    "### Q3: What are the counties in the test dataset?"
   ]
  },
  {
   "cell_type": "code",
   "execution_count": 7,
   "id": "fa10cd8e",
   "metadata": {},
   "outputs": [],
   "source": [
    "import sqlite3\n",
    "\n",
    "# creating a connection object that represents the database\n",
    "# cursor \n",
    "conn = sqlite3.connect(\"counties_tracts.db\")"
   ]
  },
  {
   "cell_type": "code",
   "execution_count": 8,
   "id": "54ae239e",
   "metadata": {},
   "outputs": [
    {
     "data": {
      "text/html": [
       "<div>\n",
       "<style scoped>\n",
       "    .dataframe tbody tr th:only-of-type {\n",
       "        vertical-align: middle;\n",
       "    }\n",
       "\n",
       "    .dataframe tbody tr th {\n",
       "        vertical-align: top;\n",
       "    }\n",
       "\n",
       "    .dataframe thead th {\n",
       "        text-align: right;\n",
       "    }\n",
       "</style>\n",
       "<table border=\"1\" class=\"dataframe\">\n",
       "  <thead>\n",
       "    <tr style=\"text-align: right;\">\n",
       "      <th></th>\n",
       "      <th>type</th>\n",
       "      <th>name</th>\n",
       "      <th>tbl_name</th>\n",
       "      <th>rootpage</th>\n",
       "      <th>sql</th>\n",
       "    </tr>\n",
       "  </thead>\n",
       "  <tbody>\n",
       "    <tr>\n",
       "      <th>0</th>\n",
       "      <td>table</td>\n",
       "      <td>counties</td>\n",
       "      <td>counties</td>\n",
       "      <td>2</td>\n",
       "      <td>CREATE TABLE \"counties\" (\\n\"index\" INTEGER,\\n ...</td>\n",
       "    </tr>\n",
       "    <tr>\n",
       "      <th>1</th>\n",
       "      <td>index</td>\n",
       "      <td>ix_counties_index</td>\n",
       "      <td>counties</td>\n",
       "      <td>3</td>\n",
       "      <td>CREATE INDEX \"ix_counties_index\"ON \"counties\" ...</td>\n",
       "    </tr>\n",
       "    <tr>\n",
       "      <th>2</th>\n",
       "      <td>table</td>\n",
       "      <td>tracts</td>\n",
       "      <td>tracts</td>\n",
       "      <td>4</td>\n",
       "      <td>CREATE TABLE \"tracts\" (\\n\"index\" INTEGER,\\n  \"...</td>\n",
       "    </tr>\n",
       "    <tr>\n",
       "      <th>3</th>\n",
       "      <td>index</td>\n",
       "      <td>ix_tracts_index</td>\n",
       "      <td>tracts</td>\n",
       "      <td>5</td>\n",
       "      <td>CREATE INDEX \"ix_tracts_index\"ON \"tracts\" (\"in...</td>\n",
       "    </tr>\n",
       "  </tbody>\n",
       "</table>\n",
       "</div>"
      ],
      "text/plain": [
       "    type               name  tbl_name  rootpage  \\\n",
       "0  table           counties  counties         2   \n",
       "1  index  ix_counties_index  counties         3   \n",
       "2  table             tracts    tracts         4   \n",
       "3  index    ix_tracts_index    tracts         5   \n",
       "\n",
       "                                                 sql  \n",
       "0  CREATE TABLE \"counties\" (\\n\"index\" INTEGER,\\n ...  \n",
       "1  CREATE INDEX \"ix_counties_index\"ON \"counties\" ...  \n",
       "2  CREATE TABLE \"tracts\" (\\n\"index\" INTEGER,\\n  \"...  \n",
       "3  CREATE INDEX \"ix_tracts_index\"ON \"tracts\" (\"in...  "
      ]
     },
     "execution_count": 8,
     "metadata": {},
     "output_type": "execute_result"
    }
   ],
   "source": [
    "# Show all the tables the DB has\n",
    "pd.read_sql(\"\"\"SELECT * FROM sqlite_master\"\"\", conn)"
   ]
  },
  {
   "cell_type": "code",
   "execution_count": 9,
   "id": "ec383bf5",
   "metadata": {},
   "outputs": [
    {
     "data": {
      "text/html": [
       "<div>\n",
       "<style scoped>\n",
       "    .dataframe tbody tr th:only-of-type {\n",
       "        vertical-align: middle;\n",
       "    }\n",
       "\n",
       "    .dataframe tbody tr th {\n",
       "        vertical-align: top;\n",
       "    }\n",
       "\n",
       "    .dataframe thead th {\n",
       "        text-align: right;\n",
       "    }\n",
       "</style>\n",
       "<table border=\"1\" class=\"dataframe\">\n",
       "  <thead>\n",
       "    <tr style=\"text-align: right;\">\n",
       "      <th></th>\n",
       "      <th>index</th>\n",
       "      <th>NAME</th>\n",
       "      <th>COUNTY</th>\n",
       "      <th>AREALAND</th>\n",
       "      <th>AREAWATER</th>\n",
       "    </tr>\n",
       "  </thead>\n",
       "  <tbody>\n",
       "    <tr>\n",
       "      <th>0</th>\n",
       "      <td>0</td>\n",
       "      <td>Racine County</td>\n",
       "      <td>101</td>\n",
       "      <td>861533739</td>\n",
       "      <td>1190103013</td>\n",
       "    </tr>\n",
       "    <tr>\n",
       "      <th>1</th>\n",
       "      <td>1</td>\n",
       "      <td>Clark County</td>\n",
       "      <td>019</td>\n",
       "      <td>3133378070</td>\n",
       "      <td>23239614</td>\n",
       "    </tr>\n",
       "    <tr>\n",
       "      <th>2</th>\n",
       "      <td>2</td>\n",
       "      <td>Wood County</td>\n",
       "      <td>141</td>\n",
       "      <td>2054044751</td>\n",
       "      <td>41994799</td>\n",
       "    </tr>\n",
       "    <tr>\n",
       "      <th>3</th>\n",
       "      <td>3</td>\n",
       "      <td>Rusk County</td>\n",
       "      <td>107</td>\n",
       "      <td>2366092584</td>\n",
       "      <td>44813690</td>\n",
       "    </tr>\n",
       "    <tr>\n",
       "      <th>4</th>\n",
       "      <td>4</td>\n",
       "      <td>Ozaukee County</td>\n",
       "      <td>089</td>\n",
       "      <td>603514413</td>\n",
       "      <td>2287415379</td>\n",
       "    </tr>\n",
       "  </tbody>\n",
       "</table>\n",
       "</div>"
      ],
      "text/plain": [
       "   index            NAME COUNTY    AREALAND   AREAWATER\n",
       "0      0   Racine County    101   861533739  1190103013\n",
       "1      1    Clark County    019  3133378070    23239614\n",
       "2      2     Wood County    141  2054044751    41994799\n",
       "3      3     Rusk County    107  2366092584    44813690\n",
       "4      4  Ozaukee County    089   603514413  2287415379"
      ]
     },
     "execution_count": 9,
     "metadata": {},
     "output_type": "execute_result"
    }
   ],
   "source": [
    "pd.read_sql(\"\"\"SELECT * FROM counties LIMIT 5\"\"\", conn)"
   ]
  },
  {
   "cell_type": "code",
   "execution_count": 10,
   "id": "850aaf24",
   "metadata": {},
   "outputs": [
    {
     "data": {
      "text/html": [
       "<div>\n",
       "<style scoped>\n",
       "    .dataframe tbody tr th:only-of-type {\n",
       "        vertical-align: middle;\n",
       "    }\n",
       "\n",
       "    .dataframe tbody tr th {\n",
       "        vertical-align: top;\n",
       "    }\n",
       "\n",
       "    .dataframe thead th {\n",
       "        text-align: right;\n",
       "    }\n",
       "</style>\n",
       "<table border=\"1\" class=\"dataframe\">\n",
       "  <thead>\n",
       "    <tr style=\"text-align: right;\">\n",
       "      <th></th>\n",
       "      <th>NAME</th>\n",
       "      <th>POP100</th>\n",
       "      <th>geometry</th>\n",
       "      <th>AREALAND</th>\n",
       "    </tr>\n",
       "  </thead>\n",
       "  <tbody>\n",
       "    <tr>\n",
       "      <th>0</th>\n",
       "      <td>Racine County</td>\n",
       "      <td>195408</td>\n",
       "      <td>POLYGON ((-88.07073 42.66976, -88.06897 42.669...</td>\n",
       "      <td>861533739</td>\n",
       "    </tr>\n",
       "    <tr>\n",
       "      <th>1</th>\n",
       "      <td>Clark County</td>\n",
       "      <td>34690</td>\n",
       "      <td>POLYGON ((-90.55875 44.42221, -90.53398 44.422...</td>\n",
       "      <td>3133378070</td>\n",
       "    </tr>\n",
       "    <tr>\n",
       "      <th>2</th>\n",
       "      <td>Wood County</td>\n",
       "      <td>74749</td>\n",
       "      <td>POLYGON ((-89.72464 44.33712, -89.72460 44.338...</td>\n",
       "      <td>2054044751</td>\n",
       "    </tr>\n",
       "    <tr>\n",
       "      <th>3</th>\n",
       "      <td>Rusk County</td>\n",
       "      <td>14755</td>\n",
       "      <td>POLYGON ((-90.92517 45.37935, -90.92515 45.379...</td>\n",
       "      <td>2366092584</td>\n",
       "    </tr>\n",
       "    <tr>\n",
       "      <th>4</th>\n",
       "      <td>Ozaukee County</td>\n",
       "      <td>86395</td>\n",
       "      <td>POLYGON ((-87.89269 43.19202, -87.89265 43.192...</td>\n",
       "      <td>603514413</td>\n",
       "    </tr>\n",
       "  </tbody>\n",
       "</table>\n",
       "</div>"
      ],
      "text/plain": [
       "             NAME  POP100                                           geometry  \\\n",
       "0   Racine County  195408  POLYGON ((-88.07073 42.66976, -88.06897 42.669...   \n",
       "1    Clark County   34690  POLYGON ((-90.55875 44.42221, -90.53398 44.422...   \n",
       "2     Wood County   74749  POLYGON ((-89.72464 44.33712, -89.72460 44.338...   \n",
       "3     Rusk County   14755  POLYGON ((-90.92517 45.37935, -90.92515 45.379...   \n",
       "4  Ozaukee County   86395  POLYGON ((-87.89269 43.19202, -87.89265 43.192...   \n",
       "\n",
       "     AREALAND  \n",
       "0   861533739  \n",
       "1  3133378070  \n",
       "2  2054044751  \n",
       "3  2366092584  \n",
       "4   603514413  "
      ]
     },
     "execution_count": 10,
     "metadata": {},
     "output_type": "execute_result"
    }
   ],
   "source": [
    "arealand_df = pd.read_sql(\"\"\"SELECT AREALAND FROM counties\"\"\", conn)\n",
    "counties_df['AREALAND'] = arealand_df['AREALAND']\n",
    "counties_df.head()"
   ]
  },
  {
   "cell_type": "code",
   "execution_count": 11,
   "id": "0e1f974b",
   "metadata": {},
   "outputs": [],
   "source": [
    "# random state, so we do not get differeent outcome everytime \n",
    "# still need cross validation to see stable ??\n",
    "train, test = train_test_split(counties_df, random_state=320, test_size=0.25)"
   ]
  },
  {
   "cell_type": "code",
   "execution_count": 12,
   "id": "844cdcdf",
   "metadata": {},
   "outputs": [
    {
     "data": {
      "text/plain": [
       "['Kewaunee County',\n",
       " 'Calumet County',\n",
       " 'Adams County',\n",
       " 'Eau Claire County',\n",
       " 'Milwaukee County',\n",
       " 'Ashland County',\n",
       " 'Wood County',\n",
       " 'Dodge County',\n",
       " 'Sauk County',\n",
       " 'Clark County',\n",
       " 'Pepin County',\n",
       " 'Taylor County',\n",
       " 'Iron County',\n",
       " 'Outagamie County',\n",
       " 'Florence County',\n",
       " 'Oneida County',\n",
       " 'Pierce County',\n",
       " 'Grant County']"
      ]
     },
     "execution_count": 12,
     "metadata": {},
     "output_type": "execute_result"
    }
   ],
   "source": [
    "#q3\n",
    "test['NAME'].to_list()"
   ]
  },
  {
   "cell_type": "markdown",
   "id": "bcf3aa97",
   "metadata": {},
   "source": [
    "### Q4: How much variance in the POP100 can a LinearRegression model explain based only on AREALAND?"
   ]
  },
  {
   "cell_type": "code",
   "execution_count": 13,
   "id": "011c7982",
   "metadata": {},
   "outputs": [
    {
     "data": {
      "text/plain": [
       "0.022002661530554857"
      ]
     },
     "execution_count": 13,
     "metadata": {},
     "output_type": "execute_result"
    }
   ],
   "source": [
    "#q4\n",
    "model = LinearRegression()\n",
    "model.fit(train[[\"AREALAND\"]], train['POP100'])\n",
    "model.score(test[[\"AREALAND\"]], test['POP100'])"
   ]
  },
  {
   "cell_type": "markdown",
   "id": "8426123f",
   "metadata": {},
   "source": [
    "### Q5: What is the predicted population of a county with 500 square miles of area, according to the model?"
   ]
  },
  {
   "cell_type": "code",
   "execution_count": 14,
   "id": "4055e9b9",
   "metadata": {},
   "outputs": [
    {
     "data": {
      "text/plain": [
       "82032.53073541154"
      ]
     },
     "execution_count": 14,
     "metadata": {},
     "output_type": "execute_result"
    }
   ],
   "source": [
    "#q5\n",
    "# Do we always need to create a datafrane and predict???\n",
    "# So always create a dataframe\n",
    "meters = 500 * 2.59e+6\n",
    "predict_df_5 = pd.DataFrame({'AREALAND': [meters]})\n",
    "predict_df_5\n",
    "predict_df_5['predicted_y'] = model.predict(predict_df_5)\n",
    "predict_df_5['predicted_y'].iloc[0]"
   ]
  },
  {
   "cell_type": "code",
   "execution_count": 58,
   "id": "bb47ab70",
   "metadata": {},
   "outputs": [
    {
     "name": "stderr",
     "output_type": "stream",
     "text": [
      "/home/chenyenchun/.local/lib/python3.8/site-packages/sklearn/base.py:450: UserWarning: X does not have valid feature names, but LinearRegression was fitted with feature names\n",
      "  warnings.warn(\n"
     ]
    }
   ],
   "source": [
    "predict_df_5['predicted_y'] = model.predict([[500 * 2.59e+6]])"
   ]
  },
  {
   "cell_type": "markdown",
   "id": "eb4bc782",
   "metadata": {},
   "source": [
    "### Part 2: Predicting Population using Housing Units"
   ]
  },
  {
   "cell_type": "markdown",
   "id": "3c65cf73",
   "metadata": {},
   "source": [
    "### Q6: What are the counties in the test dataset?"
   ]
  },
  {
   "cell_type": "code",
   "execution_count": 15,
   "id": "7c1546fd",
   "metadata": {},
   "outputs": [
    {
     "data": {
      "text/html": [
       "<div>\n",
       "<style scoped>\n",
       "    .dataframe tbody tr th:only-of-type {\n",
       "        vertical-align: middle;\n",
       "    }\n",
       "\n",
       "    .dataframe tbody tr th {\n",
       "        vertical-align: top;\n",
       "    }\n",
       "\n",
       "    .dataframe thead th {\n",
       "        text-align: right;\n",
       "    }\n",
       "</style>\n",
       "<table border=\"1\" class=\"dataframe\">\n",
       "  <thead>\n",
       "    <tr style=\"text-align: right;\">\n",
       "      <th></th>\n",
       "      <th>index</th>\n",
       "      <th>NAME</th>\n",
       "      <th>COUNTY</th>\n",
       "      <th>HU100</th>\n",
       "    </tr>\n",
       "  </thead>\n",
       "  <tbody>\n",
       "    <tr>\n",
       "      <th>0</th>\n",
       "      <td>0</td>\n",
       "      <td>Census Tract 9701.01</td>\n",
       "      <td>085</td>\n",
       "      <td>2760</td>\n",
       "    </tr>\n",
       "    <tr>\n",
       "      <th>1</th>\n",
       "      <td>1</td>\n",
       "      <td>Census Tract 9710.01</td>\n",
       "      <td>085</td>\n",
       "      <td>1536</td>\n",
       "    </tr>\n",
       "    <tr>\n",
       "      <th>2</th>\n",
       "      <td>2</td>\n",
       "      <td>Census Tract 9706.01</td>\n",
       "      <td>085</td>\n",
       "      <td>1208</td>\n",
       "    </tr>\n",
       "    <tr>\n",
       "      <th>3</th>\n",
       "      <td>3</td>\n",
       "      <td>Census Tract 9706.02</td>\n",
       "      <td>085</td>\n",
       "      <td>3136</td>\n",
       "    </tr>\n",
       "    <tr>\n",
       "      <th>4</th>\n",
       "      <td>4</td>\n",
       "      <td>Census Tract 4301</td>\n",
       "      <td>131</td>\n",
       "      <td>2144</td>\n",
       "    </tr>\n",
       "    <tr>\n",
       "      <th>...</th>\n",
       "      <td>...</td>\n",
       "      <td>...</td>\n",
       "      <td>...</td>\n",
       "      <td>...</td>\n",
       "    </tr>\n",
       "    <tr>\n",
       "      <th>1404</th>\n",
       "      <td>1404</td>\n",
       "      <td>Census Tract 14</td>\n",
       "      <td>059</td>\n",
       "      <td>2913</td>\n",
       "    </tr>\n",
       "    <tr>\n",
       "      <th>1405</th>\n",
       "      <td>1405</td>\n",
       "      <td>Census Tract 15</td>\n",
       "      <td>059</td>\n",
       "      <td>1550</td>\n",
       "    </tr>\n",
       "    <tr>\n",
       "      <th>1406</th>\n",
       "      <td>1406</td>\n",
       "      <td>Census Tract 16</td>\n",
       "      <td>059</td>\n",
       "      <td>1286</td>\n",
       "    </tr>\n",
       "    <tr>\n",
       "      <th>1407</th>\n",
       "      <td>1407</td>\n",
       "      <td>Census Tract 17</td>\n",
       "      <td>059</td>\n",
       "      <td>1068</td>\n",
       "    </tr>\n",
       "    <tr>\n",
       "      <th>1408</th>\n",
       "      <td>1408</td>\n",
       "      <td>Census Tract 18</td>\n",
       "      <td>059</td>\n",
       "      <td>927</td>\n",
       "    </tr>\n",
       "  </tbody>\n",
       "</table>\n",
       "<p>1409 rows × 4 columns</p>\n",
       "</div>"
      ],
      "text/plain": [
       "      index                  NAME COUNTY  HU100\n",
       "0         0  Census Tract 9701.01    085   2760\n",
       "1         1  Census Tract 9710.01    085   1536\n",
       "2         2  Census Tract 9706.01    085   1208\n",
       "3         3  Census Tract 9706.02    085   3136\n",
       "4         4     Census Tract 4301    131   2144\n",
       "...     ...                   ...    ...    ...\n",
       "1404   1404       Census Tract 14    059   2913\n",
       "1405   1405       Census Tract 15    059   1550\n",
       "1406   1406       Census Tract 16    059   1286\n",
       "1407   1407       Census Tract 17    059   1068\n",
       "1408   1408       Census Tract 18    059    927\n",
       "\n",
       "[1409 rows x 4 columns]"
      ]
     },
     "execution_count": 15,
     "metadata": {},
     "output_type": "execute_result"
    }
   ],
   "source": [
    "pd.read_sql(\"\"\"SELECT * FROM tracts\"\"\", conn)"
   ]
  },
  {
   "cell_type": "code",
   "execution_count": 16,
   "id": "0e001ffa",
   "metadata": {},
   "outputs": [
    {
     "data": {
      "text/html": [
       "<div>\n",
       "<style scoped>\n",
       "    .dataframe tbody tr th:only-of-type {\n",
       "        vertical-align: middle;\n",
       "    }\n",
       "\n",
       "    .dataframe tbody tr th {\n",
       "        vertical-align: top;\n",
       "    }\n",
       "\n",
       "    .dataframe thead th {\n",
       "        text-align: right;\n",
       "    }\n",
       "</style>\n",
       "<table border=\"1\" class=\"dataframe\">\n",
       "  <thead>\n",
       "    <tr style=\"text-align: right;\">\n",
       "      <th></th>\n",
       "      <th>index</th>\n",
       "      <th>NAME</th>\n",
       "      <th>COUNTY</th>\n",
       "      <th>AREALAND</th>\n",
       "      <th>AREAWATER</th>\n",
       "    </tr>\n",
       "  </thead>\n",
       "  <tbody>\n",
       "    <tr>\n",
       "      <th>0</th>\n",
       "      <td>0</td>\n",
       "      <td>Racine County</td>\n",
       "      <td>101</td>\n",
       "      <td>861533739</td>\n",
       "      <td>1190103013</td>\n",
       "    </tr>\n",
       "    <tr>\n",
       "      <th>1</th>\n",
       "      <td>1</td>\n",
       "      <td>Clark County</td>\n",
       "      <td>019</td>\n",
       "      <td>3133378070</td>\n",
       "      <td>23239614</td>\n",
       "    </tr>\n",
       "    <tr>\n",
       "      <th>2</th>\n",
       "      <td>2</td>\n",
       "      <td>Wood County</td>\n",
       "      <td>141</td>\n",
       "      <td>2054044751</td>\n",
       "      <td>41994799</td>\n",
       "    </tr>\n",
       "    <tr>\n",
       "      <th>3</th>\n",
       "      <td>3</td>\n",
       "      <td>Rusk County</td>\n",
       "      <td>107</td>\n",
       "      <td>2366092584</td>\n",
       "      <td>44813690</td>\n",
       "    </tr>\n",
       "    <tr>\n",
       "      <th>4</th>\n",
       "      <td>4</td>\n",
       "      <td>Ozaukee County</td>\n",
       "      <td>089</td>\n",
       "      <td>603514413</td>\n",
       "      <td>2287415379</td>\n",
       "    </tr>\n",
       "  </tbody>\n",
       "</table>\n",
       "</div>"
      ],
      "text/plain": [
       "   index            NAME COUNTY    AREALAND   AREAWATER\n",
       "0      0   Racine County    101   861533739  1190103013\n",
       "1      1    Clark County    019  3133378070    23239614\n",
       "2      2     Wood County    141  2054044751    41994799\n",
       "3      3     Rusk County    107  2366092584    44813690\n",
       "4      4  Ozaukee County    089   603514413  2287415379"
      ]
     },
     "execution_count": 16,
     "metadata": {},
     "output_type": "execute_result"
    }
   ],
   "source": [
    "pd.read_sql(\"\"\"SELECT * FROM counties LIMIT 5\"\"\", conn)"
   ]
  },
  {
   "cell_type": "code",
   "execution_count": 17,
   "id": "6bf6a715",
   "metadata": {},
   "outputs": [
    {
     "data": {
      "text/html": [
       "<div>\n",
       "<style scoped>\n",
       "    .dataframe tbody tr th:only-of-type {\n",
       "        vertical-align: middle;\n",
       "    }\n",
       "\n",
       "    .dataframe tbody tr th {\n",
       "        vertical-align: top;\n",
       "    }\n",
       "\n",
       "    .dataframe thead th {\n",
       "        text-align: right;\n",
       "    }\n",
       "</style>\n",
       "<table border=\"1\" class=\"dataframe\">\n",
       "  <thead>\n",
       "    <tr style=\"text-align: right;\">\n",
       "      <th></th>\n",
       "      <th>NAME</th>\n",
       "      <th>COUNTY</th>\n",
       "      <th>HU100</th>\n",
       "    </tr>\n",
       "  </thead>\n",
       "  <tbody>\n",
       "    <tr>\n",
       "      <th>0</th>\n",
       "      <td>Adams County</td>\n",
       "      <td>001</td>\n",
       "      <td>17436</td>\n",
       "    </tr>\n",
       "    <tr>\n",
       "      <th>1</th>\n",
       "      <td>Ashland County</td>\n",
       "      <td>003</td>\n",
       "      <td>9656</td>\n",
       "    </tr>\n",
       "    <tr>\n",
       "      <th>2</th>\n",
       "      <td>Barron County</td>\n",
       "      <td>005</td>\n",
       "      <td>23614</td>\n",
       "    </tr>\n",
       "    <tr>\n",
       "      <th>3</th>\n",
       "      <td>Bayfield County</td>\n",
       "      <td>007</td>\n",
       "      <td>12999</td>\n",
       "    </tr>\n",
       "    <tr>\n",
       "      <th>4</th>\n",
       "      <td>Brown County</td>\n",
       "      <td>009</td>\n",
       "      <td>104371</td>\n",
       "    </tr>\n",
       "    <tr>\n",
       "      <th>...</th>\n",
       "      <td>...</td>\n",
       "      <td>...</td>\n",
       "      <td>...</td>\n",
       "    </tr>\n",
       "    <tr>\n",
       "      <th>67</th>\n",
       "      <td>Waukesha County</td>\n",
       "      <td>133</td>\n",
       "      <td>160864</td>\n",
       "    </tr>\n",
       "    <tr>\n",
       "      <th>68</th>\n",
       "      <td>Waupaca County</td>\n",
       "      <td>135</td>\n",
       "      <td>25396</td>\n",
       "    </tr>\n",
       "    <tr>\n",
       "      <th>69</th>\n",
       "      <td>Waushara County</td>\n",
       "      <td>137</td>\n",
       "      <td>14843</td>\n",
       "    </tr>\n",
       "    <tr>\n",
       "      <th>70</th>\n",
       "      <td>Winnebago County</td>\n",
       "      <td>139</td>\n",
       "      <td>73329</td>\n",
       "    </tr>\n",
       "    <tr>\n",
       "      <th>71</th>\n",
       "      <td>Wood County</td>\n",
       "      <td>141</td>\n",
       "      <td>34088</td>\n",
       "    </tr>\n",
       "  </tbody>\n",
       "</table>\n",
       "<p>72 rows × 3 columns</p>\n",
       "</div>"
      ],
      "text/plain": [
       "                NAME COUNTY   HU100\n",
       "0       Adams County    001   17436\n",
       "1     Ashland County    003    9656\n",
       "2      Barron County    005   23614\n",
       "3    Bayfield County    007   12999\n",
       "4       Brown County    009  104371\n",
       "..               ...    ...     ...\n",
       "67   Waukesha County    133  160864\n",
       "68    Waupaca County    135   25396\n",
       "69   Waushara County    137   14843\n",
       "70  Winnebago County    139   73329\n",
       "71       Wood County    141   34088\n",
       "\n",
       "[72 rows x 3 columns]"
      ]
     },
     "execution_count": 17,
     "metadata": {},
     "output_type": "execute_result"
    }
   ],
   "source": [
    "hu100_df = pd.read_sql(\"\"\"\n",
    "SELECT c.NAME, c.COUNTY, SUM(HU100) HU100\n",
    "FROM counties c\n",
    "JOIN tracts t\n",
    "ON c.COUNTY = t.COUNTY\n",
    "GROUP BY c.COUNTY\"\"\", conn)\n",
    "hu100_df"
   ]
  },
  {
   "cell_type": "code",
   "execution_count": 18,
   "id": "ab74fcc6",
   "metadata": {},
   "outputs": [
    {
     "data": {
      "text/html": [
       "<div>\n",
       "<style scoped>\n",
       "    .dataframe tbody tr th:only-of-type {\n",
       "        vertical-align: middle;\n",
       "    }\n",
       "\n",
       "    .dataframe tbody tr th {\n",
       "        vertical-align: top;\n",
       "    }\n",
       "\n",
       "    .dataframe thead th {\n",
       "        text-align: right;\n",
       "    }\n",
       "</style>\n",
       "<table border=\"1\" class=\"dataframe\">\n",
       "  <thead>\n",
       "    <tr style=\"text-align: right;\">\n",
       "      <th></th>\n",
       "      <th>NAME</th>\n",
       "      <th>POP100</th>\n",
       "      <th>geometry</th>\n",
       "      <th>AREALAND</th>\n",
       "      <th>COUNTY</th>\n",
       "      <th>HU100</th>\n",
       "    </tr>\n",
       "  </thead>\n",
       "  <tbody>\n",
       "    <tr>\n",
       "      <th>0</th>\n",
       "      <td>Racine County</td>\n",
       "      <td>195408</td>\n",
       "      <td>POLYGON ((-88.07073 42.66976, -88.06897 42.669...</td>\n",
       "      <td>861533739</td>\n",
       "      <td>101</td>\n",
       "      <td>82164</td>\n",
       "    </tr>\n",
       "    <tr>\n",
       "      <th>1</th>\n",
       "      <td>Clark County</td>\n",
       "      <td>34690</td>\n",
       "      <td>POLYGON ((-90.55875 44.42221, -90.53398 44.422...</td>\n",
       "      <td>3133378070</td>\n",
       "      <td>019</td>\n",
       "      <td>15076</td>\n",
       "    </tr>\n",
       "    <tr>\n",
       "      <th>2</th>\n",
       "      <td>Wood County</td>\n",
       "      <td>74749</td>\n",
       "      <td>POLYGON ((-89.72464 44.33712, -89.72460 44.338...</td>\n",
       "      <td>2054044751</td>\n",
       "      <td>141</td>\n",
       "      <td>34088</td>\n",
       "    </tr>\n",
       "    <tr>\n",
       "      <th>3</th>\n",
       "      <td>Rusk County</td>\n",
       "      <td>14755</td>\n",
       "      <td>POLYGON ((-90.92517 45.37935, -90.92515 45.379...</td>\n",
       "      <td>2366092584</td>\n",
       "      <td>107</td>\n",
       "      <td>8883</td>\n",
       "    </tr>\n",
       "    <tr>\n",
       "      <th>4</th>\n",
       "      <td>Ozaukee County</td>\n",
       "      <td>86395</td>\n",
       "      <td>POLYGON ((-87.89269 43.19202, -87.89265 43.192...</td>\n",
       "      <td>603514413</td>\n",
       "      <td>089</td>\n",
       "      <td>36267</td>\n",
       "    </tr>\n",
       "  </tbody>\n",
       "</table>\n",
       "</div>"
      ],
      "text/plain": [
       "             NAME  POP100                                           geometry  \\\n",
       "0   Racine County  195408  POLYGON ((-88.07073 42.66976, -88.06897 42.669...   \n",
       "1    Clark County   34690  POLYGON ((-90.55875 44.42221, -90.53398 44.422...   \n",
       "2     Wood County   74749  POLYGON ((-89.72464 44.33712, -89.72460 44.338...   \n",
       "3     Rusk County   14755  POLYGON ((-90.92517 45.37935, -90.92515 45.379...   \n",
       "4  Ozaukee County   86395  POLYGON ((-87.89269 43.19202, -87.89265 43.192...   \n",
       "\n",
       "     AREALAND COUNTY  HU100  \n",
       "0   861533739    101  82164  \n",
       "1  3133378070    019  15076  \n",
       "2  2054044751    141  34088  \n",
       "3  2366092584    107   8883  \n",
       "4   603514413    089  36267  "
      ]
     },
     "execution_count": 18,
     "metadata": {},
     "output_type": "execute_result"
    }
   ],
   "source": [
    "# merge two table\n",
    "counties_df = pd.merge(counties_df, hu100_df, how='inner', on='NAME')\n",
    "counties_df.head()"
   ]
  },
  {
   "cell_type": "code",
   "execution_count": 19,
   "id": "9118dfc4",
   "metadata": {},
   "outputs": [
    {
     "data": {
      "text/html": [
       "<div>\n",
       "<style scoped>\n",
       "    .dataframe tbody tr th:only-of-type {\n",
       "        vertical-align: middle;\n",
       "    }\n",
       "\n",
       "    .dataframe tbody tr th {\n",
       "        vertical-align: top;\n",
       "    }\n",
       "\n",
       "    .dataframe thead th {\n",
       "        text-align: right;\n",
       "    }\n",
       "</style>\n",
       "<table border=\"1\" class=\"dataframe\">\n",
       "  <thead>\n",
       "    <tr style=\"text-align: right;\">\n",
       "      <th></th>\n",
       "      <th>NAME</th>\n",
       "      <th>POP100</th>\n",
       "      <th>geometry</th>\n",
       "      <th>AREALAND</th>\n",
       "      <th>HU100</th>\n",
       "    </tr>\n",
       "  </thead>\n",
       "  <tbody>\n",
       "    <tr>\n",
       "      <th>0</th>\n",
       "      <td>Racine County</td>\n",
       "      <td>195408</td>\n",
       "      <td>POLYGON ((-88.07073 42.66976, -88.06897 42.669...</td>\n",
       "      <td>861533739</td>\n",
       "      <td>82164</td>\n",
       "    </tr>\n",
       "    <tr>\n",
       "      <th>1</th>\n",
       "      <td>Clark County</td>\n",
       "      <td>34690</td>\n",
       "      <td>POLYGON ((-90.55875 44.42221, -90.53398 44.422...</td>\n",
       "      <td>3133378070</td>\n",
       "      <td>15076</td>\n",
       "    </tr>\n",
       "    <tr>\n",
       "      <th>2</th>\n",
       "      <td>Wood County</td>\n",
       "      <td>74749</td>\n",
       "      <td>POLYGON ((-89.72464 44.33712, -89.72460 44.338...</td>\n",
       "      <td>2054044751</td>\n",
       "      <td>34088</td>\n",
       "    </tr>\n",
       "    <tr>\n",
       "      <th>3</th>\n",
       "      <td>Rusk County</td>\n",
       "      <td>14755</td>\n",
       "      <td>POLYGON ((-90.92517 45.37935, -90.92515 45.379...</td>\n",
       "      <td>2366092584</td>\n",
       "      <td>8883</td>\n",
       "    </tr>\n",
       "    <tr>\n",
       "      <th>4</th>\n",
       "      <td>Ozaukee County</td>\n",
       "      <td>86395</td>\n",
       "      <td>POLYGON ((-87.89269 43.19202, -87.89265 43.192...</td>\n",
       "      <td>603514413</td>\n",
       "      <td>36267</td>\n",
       "    </tr>\n",
       "  </tbody>\n",
       "</table>\n",
       "</div>"
      ],
      "text/plain": [
       "             NAME  POP100                                           geometry  \\\n",
       "0   Racine County  195408  POLYGON ((-88.07073 42.66976, -88.06897 42.669...   \n",
       "1    Clark County   34690  POLYGON ((-90.55875 44.42221, -90.53398 44.422...   \n",
       "2     Wood County   74749  POLYGON ((-89.72464 44.33712, -89.72460 44.338...   \n",
       "3     Rusk County   14755  POLYGON ((-90.92517 45.37935, -90.92515 45.379...   \n",
       "4  Ozaukee County   86395  POLYGON ((-87.89269 43.19202, -87.89265 43.192...   \n",
       "\n",
       "     AREALAND  HU100  \n",
       "0   861533739  82164  \n",
       "1  3133378070  15076  \n",
       "2  2054044751  34088  \n",
       "3  2366092584   8883  \n",
       "4   603514413  36267  "
      ]
     },
     "execution_count": 19,
     "metadata": {},
     "output_type": "execute_result"
    }
   ],
   "source": [
    "counties_df.drop(columns=['COUNTY'], inplace=True)\n",
    "counties_df.head()"
   ]
  },
  {
   "cell_type": "code",
   "execution_count": 20,
   "id": "266fae91",
   "metadata": {},
   "outputs": [
    {
     "data": {
      "text/plain": [
       "['Kewaunee County',\n",
       " 'Calumet County',\n",
       " 'Adams County',\n",
       " 'Eau Claire County',\n",
       " 'Milwaukee County',\n",
       " 'Ashland County',\n",
       " 'Wood County',\n",
       " 'Dodge County',\n",
       " 'Sauk County',\n",
       " 'Clark County',\n",
       " 'Pepin County',\n",
       " 'Taylor County',\n",
       " 'Iron County',\n",
       " 'Outagamie County',\n",
       " 'Florence County',\n",
       " 'Oneida County',\n",
       " 'Pierce County',\n",
       " 'Grant County']"
      ]
     },
     "execution_count": 20,
     "metadata": {},
     "output_type": "execute_result"
    }
   ],
   "source": [
    "#q6\n",
    "train, test = train_test_split(counties_df, \n",
    "                               random_state=320, \n",
    "                               test_size=0.25)\n",
    "test['NAME'].to_list()"
   ]
  },
  {
   "cell_type": "code",
   "execution_count": 21,
   "id": "de22ce25",
   "metadata": {},
   "outputs": [
    {
     "data": {
      "text/html": [
       "<div>\n",
       "<style scoped>\n",
       "    .dataframe tbody tr th:only-of-type {\n",
       "        vertical-align: middle;\n",
       "    }\n",
       "\n",
       "    .dataframe tbody tr th {\n",
       "        vertical-align: top;\n",
       "    }\n",
       "\n",
       "    .dataframe thead th {\n",
       "        text-align: right;\n",
       "    }\n",
       "</style>\n",
       "<table border=\"1\" class=\"dataframe\">\n",
       "  <thead>\n",
       "    <tr style=\"text-align: right;\">\n",
       "      <th></th>\n",
       "      <th>NAME</th>\n",
       "      <th>POP100</th>\n",
       "      <th>geometry</th>\n",
       "      <th>AREALAND</th>\n",
       "      <th>HU100</th>\n",
       "    </tr>\n",
       "  </thead>\n",
       "  <tbody>\n",
       "    <tr>\n",
       "      <th>23</th>\n",
       "      <td>Walworth County</td>\n",
       "      <td>102228</td>\n",
       "      <td>POLYGON ((-88.31128 42.49462, -88.31122 42.494...</td>\n",
       "      <td>1438458152</td>\n",
       "      <td>51531</td>\n",
       "    </tr>\n",
       "    <tr>\n",
       "      <th>42</th>\n",
       "      <td>Marquette County</td>\n",
       "      <td>15404</td>\n",
       "      <td>POLYGON ((-89.24491 43.76691, -89.24484 43.767...</td>\n",
       "      <td>1180045997</td>\n",
       "      <td>9896</td>\n",
       "    </tr>\n",
       "    <tr>\n",
       "      <th>0</th>\n",
       "      <td>Racine County</td>\n",
       "      <td>195408</td>\n",
       "      <td>POLYGON ((-88.07073 42.66976, -88.06897 42.669...</td>\n",
       "      <td>861533739</td>\n",
       "      <td>82164</td>\n",
       "    </tr>\n",
       "    <tr>\n",
       "      <th>34</th>\n",
       "      <td>Waupaca County</td>\n",
       "      <td>52410</td>\n",
       "      <td>POLYGON ((-88.73634 44.67907, -88.73717 44.679...</td>\n",
       "      <td>1936517317</td>\n",
       "      <td>25396</td>\n",
       "    </tr>\n",
       "    <tr>\n",
       "      <th>60</th>\n",
       "      <td>Lincoln County</td>\n",
       "      <td>28743</td>\n",
       "      <td>POLYGON ((-89.42532 45.20608, -89.42532 45.206...</td>\n",
       "      <td>2276189610</td>\n",
       "      <td>16784</td>\n",
       "    </tr>\n",
       "  </tbody>\n",
       "</table>\n",
       "</div>"
      ],
      "text/plain": [
       "                NAME  POP100  \\\n",
       "23   Walworth County  102228   \n",
       "42  Marquette County   15404   \n",
       "0      Racine County  195408   \n",
       "34    Waupaca County   52410   \n",
       "60    Lincoln County   28743   \n",
       "\n",
       "                                             geometry    AREALAND  HU100  \n",
       "23  POLYGON ((-88.31128 42.49462, -88.31122 42.494...  1438458152  51531  \n",
       "42  POLYGON ((-89.24491 43.76691, -89.24484 43.767...  1180045997   9896  \n",
       "0   POLYGON ((-88.07073 42.66976, -88.06897 42.669...   861533739  82164  \n",
       "34  POLYGON ((-88.73634 44.67907, -88.73717 44.679...  1936517317  25396  \n",
       "60  POLYGON ((-89.42532 45.20608, -89.42532 45.206...  2276189610  16784  "
      ]
     },
     "execution_count": 21,
     "metadata": {},
     "output_type": "execute_result"
    }
   ],
   "source": [
    "train.head()"
   ]
  },
  {
   "cell_type": "markdown",
   "id": "22b6c631",
   "metadata": {},
   "source": [
    "### Q7: What are the HU100 values for the counties in the train dataset?\n"
   ]
  },
  {
   "cell_type": "code",
   "execution_count": 22,
   "id": "5bec743a",
   "metadata": {},
   "outputs": [
    {
     "data": {
      "text/plain": [
       "{'Walworth County': 51531,\n",
       " 'Marquette County': 9896,\n",
       " 'Racine County': 82164,\n",
       " 'Waupaca County': 25396,\n",
       " 'Lincoln County': 16784,\n",
       " 'Washburn County': 12979,\n",
       " 'Door County': 23966,\n",
       " 'Waukesha County': 160864,\n",
       " 'Sheboygan County': 50766,\n",
       " 'La Crosse County': 48402,\n",
       " 'Langlade County': 12360,\n",
       " 'Marathon County': 57734,\n",
       " 'Jefferson County': 35147,\n",
       " 'Price County': 11120,\n",
       " 'Vilas County': 25116,\n",
       " 'Columbia County': 26137,\n",
       " 'Ozaukee County': 36267,\n",
       " 'Fond du Lac County': 43910,\n",
       " 'Crawford County': 8802,\n",
       " 'Lafayette County': 7230,\n",
       " 'Green County': 15856,\n",
       " 'Marinette County': 30379,\n",
       " 'Vernon County': 13720,\n",
       " 'Douglas County': 22825,\n",
       " 'Rock County': 68422,\n",
       " 'Iowa County': 10719,\n",
       " 'Dane County': 216022,\n",
       " 'Bayfield County': 12999,\n",
       " 'Polk County': 24248,\n",
       " 'Trempealeau County': 12619,\n",
       " 'Brown County': 104371,\n",
       " 'Washington County': 54695,\n",
       " 'Chippewa County': 27185,\n",
       " 'Oconto County': 23537,\n",
       " 'Richland County': 8868,\n",
       " 'Portage County': 30054,\n",
       " 'Sawyer County': 15975,\n",
       " 'Menominee County': 2253,\n",
       " 'Barron County': 23614,\n",
       " 'Shawano County': 20720,\n",
       " 'Winnebago County': 73329,\n",
       " 'Rusk County': 8883,\n",
       " 'Manitowoc County': 37189,\n",
       " 'Dunn County': 17964,\n",
       " 'Monroe County': 19204,\n",
       " 'Waushara County': 14843,\n",
       " 'Forest County': 8970,\n",
       " 'Green Lake County': 10616,\n",
       " 'Juneau County': 14669,\n",
       " 'St. Croix County': 33983,\n",
       " 'Buffalo County': 6664,\n",
       " 'Kenosha County': 69288,\n",
       " 'Jackson County': 9727,\n",
       " 'Burnett County': 15278}"
      ]
     },
     "execution_count": 22,
     "metadata": {},
     "output_type": "execute_result"
    }
   ],
   "source": [
    "#q7\n",
    "dict(zip(train.NAME, train.HU100))"
   ]
  },
  {
   "cell_type": "markdown",
   "id": "95720b32",
   "metadata": {},
   "source": [
    "### Q8: How much variance in the POP100 can a LinearRegression model explain based only on HU100?"
   ]
  },
  {
   "cell_type": "code",
   "execution_count": 23,
   "id": "f60b402f",
   "metadata": {},
   "outputs": [
    {
     "data": {
      "text/plain": [
       "0.9652534544116037"
      ]
     },
     "execution_count": 23,
     "metadata": {},
     "output_type": "execute_result"
    }
   ],
   "source": [
    "#q8\n",
    "model = LinearRegression()\n",
    "model.fit(train[[\"HU100\"]], train['POP100'])\n",
    "score = cross_val_score(model, train[[\"HU100\"]], train['POP100'])\n",
    "score.mean()"
   ]
  },
  {
   "cell_type": "markdown",
   "id": "bd624429",
   "metadata": {},
   "source": [
    "### Q9: What is the standard deviation of the cross validation scores from Q7?"
   ]
  },
  {
   "cell_type": "code",
   "execution_count": 24,
   "id": "9cb5b1f7",
   "metadata": {},
   "outputs": [
    {
     "data": {
      "text/plain": [
       "0.03704265206670459"
      ]
     },
     "execution_count": 24,
     "metadata": {},
     "output_type": "execute_result"
    }
   ],
   "source": [
    "#q9\n",
    "score.std()"
   ]
  },
  {
   "cell_type": "markdown",
   "id": "8a4b7294",
   "metadata": {},
   "source": [
    "### Q10: What is the formula relating POP100 and HU100?"
   ]
  },
  {
   "cell_type": "code",
   "execution_count": 25,
   "id": "78406d13",
   "metadata": {},
   "outputs": [
    {
     "data": {
      "text/plain": [
       "'POP100 = 2.39*HU100 + -7910.46'"
      ]
     },
     "execution_count": 25,
     "metadata": {},
     "output_type": "execute_result"
    }
   ],
   "source": [
    "#q10\n",
    "f\"POP100 = {round(model.coef_[0], 2)}*HU100 + {round(model.intercept_, 2)}\""
   ]
  },
  {
   "cell_type": "code",
   "execution_count": 26,
   "id": "c6125f8f",
   "metadata": {},
   "outputs": [
    {
     "data": {
      "text/html": [
       "<div>\n",
       "<style scoped>\n",
       "    .dataframe tbody tr th:only-of-type {\n",
       "        vertical-align: middle;\n",
       "    }\n",
       "\n",
       "    .dataframe tbody tr th {\n",
       "        vertical-align: top;\n",
       "    }\n",
       "\n",
       "    .dataframe thead th {\n",
       "        text-align: right;\n",
       "    }\n",
       "</style>\n",
       "<table border=\"1\" class=\"dataframe\">\n",
       "  <thead>\n",
       "    <tr style=\"text-align: right;\">\n",
       "      <th></th>\n",
       "      <th>HU100</th>\n",
       "      <th>predicted_y</th>\n",
       "    </tr>\n",
       "  </thead>\n",
       "  <tbody>\n",
       "    <tr>\n",
       "      <th>0</th>\n",
       "      <td>82164</td>\n",
       "      <td>188135.442324</td>\n",
       "    </tr>\n",
       "    <tr>\n",
       "      <th>1</th>\n",
       "      <td>15076</td>\n",
       "      <td>28061.355663</td>\n",
       "    </tr>\n",
       "    <tr>\n",
       "      <th>2</th>\n",
       "      <td>34088</td>\n",
       "      <td>73424.588068</td>\n",
       "    </tr>\n",
       "    <tr>\n",
       "      <th>3</th>\n",
       "      <td>8883</td>\n",
       "      <td>13284.662086</td>\n",
       "    </tr>\n",
       "    <tr>\n",
       "      <th>4</th>\n",
       "      <td>36267</td>\n",
       "      <td>78623.750882</td>\n",
       "    </tr>\n",
       "    <tr>\n",
       "      <th>...</th>\n",
       "      <td>...</td>\n",
       "      <td>...</td>\n",
       "    </tr>\n",
       "    <tr>\n",
       "      <th>67</th>\n",
       "      <td>12979</td>\n",
       "      <td>23057.847439</td>\n",
       "    </tr>\n",
       "    <tr>\n",
       "      <th>68</th>\n",
       "      <td>19204</td>\n",
       "      <td>37910.894027</td>\n",
       "    </tr>\n",
       "    <tr>\n",
       "      <th>69</th>\n",
       "      <td>8868</td>\n",
       "      <td>13248.871613</td>\n",
       "    </tr>\n",
       "    <tr>\n",
       "      <th>70</th>\n",
       "      <td>11120</td>\n",
       "      <td>18622.214732</td>\n",
       "    </tr>\n",
       "    <tr>\n",
       "      <th>71</th>\n",
       "      <td>33983</td>\n",
       "      <td>73174.054752</td>\n",
       "    </tr>\n",
       "  </tbody>\n",
       "</table>\n",
       "<p>72 rows × 2 columns</p>\n",
       "</div>"
      ],
      "text/plain": [
       "    HU100    predicted_y\n",
       "0   82164  188135.442324\n",
       "1   15076   28061.355663\n",
       "2   34088   73424.588068\n",
       "3    8883   13284.662086\n",
       "4   36267   78623.750882\n",
       "..    ...            ...\n",
       "67  12979   23057.847439\n",
       "68  19204   37910.894027\n",
       "69   8868   13248.871613\n",
       "70  11120   18622.214732\n",
       "71  33983   73174.054752\n",
       "\n",
       "[72 rows x 2 columns]"
      ]
     },
     "execution_count": 26,
     "metadata": {},
     "output_type": "execute_result"
    }
   ],
   "source": [
    "predict_df = pd.DataFrame({'HU100': counties_df['HU100']})\n",
    "predict_df['predicted_y'] = model.predict(predict_df)\n",
    "predict_df"
   ]
  },
  {
   "cell_type": "markdown",
   "id": "c120faff",
   "metadata": {},
   "source": [
    "### Q11: What is the relationship between HU100 and POP100, visually?"
   ]
  },
  {
   "cell_type": "code",
   "execution_count": 27,
   "id": "e335c92a",
   "metadata": {},
   "outputs": [],
   "source": [
    "\n",
    "# ax = predict_df.plot.line(x='HU100', y='predicted_y', color='red', label='Predicted')\n",
    "# counties_df.plot.scatter(x='HU100', y='POP100', ax=ax, color='blue', label='Actual')\n",
    "\n",
    "# dane_hu = counties_df[counties_df['NAME']=='Dane County'].HU100\n",
    "# dane_pop = counties_df[counties_df['NAME']=='Dane County'].POP100\n",
    "# ax.text(dane_hu, dane_pop, '  Dane', va='center', ha='left')"
   ]
  },
  {
   "cell_type": "code",
   "execution_count": 28,
   "id": "922c1fb9",
   "metadata": {},
   "outputs": [
    {
     "data": {
      "text/plain": [
       "Text(59    216022\n",
       "Name: HU100, dtype: int64, 59    488073\n",
       "Name: POP100, dtype: int64, ' Dane')"
      ]
     },
     "execution_count": 28,
     "metadata": {},
     "output_type": "execute_result"
    },
    {
     "data": {
      "image/png": "[encoded data removed]",
      "text/plain": [
       "<Figure size 576x432 with 1 Axes>"
      ]
     },
     "metadata": {
      "needs_background": "light"
     },
     "output_type": "display_data"
    }
   ],
   "source": [
    "#q11\n",
    "plt.rcParams[\"font.size\"] = 16\n",
    "fig, ax = plt.subplots(figsize=(8, 6))\n",
    "counties_df.plot.scatter(x='HU100', y='POP100', ax=ax, color='blue', label='Actual')\n",
    "predict_df.plot.line(x='HU100', y='predicted_y', color='red', label='Predicted', ax=ax)\n",
    "\n",
    "\n",
    "dane_hu = counties_df[counties_df['NAME']=='Dane County'].HU100\n",
    "dane_pop = counties_df[counties_df['NAME']=='Dane County'].POP100\n",
    "ax.text(dane_hu, dane_pop, ' Dane', va='center', ha='left')"
   ]
  },
  {
   "cell_type": "markdown",
   "id": "5e85bd1d",
   "metadata": {},
   "source": [
    "### Q12: How many numbers in matrix A are between 2 and 5 (inclusive)?"
   ]
  },
  {
   "cell_type": "code",
   "execution_count": 29,
   "id": "08bb464e",
   "metadata": {},
   "outputs": [
    {
     "data": {
      "text/plain": [
       "12"
      ]
     },
     "execution_count": 29,
     "metadata": {},
     "output_type": "execute_result"
    }
   ],
   "source": [
    "#q12\n",
    "A = np.array([\n",
    "    [0,0,5,8,4],\n",
    "    [1,2,4,0,3],\n",
    "    [2,4,0,9,2],\n",
    "    [3,5,2,1,1],\n",
    "    [0,5,0,1,0]\n",
    "])\n",
    "len(A[(A<=5) * (A>=2)])"
   ]
  },
  {
   "cell_type": "markdown",
   "id": "82fefb36",
   "metadata": {},
   "source": [
    "### Q13: How does Milwaukee County look?"
   ]
  },
  {
   "cell_type": "code",
   "execution_count": 30,
   "id": "7a9c2000",
   "metadata": {},
   "outputs": [
    {
     "data": {
      "text/html": [
       "<div>\n",
       "<style scoped>\n",
       "    .dataframe tbody tr th:only-of-type {\n",
       "        vertical-align: middle;\n",
       "    }\n",
       "\n",
       "    .dataframe tbody tr th {\n",
       "        vertical-align: top;\n",
       "    }\n",
       "\n",
       "    .dataframe thead th {\n",
       "        text-align: right;\n",
       "    }\n",
       "</style>\n",
       "<table border=\"1\" class=\"dataframe\">\n",
       "  <thead>\n",
       "    <tr style=\"text-align: right;\">\n",
       "      <th></th>\n",
       "      <th>NAME</th>\n",
       "      <th>POP100</th>\n",
       "      <th>geometry</th>\n",
       "      <th>AREALAND</th>\n",
       "      <th>HU100</th>\n",
       "    </tr>\n",
       "  </thead>\n",
       "  <tbody>\n",
       "    <tr>\n",
       "      <th>15</th>\n",
       "      <td>Milwaukee County</td>\n",
       "      <td>947735</td>\n",
       "      <td>POLYGON ((-87.82631 42.84223, -87.82418 42.842...</td>\n",
       "      <td>625435295</td>\n",
       "      <td>418053</td>\n",
       "    </tr>\n",
       "  </tbody>\n",
       "</table>\n",
       "</div>"
      ],
      "text/plain": [
       "                NAME  POP100  \\\n",
       "15  Milwaukee County  947735   \n",
       "\n",
       "                                             geometry   AREALAND   HU100  \n",
       "15  POLYGON ((-87.82631 42.84223, -87.82418 42.842...  625435295  418053  "
      ]
     },
     "execution_count": 30,
     "metadata": {},
     "output_type": "execute_result"
    }
   ],
   "source": [
    "milwaukee_df = counties_df[counties_df[\"NAME\"] == 'Milwaukee County']\n",
    "milwaukee_df"
   ]
  },
  {
   "cell_type": "code",
   "execution_count": 31,
   "id": "f023fea8",
   "metadata": {},
   "outputs": [],
   "source": [
    "land = rasterio.open(\"zip://../p6/land.zip!wi.tif\")"
   ]
  },
  {
   "cell_type": "code",
   "execution_count": 32,
   "id": "b98ba3b5",
   "metadata": {},
   "outputs": [],
   "source": [
    "matrix, _ = mask(land, milwaukee_df.to_crs(land.crs)[\"geometry\"], crop=True)\n",
    "matrix = matrix[0]"
   ]
  },
  {
   "cell_type": "code",
   "execution_count": 33,
   "id": "9c13e8e9",
   "metadata": {
    "scrolled": true
   },
   "outputs": [
    {
     "data": {
      "text/plain": [
       "array([[0, 0, 0, ..., 0, 0, 0],\n",
       "       [0, 0, 0, ..., 0, 0, 0],\n",
       "       [0, 0, 0, ..., 0, 0, 0],\n",
       "       ...,\n",
       "       [0, 0, 0, ..., 0, 0, 0],\n",
       "       [0, 0, 0, ..., 0, 0, 0],\n",
       "       [0, 0, 0, ..., 0, 0, 0]], dtype=uint8)"
      ]
     },
     "execution_count": 33,
     "metadata": {},
     "output_type": "execute_result"
    }
   ],
   "source": [
    "matrix"
   ]
  },
  {
   "cell_type": "code",
   "execution_count": 34,
   "id": "3c4a3ec6",
   "metadata": {},
   "outputs": [],
   "source": [
    "from matplotlib.colors import ListedColormap\n",
    "\n",
    "# what is this matric for ???\n",
    "\n",
    "c = np.zeros((256,3))\n",
    "c[0] = [0.00000000000, 0.00000000000, 0.00000000000]\n",
    "c[11] = [0.27843137255, 0.41960784314, 0.62745098039]\n",
    "c[12] = [0.81960784314, 0.86666666667, 0.97647058824]\n",
    "c[21] = [0.86666666667, 0.78823529412, 0.78823529412]\n",
    "c[22] = [0.84705882353, 0.57647058824, 0.50980392157]\n",
    "c[23] = [0.92941176471, 0.00000000000, 0.00000000000]\n",
    "c[24] = [0.66666666667, 0.00000000000, 0.00000000000]\n",
    "c[31] = [0.69803921569, 0.67843137255, 0.63921568628]\n",
    "c[41] = [0.40784313726, 0.66666666667, 0.38823529412]\n",
    "c[42] = [0.10980392157, 0.38823529412, 0.18823529412]\n",
    "c[43] = [0.70980392157, 0.78823529412, 0.55686274510]\n",
    "c[51] = [0.64705882353, 0.54901960784, 0.18823529412]\n",
    "c[52] = [0.80000000000, 0.72941176471, 0.48627450980]\n",
    "c[71] = [0.88627450980, 0.88627450980, 0.75686274510]\n",
    "c[72] = [0.78823529412, 0.78823529412, 0.46666666667]\n",
    "c[73] = [0.60000000000, 0.75686274510, 0.27843137255]\n",
    "c[74] = [0.46666666667, 0.67843137255, 0.57647058824]\n",
    "c[81] = [0.85882352941, 0.84705882353, 0.23921568628]\n",
    "c[82] = [0.66666666667, 0.43921568628, 0.15686274510]\n",
    "c[90] = [0.72941176471, 0.84705882353, 0.91764705882]\n",
    "c[95] = [0.43921568628, 0.63921568628, 0.72941176471]\n",
    "custom_cmap = ListedColormap(c)"
   ]
  },
  {
   "cell_type": "code",
   "execution_count": 35,
   "id": "02467084",
   "metadata": {},
   "outputs": [
    {
     "data": {
      "text/plain": [
       "<matplotlib.image.AxesImage at 0x7ffb02bd1370>"
      ]
     },
     "execution_count": 35,
     "metadata": {},
     "output_type": "execute_result"
    },
    {
     "data": {
      "image/png": "[encoded data removed]",
      "text/plain": [
       "<Figure size 864x864 with 1 Axes>"
      ]
     },
     "metadata": {
      "needs_background": "light"
     },
     "output_type": "display_data"
    }
   ],
   "source": [
    "#q13\n",
    "fig, ax = plt.subplots(figsize=(12,12))\n",
    "ax.imshow(matrix, vmin=0, vmax=255, cmap=custom_cmap)"
   ]
  },
  {
   "cell_type": "code",
   "execution_count": 36,
   "id": "ca950911",
   "metadata": {
    "scrolled": false
   },
   "outputs": [],
   "source": [
    "#plt.imshow(matrix, cmap=custom_cmap)"
   ]
  },
  {
   "cell_type": "markdown",
   "id": "23ee1b4c",
   "metadata": {},
   "source": [
    "### Q14: What portion of Milwaukee County is \"Open Water\"?"
   ]
  },
  {
   "cell_type": "code",
   "execution_count": 37,
   "id": "a311ffe3",
   "metadata": {},
   "outputs": [
    {
     "data": {
      "text/plain": [
       "array([[False, False, False, ..., False, False, False],\n",
       "       [False, False, False, ..., False, False, False],\n",
       "       [False, False, False, ..., False, False, False],\n",
       "       ...,\n",
       "       [False, False, False, ..., False, False, False],\n",
       "       [False, False, False, ..., False, False, False],\n",
       "       [False, False, False, ..., False, False, False]])"
      ]
     },
     "execution_count": 37,
     "metadata": {},
     "output_type": "execute_result"
    }
   ],
   "source": [
    "matrix == 11"
   ]
  },
  {
   "cell_type": "code",
   "execution_count": 38,
   "id": "3ab2a4fd",
   "metadata": {},
   "outputs": [
    {
     "data": {
      "text/plain": [
       "0.7963037455950543"
      ]
     },
     "execution_count": 38,
     "metadata": {},
     "output_type": "execute_result"
    }
   ],
   "source": [
    "#q14\n",
    "(matrix == 11).astype(int).sum() / (matrix > 0).astype(int).sum()"
   ]
  },
  {
   "cell_type": "code",
   "execution_count": 39,
   "id": "ddd393cc",
   "metadata": {},
   "outputs": [
    {
     "data": {
      "text/html": [
       "<div>\n",
       "<style scoped>\n",
       "    .dataframe tbody tr th:only-of-type {\n",
       "        vertical-align: middle;\n",
       "    }\n",
       "\n",
       "    .dataframe tbody tr th {\n",
       "        vertical-align: top;\n",
       "    }\n",
       "\n",
       "    .dataframe thead th {\n",
       "        text-align: right;\n",
       "    }\n",
       "</style>\n",
       "<table border=\"1\" class=\"dataframe\">\n",
       "  <thead>\n",
       "    <tr style=\"text-align: right;\">\n",
       "      <th></th>\n",
       "      <th>NAME</th>\n",
       "      <th>POP100</th>\n",
       "      <th>geometry</th>\n",
       "      <th>AREALAND</th>\n",
       "      <th>HU100</th>\n",
       "    </tr>\n",
       "  </thead>\n",
       "  <tbody>\n",
       "    <tr>\n",
       "      <th>0</th>\n",
       "      <td>Racine County</td>\n",
       "      <td>195408</td>\n",
       "      <td>POLYGON ((-88.07073 42.66976, -88.06897 42.669...</td>\n",
       "      <td>861533739</td>\n",
       "      <td>82164</td>\n",
       "    </tr>\n",
       "    <tr>\n",
       "      <th>1</th>\n",
       "      <td>Clark County</td>\n",
       "      <td>34690</td>\n",
       "      <td>POLYGON ((-90.55875 44.42221, -90.53398 44.422...</td>\n",
       "      <td>3133378070</td>\n",
       "      <td>15076</td>\n",
       "    </tr>\n",
       "    <tr>\n",
       "      <th>2</th>\n",
       "      <td>Wood County</td>\n",
       "      <td>74749</td>\n",
       "      <td>POLYGON ((-89.72464 44.33712, -89.72460 44.338...</td>\n",
       "      <td>2054044751</td>\n",
       "      <td>34088</td>\n",
       "    </tr>\n",
       "    <tr>\n",
       "      <th>3</th>\n",
       "      <td>Rusk County</td>\n",
       "      <td>14755</td>\n",
       "      <td>POLYGON ((-90.92517 45.37935, -90.92515 45.379...</td>\n",
       "      <td>2366092584</td>\n",
       "      <td>8883</td>\n",
       "    </tr>\n",
       "    <tr>\n",
       "      <th>4</th>\n",
       "      <td>Ozaukee County</td>\n",
       "      <td>86395</td>\n",
       "      <td>POLYGON ((-87.89269 43.19202, -87.89265 43.192...</td>\n",
       "      <td>603514413</td>\n",
       "      <td>36267</td>\n",
       "    </tr>\n",
       "  </tbody>\n",
       "</table>\n",
       "</div>"
      ],
      "text/plain": [
       "             NAME  POP100                                           geometry  \\\n",
       "0   Racine County  195408  POLYGON ((-88.07073 42.66976, -88.06897 42.669...   \n",
       "1    Clark County   34690  POLYGON ((-90.55875 44.42221, -90.53398 44.422...   \n",
       "2     Wood County   74749  POLYGON ((-89.72464 44.33712, -89.72460 44.338...   \n",
       "3     Rusk County   14755  POLYGON ((-90.92517 45.37935, -90.92515 45.379...   \n",
       "4  Ozaukee County   86395  POLYGON ((-87.89269 43.19202, -87.89265 43.192...   \n",
       "\n",
       "     AREALAND  HU100  \n",
       "0   861533739  82164  \n",
       "1  3133378070  15076  \n",
       "2  2054044751  34088  \n",
       "3  2366092584   8883  \n",
       "4   603514413  36267  "
      ]
     },
     "execution_count": 39,
     "metadata": {},
     "output_type": "execute_result"
    }
   ],
   "source": [
    "counties_df.head()"
   ]
  },
  {
   "cell_type": "markdown",
   "id": "0635f14b",
   "metadata": {},
   "source": [
    "### Q15: What is the Relationship Between POP100 and  and ___grassland____ ?"
   ]
  },
  {
   "cell_type": "code",
   "execution_count": 40,
   "id": "de4a561d",
   "metadata": {},
   "outputs": [
    {
     "data": {
      "text/plain": [
       "Text(0.5, 1.0, 'Relationship Between POP100 and GRASSLAND')"
      ]
     },
     "execution_count": 40,
     "metadata": {},
     "output_type": "execute_result"
    },
    {
     "data": {
      "image/png": "[encoded data removed]",
      "text/plain": [
       "<Figure size 432x288 with 1 Axes>"
      ]
     },
     "metadata": {
      "needs_background": "light"
     },
     "output_type": "display_data"
    }
   ],
   "source": [
    "#q15\n",
    "# the Relationship Between POP100 and ___grassland____\n",
    "\n",
    "# always create a empty list first, is there another way to do?\n",
    "dict_15 = {'NAME': [], 'POP100': [], 'PASTURE_TYPE': [], 'GRASSLAND': []}\n",
    "land = rasterio.open(\"zip://../p6/land.zip!wi.tif\")\n",
    "\n",
    "for i in range(len(counties_df['NAME'])):\n",
    "    name = counties_df['NAME'].iloc[i]\n",
    "    dict_15['NAME'].append(name)\n",
    "    dict_15['POP100'].append(counties_df['POP100'].iloc[i])\n",
    "    \n",
    "    county_df = counties_df[counties_df[\"NAME\"] == name]\n",
    "    matrix, _ = mask(land, county_df.to_crs(land.crs)[\"geometry\"], crop=True)\n",
    "    matrix = matrix[0]\n",
    "    pasture = (matrix == 81).astype(int).sum()\n",
    "    grass = (matrix == 71).astype(int).sum()\n",
    "    dict_15['PASTURE_TYPE'].append(pasture)\n",
    "    dict_15['GRASSLAND'].append(grass)\n",
    "\n",
    "ax = pd.DataFrame(dict_15).plot.scatter(x='GRASSLAND', y='POP100')\n",
    "ax.set_title(\"Relationship Between POP100 and GRASSLAND\")"
   ]
  },
  {
   "cell_type": "code",
   "execution_count": 41,
   "id": "dd701fba",
   "metadata": {},
   "outputs": [
    {
     "data": {
      "text/plain": [
       "Text(0.5, 1.0, 'Relationship Between POP100 and PASTURE_TYPE')"
      ]
     },
     "execution_count": 41,
     "metadata": {},
     "output_type": "execute_result"
    },
    {
     "data": {
      "image/png": "[encoded data removed]",
      "text/plain": [
       "<Figure size 432x288 with 1 Axes>"
      ]
     },
     "metadata": {
      "needs_background": "light"
     },
     "output_type": "display_data"
    }
   ],
   "source": [
    "ax = pd.DataFrame(dict_15).plot.scatter(x='PASTURE_TYPE', y='POP100')\n",
    "ax.set_title(\"Relationship Between POP100 and PASTURE_TYPE\")"
   ]
  },
  {
   "cell_type": "markdown",
   "id": "c602152e",
   "metadata": {},
   "source": [
    "### Individual Part"
   ]
  },
  {
   "cell_type": "code",
   "execution_count": 42,
   "id": "661359a5",
   "metadata": {},
   "outputs": [
    {
     "data": {
      "text/html": [
       "<div>\n",
       "<style scoped>\n",
       "    .dataframe tbody tr th:only-of-type {\n",
       "        vertical-align: middle;\n",
       "    }\n",
       "\n",
       "    .dataframe tbody tr th {\n",
       "        vertical-align: top;\n",
       "    }\n",
       "\n",
       "    .dataframe thead th {\n",
       "        text-align: right;\n",
       "    }\n",
       "</style>\n",
       "<table border=\"1\" class=\"dataframe\">\n",
       "  <thead>\n",
       "    <tr style=\"text-align: right;\">\n",
       "      <th></th>\n",
       "      <th>GEOID</th>\n",
       "      <th>POP100</th>\n",
       "      <th>geometry</th>\n",
       "    </tr>\n",
       "  </thead>\n",
       "  <tbody>\n",
       "    <tr>\n",
       "      <th>0</th>\n",
       "      <td>55001950204</td>\n",
       "      <td>1646</td>\n",
       "      <td>POLYGON ((-90.02638 44.08721, -90.02628 44.086...</td>\n",
       "    </tr>\n",
       "    <tr>\n",
       "      <th>1</th>\n",
       "      <td>55009940002</td>\n",
       "      <td>4698</td>\n",
       "      <td>POLYGON ((-88.15018 44.51202, -88.15011 44.509...</td>\n",
       "    </tr>\n",
       "    <tr>\n",
       "      <th>2</th>\n",
       "      <td>55061990000</td>\n",
       "      <td>0</td>\n",
       "      <td>POLYGON ((-87.53727 44.33179, -87.53920 44.327...</td>\n",
       "    </tr>\n",
       "    <tr>\n",
       "      <th>3</th>\n",
       "      <td>55009020100</td>\n",
       "      <td>5817</td>\n",
       "      <td>POLYGON ((-87.93753 44.67821, -87.93742 44.630...</td>\n",
       "    </tr>\n",
       "    <tr>\n",
       "      <th>4</th>\n",
       "      <td>55009010100</td>\n",
       "      <td>6506</td>\n",
       "      <td>POLYGON ((-88.06825 44.45368, -88.06830 44.453...</td>\n",
       "    </tr>\n",
       "  </tbody>\n",
       "</table>\n",
       "</div>"
      ],
      "text/plain": [
       "         GEOID  POP100                                           geometry\n",
       "0  55001950204    1646  POLYGON ((-90.02638 44.08721, -90.02628 44.086...\n",
       "1  55009940002    4698  POLYGON ((-88.15018 44.51202, -88.15011 44.509...\n",
       "2  55061990000       0  POLYGON ((-87.53727 44.33179, -87.53920 44.327...\n",
       "3  55009020100    5817  POLYGON ((-87.93753 44.67821, -87.93742 44.630...\n",
       "4  55009010100    6506  POLYGON ((-88.06825 44.45368, -88.06830 44.453..."
      ]
     },
     "execution_count": 42,
     "metadata": {},
     "output_type": "execute_result"
    }
   ],
   "source": [
    "tracts_df.head()"
   ]
  },
  {
   "cell_type": "code",
   "execution_count": 43,
   "id": "2dda1890",
   "metadata": {},
   "outputs": [],
   "source": [
    "land_use = {\"open_water\": 11,\n",
    "            \"ice_snow\": 12,\n",
    "            \"developed_open\": 21,\n",
    "            \"developed_low\": 22,\n",
    "            \"developed_med\": 23,\n",
    "            \"developed_high\": 24,\n",
    "            \"barren\": 31,\n",
    "            \"deciduous\": 41,\n",
    "            \"evergreen\": 42,\n",
    "            \"mixed_forest\": 43,\n",
    "            \"dwarf_scrub\": 51,\n",
    "            \"shrub_scrub\": 52,\n",
    "            \"grassland\": 71,\n",
    "            \"sedge\": 72,\n",
    "            \"lichens\": 73,\n",
    "            \"moss\": 74,\n",
    "            \"pasture\": 81,\n",
    "            \"crops\": 82,\n",
    "            \"woody_wetlands\": 90,\n",
    "            \"herbacious_wetlands\": 95}\n"
   ]
  },
  {
   "cell_type": "code",
   "execution_count": 44,
   "id": "fa2fbb7f",
   "metadata": {},
   "outputs": [],
   "source": [
    "tracts_dict = {\n",
    "    'GEOID': tracts_df['GEOID'].to_list(),\n",
    "    'POP100': tracts_df['POP100'].to_list(),\n",
    "}\n",
    "\n",
    "for key in land_use:\n",
    "    tracts_dict[key] = []\n"
   ]
  },
  {
   "cell_type": "code",
   "execution_count": 45,
   "id": "095d51c6",
   "metadata": {},
   "outputs": [],
   "source": [
    "\n",
    "for i in range(len(tracts_df['GEOID'])):\n",
    "    geo_id = tracts_df['GEOID'].iloc[i]\n",
    "    tract_df = tracts_df[tracts_df[\"GEOID\"] == geo_id]\n",
    "    matrix, _ = mask(land, tract_df.to_crs(land.crs)[\"geometry\"], crop=True)\n",
    "    matrix = matrix[0]\n",
    "    \n",
    "    for key in tracts_dict:\n",
    "        if key in land_use:\n",
    "            land_num = land_use[key]\n",
    "            value = (matrix == land_num).astype(int).sum()\n",
    "            tracts_dict[key].append(value)\n",
    "    "
   ]
  },
  {
   "cell_type": "code",
   "execution_count": 46,
   "id": "54a26e49",
   "metadata": {},
   "outputs": [],
   "source": [
    "train_data = pd.DataFrame(tracts_dict)"
   ]
  },
  {
   "cell_type": "code",
   "execution_count": 47,
   "id": "e52332bc",
   "metadata": {},
   "outputs": [
    {
     "data": {
      "text/html": [
       "<div>\n",
       "<style scoped>\n",
       "    .dataframe tbody tr th:only-of-type {\n",
       "        vertical-align: middle;\n",
       "    }\n",
       "\n",
       "    .dataframe tbody tr th {\n",
       "        vertical-align: top;\n",
       "    }\n",
       "\n",
       "    .dataframe thead th {\n",
       "        text-align: right;\n",
       "    }\n",
       "</style>\n",
       "<table border=\"1\" class=\"dataframe\">\n",
       "  <thead>\n",
       "    <tr style=\"text-align: right;\">\n",
       "      <th></th>\n",
       "      <th>GEOID</th>\n",
       "      <th>POP100</th>\n",
       "      <th>open_water</th>\n",
       "      <th>ice_snow</th>\n",
       "      <th>developed_open</th>\n",
       "      <th>developed_low</th>\n",
       "      <th>developed_med</th>\n",
       "      <th>developed_high</th>\n",
       "      <th>barren</th>\n",
       "      <th>deciduous</th>\n",
       "      <th>...</th>\n",
       "      <th>dwarf_scrub</th>\n",
       "      <th>shrub_scrub</th>\n",
       "      <th>grassland</th>\n",
       "      <th>sedge</th>\n",
       "      <th>lichens</th>\n",
       "      <th>moss</th>\n",
       "      <th>pasture</th>\n",
       "      <th>crops</th>\n",
       "      <th>woody_wetlands</th>\n",
       "      <th>herbacious_wetlands</th>\n",
       "    </tr>\n",
       "  </thead>\n",
       "  <tbody>\n",
       "    <tr>\n",
       "      <th>0</th>\n",
       "      <td>55001950204</td>\n",
       "      <td>1646</td>\n",
       "      <td>55465</td>\n",
       "      <td>0</td>\n",
       "      <td>12351</td>\n",
       "      <td>5402</td>\n",
       "      <td>833</td>\n",
       "      <td>104</td>\n",
       "      <td>175</td>\n",
       "      <td>62714</td>\n",
       "      <td>...</td>\n",
       "      <td>0</td>\n",
       "      <td>18518</td>\n",
       "      <td>33652</td>\n",
       "      <td>0</td>\n",
       "      <td>0</td>\n",
       "      <td>0</td>\n",
       "      <td>3136</td>\n",
       "      <td>73433</td>\n",
       "      <td>84766</td>\n",
       "      <td>20975</td>\n",
       "    </tr>\n",
       "    <tr>\n",
       "      <th>1</th>\n",
       "      <td>55009940002</td>\n",
       "      <td>4698</td>\n",
       "      <td>57</td>\n",
       "      <td>0</td>\n",
       "      <td>1456</td>\n",
       "      <td>2104</td>\n",
       "      <td>1211</td>\n",
       "      <td>243</td>\n",
       "      <td>229</td>\n",
       "      <td>2619</td>\n",
       "      <td>...</td>\n",
       "      <td>0</td>\n",
       "      <td>23</td>\n",
       "      <td>38</td>\n",
       "      <td>0</td>\n",
       "      <td>0</td>\n",
       "      <td>0</td>\n",
       "      <td>770</td>\n",
       "      <td>1503</td>\n",
       "      <td>2317</td>\n",
       "      <td>123</td>\n",
       "    </tr>\n",
       "    <tr>\n",
       "      <th>2</th>\n",
       "      <td>55061990000</td>\n",
       "      <td>0</td>\n",
       "      <td>2107187</td>\n",
       "      <td>0</td>\n",
       "      <td>0</td>\n",
       "      <td>0</td>\n",
       "      <td>0</td>\n",
       "      <td>0</td>\n",
       "      <td>0</td>\n",
       "      <td>0</td>\n",
       "      <td>...</td>\n",
       "      <td>0</td>\n",
       "      <td>0</td>\n",
       "      <td>0</td>\n",
       "      <td>0</td>\n",
       "      <td>0</td>\n",
       "      <td>0</td>\n",
       "      <td>0</td>\n",
       "      <td>0</td>\n",
       "      <td>0</td>\n",
       "      <td>0</td>\n",
       "    </tr>\n",
       "    <tr>\n",
       "      <th>3</th>\n",
       "      <td>55009020100</td>\n",
       "      <td>5817</td>\n",
       "      <td>117008</td>\n",
       "      <td>0</td>\n",
       "      <td>6209</td>\n",
       "      <td>7738</td>\n",
       "      <td>1971</td>\n",
       "      <td>337</td>\n",
       "      <td>718</td>\n",
       "      <td>6347</td>\n",
       "      <td>...</td>\n",
       "      <td>0</td>\n",
       "      <td>60</td>\n",
       "      <td>327</td>\n",
       "      <td>0</td>\n",
       "      <td>0</td>\n",
       "      <td>0</td>\n",
       "      <td>17419</td>\n",
       "      <td>112681</td>\n",
       "      <td>26017</td>\n",
       "      <td>2677</td>\n",
       "    </tr>\n",
       "    <tr>\n",
       "      <th>4</th>\n",
       "      <td>55009010100</td>\n",
       "      <td>6506</td>\n",
       "      <td>530</td>\n",
       "      <td>0</td>\n",
       "      <td>1141</td>\n",
       "      <td>2711</td>\n",
       "      <td>1109</td>\n",
       "      <td>174</td>\n",
       "      <td>2</td>\n",
       "      <td>0</td>\n",
       "      <td>...</td>\n",
       "      <td>0</td>\n",
       "      <td>0</td>\n",
       "      <td>52</td>\n",
       "      <td>0</td>\n",
       "      <td>0</td>\n",
       "      <td>0</td>\n",
       "      <td>23</td>\n",
       "      <td>2</td>\n",
       "      <td>79</td>\n",
       "      <td>47</td>\n",
       "    </tr>\n",
       "  </tbody>\n",
       "</table>\n",
       "<p>5 rows × 22 columns</p>\n",
       "</div>"
      ],
      "text/plain": [
       "         GEOID  POP100  open_water  ice_snow  developed_open  developed_low  \\\n",
       "0  55001950204    1646       55465         0           12351           5402   \n",
       "1  55009940002    4698          57         0            1456           2104   \n",
       "2  55061990000       0     2107187         0               0              0   \n",
       "3  55009020100    5817      117008         0            6209           7738   \n",
       "4  55009010100    6506         530         0            1141           2711   \n",
       "\n",
       "   developed_med  developed_high  barren  deciduous  ...  dwarf_scrub  \\\n",
       "0            833             104     175      62714  ...            0   \n",
       "1           1211             243     229       2619  ...            0   \n",
       "2              0               0       0          0  ...            0   \n",
       "3           1971             337     718       6347  ...            0   \n",
       "4           1109             174       2          0  ...            0   \n",
       "\n",
       "   shrub_scrub  grassland  sedge  lichens  moss  pasture   crops  \\\n",
       "0        18518      33652      0        0     0     3136   73433   \n",
       "1           23         38      0        0     0      770    1503   \n",
       "2            0          0      0        0     0        0       0   \n",
       "3           60        327      0        0     0    17419  112681   \n",
       "4            0         52      0        0     0       23       2   \n",
       "\n",
       "   woody_wetlands  herbacious_wetlands  \n",
       "0           84766                20975  \n",
       "1            2317                  123  \n",
       "2               0                    0  \n",
       "3           26017                 2677  \n",
       "4              79                   47  \n",
       "\n",
       "[5 rows x 22 columns]"
      ]
     },
     "execution_count": 47,
     "metadata": {},
     "output_type": "execute_result"
    }
   ],
   "source": [
    "train_data.head()"
   ]
  },
  {
   "cell_type": "code",
   "execution_count": 48,
   "id": "b2e940f0",
   "metadata": {},
   "outputs": [],
   "source": [
    "train, test = train_test_split(train_data, \n",
    "                               random_state=320, \n",
    "                               test_size=0.25)\n"
   ]
  },
  {
   "cell_type": "code",
   "execution_count": 49,
   "id": "ae013f92",
   "metadata": {
    "scrolled": true
   },
   "outputs": [
    {
     "data": {
      "text/plain": [
       "Index(['GEOID', 'POP100', 'open_water', 'ice_snow', 'developed_open',\n",
       "       'developed_low', 'developed_med', 'developed_high', 'barren',\n",
       "       'deciduous', 'evergreen', 'mixed_forest', 'dwarf_scrub', 'shrub_scrub',\n",
       "       'grassland', 'sedge', 'lichens', 'moss', 'pasture', 'crops',\n",
       "       'woody_wetlands', 'herbacious_wetlands'],\n",
       "      dtype='object')"
      ]
     },
     "execution_count": 49,
     "metadata": {},
     "output_type": "execute_result"
    }
   ],
   "source": [
    "features = train.columns\n",
    "features"
   ]
  },
  {
   "cell_type": "code",
   "execution_count": 50,
   "id": "79ec05df",
   "metadata": {},
   "outputs": [],
   "source": [
    "features_cols = ['open_water', 'ice_snow', 'developed_open',\n",
    "       'developed_low', 'developed_med', 'developed_high', 'barren',\n",
    "       'deciduous', 'evergreen', 'mixed_forest', 'dwarf_scrub', 'shrub_scrub',\n",
    "       'grassland', 'sedge', 'lichens', 'moss', 'pasture', 'crops',\n",
    "       'woody_wetlands', 'herbacious_wetlands']"
   ]
  },
  {
   "cell_type": "code",
   "execution_count": 51,
   "id": "df56c6e7",
   "metadata": {},
   "outputs": [
    {
     "data": {
      "text/plain": [
       "ColumnTransformer(transformers=[('standardscaler', StandardScaler(),\n",
       "                                 ['open_water', 'ice_snow', 'developed_open',\n",
       "                                  'developed_low', 'developed_med',\n",
       "                                  'developed_high', 'barren', 'deciduous',\n",
       "                                  'evergreen', 'mixed_forest', 'dwarf_scrub',\n",
       "                                  'shrub_scrub', 'grassland', 'sedge',\n",
       "                                  'lichens', 'moss', 'pasture', 'crops',\n",
       "                                  'woody_wetlands', 'herbacious_wetlands'])])"
      ]
     },
     "execution_count": 51,
     "metadata": {},
     "output_type": "execute_result"
    }
   ],
   "source": [
    "# candidate 1\n",
    "trans_1 = make_column_transformer(\n",
    "    (preprocessing.StandardScaler(), features_cols)\n",
    ")\n",
    "trans_1"
   ]
  },
  {
   "cell_type": "code",
   "execution_count": 52,
   "id": "4775972e",
   "metadata": {},
   "outputs": [
    {
     "data": {
      "text/plain": [
       "Pipeline(steps=[('trans',\n",
       "                 ColumnTransformer(transformers=[('standardscaler',\n",
       "                                                  StandardScaler(),\n",
       "                                                  ['open_water', 'ice_snow',\n",
       "                                                   'developed_open',\n",
       "                                                   'developed_low',\n",
       "                                                   'developed_med',\n",
       "                                                   'developed_high', 'barren',\n",
       "                                                   'deciduous', 'evergreen',\n",
       "                                                   'mixed_forest',\n",
       "                                                   'dwarf_scrub', 'shrub_scrub',\n",
       "                                                   'grassland', 'sedge',\n",
       "                                                   'lichens', 'moss', 'pasture',\n",
       "                                                   'crops', 'woody_wetlands',\n",
       "                                                   'herbacious_wetlands'])])),\n",
       "                ('lr', LinearRegression())])"
      ]
     },
     "execution_count": 52,
     "metadata": {},
     "output_type": "execute_result"
    }
   ],
   "source": [
    "# candidate 1\n",
    "model1 = Pipeline([\n",
    "    (\"trans\", trans_1),\n",
    "    (\"lr\", LinearRegression()),\n",
    "])\n",
    "model1"
   ]
  },
  {
   "cell_type": "code",
   "execution_count": 53,
   "id": "7789cf57",
   "metadata": {},
   "outputs": [
    {
     "data": {
      "text/plain": [
       "0.5009996034189181"
      ]
     },
     "execution_count": 53,
     "metadata": {},
     "output_type": "execute_result"
    }
   ],
   "source": [
    "cross_val_score(model1, train[features_cols], train['POP100']).mean()"
   ]
  },
  {
   "cell_type": "code",
   "execution_count": 54,
   "id": "1e2243b6",
   "metadata": {},
   "outputs": [
    {
     "data": {
      "text/plain": [
       "0.4049894565296882"
      ]
     },
     "execution_count": 54,
     "metadata": {},
     "output_type": "execute_result"
    }
   ],
   "source": [
    "# candidate 2\n",
    "model2 = LinearRegression()\n",
    "cross_val_score(model2, train[['developed_open','developed_low', 'developed_med']],\n",
    "                train['POP100']).mean()"
   ]
  },
  {
   "cell_type": "markdown",
   "id": "b2787cf7",
   "metadata": {},
   "source": [
    "### Q16: How do the models you selected compare under cross validation?\n"
   ]
  },
  {
   "cell_type": "code",
   "execution_count": 55,
   "id": "2708c2fd",
   "metadata": {},
   "outputs": [
    {
     "data": {
      "text/plain": [
       "Text(0.5, 1.0, 'Model Performance')"
      ]
     },
     "execution_count": 55,
     "metadata": {},
     "output_type": "execute_result"
    },
    {
     "data": {
      "image/png": "[encoded data removed]",
      "text/plain": [
       "<Figure size 432x288 with 1 Axes>"
      ]
     },
     "metadata": {
      "needs_background": "light"
     },
     "output_type": "display_data"
    }
   ],
   "source": [
    "#q16\n",
    "scores1 = cross_val_score(model1, train[features_cols], train['POP100'])\n",
    "scores2 = cross_val_score(model2, train[['developed_open','developed_low', 'developed_med']], \n",
    "                      train['POP100'])\n",
    "\n",
    "avg = pd.Series({\"Model 1\": scores1.mean(), \"Model 2\": scores2.mean()})\n",
    "std = pd.Series({\"Model 1\": scores1.std(), \"Model 2\": scores2.std()})\n",
    "ax = avg.plot.bar(yerr=std)\n",
    "ax.set_ylabel(\"R^2 Score\")\n",
    "ax.set_title(\"Model Performance\")"
   ]
  },
  {
   "cell_type": "markdown",
   "id": "6aafb643",
   "metadata": {},
   "source": [
    "### Q17: How does your recommended model score against the test dataset?"
   ]
  },
  {
   "cell_type": "code",
   "execution_count": 56,
   "id": "87fd4a3e",
   "metadata": {},
   "outputs": [
    {
     "data": {
      "text/plain": [
       "0.4486728541665782"
      ]
     },
     "execution_count": 56,
     "metadata": {},
     "output_type": "execute_result"
    }
   ],
   "source": [
    "#q17\n",
    "# Reason why choosing my first model \n",
    "# 1. Higher accuracy \n",
    "# 2. The variance of accuracy score in model1 is higher than model2\n",
    "model1.fit(train[features_cols], train['POP100'])\n",
    "model1.score(test[features_cols], test['POP100'])"
   ]
  },
  {
   "cell_type": "code",
   "execution_count": null,
   "id": "2b352679",
   "metadata": {},
   "outputs": [],
   "source": []
  }
 ],
 "metadata": {
  "kernelspec": {
   "display_name": "Python 3 (ipykernel)",
   "language": "python",
   "name": "python3"
  },
  "language_info": {
   "codemirror_mode": {
    "name": "ipython",
    "version": 3
   },
   "file_extension": ".py",
   "mimetype": "text/x-python",
   "name": "python",
   "nbconvert_exporter": "python",
   "pygments_lexer": "ipython3",
   "version": "3.8.10"
  }
 },
 "nbformat": 4,
 "nbformat_minor": 5
}
